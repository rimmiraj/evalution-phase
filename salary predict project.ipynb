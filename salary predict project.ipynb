{
 "cells": [
  {
   "cell_type": "code",
   "execution_count": 1,
   "id": "12b37213",
   "metadata": {},
   "outputs": [],
   "source": [
    "import numpy as np\n",
    "import pandas as pd\n",
    "import seaborn as sns\n",
    "import matplotlib.pyplot as plt\n",
    "import warnings\n",
    "warnings.filterwarnings('ignore')"
   ]
  },
  {
   "cell_type": "markdown",
   "id": "c9a228c6",
   "metadata": {},
   "source": [
    "# prob.statement-"
   ]
  },
  {
   "cell_type": "markdown",
   "id": "41c9c7a7",
   "metadata": {},
   "source": [
    "find the salary to the employee"
   ]
  },
  {
   "cell_type": "markdown",
   "id": "28792cdc",
   "metadata": {},
   "source": [
    "# load dataset"
   ]
  },
  {
   "cell_type": "code",
   "execution_count": 2,
   "id": "06c95da9",
   "metadata": {},
   "outputs": [],
   "source": [
    "df = pd.read_csv('C:\\\\Users\\\\pc\\\\Desktop\\\\jupyter_notebook\\\\salary_predict.csv')"
   ]
  },
  {
   "cell_type": "code",
   "execution_count": 3,
   "id": "80f778b4",
   "metadata": {},
   "outputs": [
    {
     "data": {
      "text/html": [
       "<div>\n",
       "<style scoped>\n",
       "    .dataframe tbody tr th:only-of-type {\n",
       "        vertical-align: middle;\n",
       "    }\n",
       "\n",
       "    .dataframe tbody tr th {\n",
       "        vertical-align: top;\n",
       "    }\n",
       "\n",
       "    .dataframe thead th {\n",
       "        text-align: right;\n",
       "    }\n",
       "</style>\n",
       "<table border=\"1\" class=\"dataframe\">\n",
       "  <thead>\n",
       "    <tr style=\"text-align: right;\">\n",
       "      <th></th>\n",
       "      <th>rank</th>\n",
       "      <th>discipline</th>\n",
       "      <th>yrs.since.phd</th>\n",
       "      <th>yrs.service</th>\n",
       "      <th>sex</th>\n",
       "      <th>salary</th>\n",
       "    </tr>\n",
       "  </thead>\n",
       "  <tbody>\n",
       "    <tr>\n",
       "      <th>0</th>\n",
       "      <td>Prof</td>\n",
       "      <td>B</td>\n",
       "      <td>19</td>\n",
       "      <td>18</td>\n",
       "      <td>Male</td>\n",
       "      <td>139750</td>\n",
       "    </tr>\n",
       "    <tr>\n",
       "      <th>1</th>\n",
       "      <td>Prof</td>\n",
       "      <td>B</td>\n",
       "      <td>20</td>\n",
       "      <td>16</td>\n",
       "      <td>Male</td>\n",
       "      <td>173200</td>\n",
       "    </tr>\n",
       "    <tr>\n",
       "      <th>2</th>\n",
       "      <td>AsstProf</td>\n",
       "      <td>B</td>\n",
       "      <td>4</td>\n",
       "      <td>3</td>\n",
       "      <td>Male</td>\n",
       "      <td>79750</td>\n",
       "    </tr>\n",
       "    <tr>\n",
       "      <th>3</th>\n",
       "      <td>Prof</td>\n",
       "      <td>B</td>\n",
       "      <td>45</td>\n",
       "      <td>39</td>\n",
       "      <td>Male</td>\n",
       "      <td>115000</td>\n",
       "    </tr>\n",
       "    <tr>\n",
       "      <th>4</th>\n",
       "      <td>Prof</td>\n",
       "      <td>B</td>\n",
       "      <td>40</td>\n",
       "      <td>41</td>\n",
       "      <td>Male</td>\n",
       "      <td>141500</td>\n",
       "    </tr>\n",
       "  </tbody>\n",
       "</table>\n",
       "</div>"
      ],
      "text/plain": [
       "       rank discipline  yrs.since.phd  yrs.service   sex  salary\n",
       "0      Prof          B             19           18  Male  139750\n",
       "1      Prof          B             20           16  Male  173200\n",
       "2  AsstProf          B              4            3  Male   79750\n",
       "3      Prof          B             45           39  Male  115000\n",
       "4      Prof          B             40           41  Male  141500"
      ]
     },
     "execution_count": 3,
     "metadata": {},
     "output_type": "execute_result"
    }
   ],
   "source": [
    "df.head()"
   ]
  },
  {
   "cell_type": "code",
   "execution_count": 4,
   "id": "25b0f493",
   "metadata": {},
   "outputs": [
    {
     "data": {
      "text/plain": [
       "(397, 6)"
      ]
     },
     "execution_count": 4,
     "metadata": {},
     "output_type": "execute_result"
    }
   ],
   "source": [
    "df.shape"
   ]
  },
  {
   "cell_type": "code",
   "execution_count": 5,
   "id": "eecfd964",
   "metadata": {},
   "outputs": [
    {
     "data": {
      "text/plain": [
       "Index(['rank', 'discipline', 'yrs.since.phd', 'yrs.service', 'sex', 'salary'], dtype='object')"
      ]
     },
     "execution_count": 5,
     "metadata": {},
     "output_type": "execute_result"
    }
   ],
   "source": [
    "df.columns"
   ]
  },
  {
   "cell_type": "code",
   "execution_count": 6,
   "id": "a69397b0",
   "metadata": {},
   "outputs": [
    {
     "data": {
      "text/plain": [
       "rank             0\n",
       "discipline       0\n",
       "yrs.since.phd    0\n",
       "yrs.service      0\n",
       "sex              0\n",
       "salary           0\n",
       "dtype: int64"
      ]
     },
     "execution_count": 6,
     "metadata": {},
     "output_type": "execute_result"
    }
   ],
   "source": [
    "df.isnull().sum()"
   ]
  },
  {
   "cell_type": "code",
   "execution_count": 7,
   "id": "0033a0d0",
   "metadata": {},
   "outputs": [
    {
     "data": {
      "text/plain": [
       "0"
      ]
     },
     "execution_count": 7,
     "metadata": {},
     "output_type": "execute_result"
    }
   ],
   "source": [
    "df.isnull().sum().sum()"
   ]
  },
  {
   "cell_type": "code",
   "execution_count": 8,
   "id": "8916dc77",
   "metadata": {},
   "outputs": [
    {
     "data": {
      "text/html": [
       "<div>\n",
       "<style scoped>\n",
       "    .dataframe tbody tr th:only-of-type {\n",
       "        vertical-align: middle;\n",
       "    }\n",
       "\n",
       "    .dataframe tbody tr th {\n",
       "        vertical-align: top;\n",
       "    }\n",
       "\n",
       "    .dataframe thead th {\n",
       "        text-align: right;\n",
       "    }\n",
       "</style>\n",
       "<table border=\"1\" class=\"dataframe\">\n",
       "  <thead>\n",
       "    <tr style=\"text-align: right;\">\n",
       "      <th></th>\n",
       "      <th>yrs.since.phd</th>\n",
       "      <th>yrs.service</th>\n",
       "      <th>salary</th>\n",
       "    </tr>\n",
       "  </thead>\n",
       "  <tbody>\n",
       "    <tr>\n",
       "      <th>count</th>\n",
       "      <td>397.000000</td>\n",
       "      <td>397.000000</td>\n",
       "      <td>397.000000</td>\n",
       "    </tr>\n",
       "    <tr>\n",
       "      <th>mean</th>\n",
       "      <td>22.314861</td>\n",
       "      <td>17.614610</td>\n",
       "      <td>113706.458438</td>\n",
       "    </tr>\n",
       "    <tr>\n",
       "      <th>std</th>\n",
       "      <td>12.887003</td>\n",
       "      <td>13.006024</td>\n",
       "      <td>30289.038695</td>\n",
       "    </tr>\n",
       "    <tr>\n",
       "      <th>min</th>\n",
       "      <td>1.000000</td>\n",
       "      <td>0.000000</td>\n",
       "      <td>57800.000000</td>\n",
       "    </tr>\n",
       "    <tr>\n",
       "      <th>25%</th>\n",
       "      <td>12.000000</td>\n",
       "      <td>7.000000</td>\n",
       "      <td>91000.000000</td>\n",
       "    </tr>\n",
       "    <tr>\n",
       "      <th>50%</th>\n",
       "      <td>21.000000</td>\n",
       "      <td>16.000000</td>\n",
       "      <td>107300.000000</td>\n",
       "    </tr>\n",
       "    <tr>\n",
       "      <th>75%</th>\n",
       "      <td>32.000000</td>\n",
       "      <td>27.000000</td>\n",
       "      <td>134185.000000</td>\n",
       "    </tr>\n",
       "    <tr>\n",
       "      <th>max</th>\n",
       "      <td>56.000000</td>\n",
       "      <td>60.000000</td>\n",
       "      <td>231545.000000</td>\n",
       "    </tr>\n",
       "  </tbody>\n",
       "</table>\n",
       "</div>"
      ],
      "text/plain": [
       "       yrs.since.phd  yrs.service         salary\n",
       "count     397.000000   397.000000     397.000000\n",
       "mean       22.314861    17.614610  113706.458438\n",
       "std        12.887003    13.006024   30289.038695\n",
       "min         1.000000     0.000000   57800.000000\n",
       "25%        12.000000     7.000000   91000.000000\n",
       "50%        21.000000    16.000000  107300.000000\n",
       "75%        32.000000    27.000000  134185.000000\n",
       "max        56.000000    60.000000  231545.000000"
      ]
     },
     "execution_count": 8,
     "metadata": {},
     "output_type": "execute_result"
    }
   ],
   "source": [
    "df.describe()"
   ]
  },
  {
   "cell_type": "code",
   "execution_count": 9,
   "id": "bd121991",
   "metadata": {},
   "outputs": [
    {
     "name": "stdout",
     "output_type": "stream",
     "text": [
      "<class 'pandas.core.frame.DataFrame'>\n",
      "RangeIndex: 397 entries, 0 to 396\n",
      "Data columns (total 6 columns):\n",
      " #   Column         Non-Null Count  Dtype \n",
      "---  ------         --------------  ----- \n",
      " 0   rank           397 non-null    object\n",
      " 1   discipline     397 non-null    object\n",
      " 2   yrs.since.phd  397 non-null    int64 \n",
      " 3   yrs.service    397 non-null    int64 \n",
      " 4   sex            397 non-null    object\n",
      " 5   salary         397 non-null    int64 \n",
      "dtypes: int64(3), object(3)\n",
      "memory usage: 14.0+ KB\n"
     ]
    }
   ],
   "source": [
    "df.info()"
   ]
  },
  {
   "cell_type": "code",
   "execution_count": 10,
   "id": "12033a1d",
   "metadata": {},
   "outputs": [
    {
     "data": {
      "text/plain": [
       "<AxesSubplot:xlabel='salary', ylabel='count'>"
      ]
     },
     "execution_count": 10,
     "metadata": {},
     "output_type": "execute_result"
    },
    {
     "data": {
      "image/png": "[encoded data removed]",
      "text/plain": [
       "<Figure size 432x288 with 1 Axes>"
      ]
     },
     "metadata": {
      "needs_background": "light"
     },
     "output_type": "display_data"
    }
   ],
   "source": [
    "sns.countplot(x = 'salary',data=df)"
   ]
  },
  {
   "cell_type": "code",
   "execution_count": 11,
   "id": "b2444e4e",
   "metadata": {},
   "outputs": [
    {
     "data": {
      "text/plain": [
       "<AxesSubplot:xlabel='salary', ylabel='yrs.service'>"
      ]
     },
     "execution_count": 11,
     "metadata": {},
     "output_type": "execute_result"
    },
    {
     "data": {
      "image/png": "[encoded data removed]",
      "text/plain": [
       "<Figure size 432x288 with 1 Axes>"
      ]
     },
     "metadata": {
      "needs_background": "light"
     },
     "output_type": "display_data"
    }
   ],
   "source": [
    "sns.regplot(x = 'salary',y='yrs.service',data=df)"
   ]
  },
  {
   "cell_type": "code",
   "execution_count": 12,
   "id": "7dd64826",
   "metadata": {},
   "outputs": [
    {
     "data": {
      "text/plain": [
       "<AxesSubplot:xlabel='rank', ylabel='salary'>"
      ]
     },
     "execution_count": 12,
     "metadata": {},
     "output_type": "execute_result"
    },
    {
     "data": {
      "image/png": "[encoded data removed]",
      "text/plain": [
       "<Figure size 432x288 with 1 Axes>"
      ]
     },
     "metadata": {
      "needs_background": "light"
     },
     "output_type": "display_data"
    }
   ],
   "source": [
    "sns.scatterplot(x = 'rank',y='salary',data=df)"
   ]
  },
  {
   "cell_type": "markdown",
   "id": "63c79626",
   "metadata": {},
   "source": [
    "prof has higher salary othan than rank"
   ]
  },
  {
   "cell_type": "code",
   "execution_count": 13,
   "id": "dc9f729c",
   "metadata": {},
   "outputs": [
    {
     "data": {
      "text/plain": [
       "<AxesSubplot:xlabel='sex', ylabel='salary'>"
      ]
     },
     "execution_count": 13,
     "metadata": {},
     "output_type": "execute_result"
    },
    {
     "data": {
      "image/png": "[encoded data removed]",
      "text/plain": [
       "<Figure size 432x288 with 1 Axes>"
      ]
     },
     "metadata": {
      "needs_background": "light"
     },
     "output_type": "display_data"
    }
   ],
   "source": [
    "sns.barplot(x='sex',y='salary',data=df,n_boot=1000,color='g',saturation=0.75)"
   ]
  },
  {
   "cell_type": "markdown",
   "id": "5c1eec3f",
   "metadata": {},
   "source": [
    "we can see both are diffrent adccept the salary but male has higher salary"
   ]
  },
  {
   "cell_type": "code",
   "execution_count": 14,
   "id": "3cb825c8",
   "metadata": {},
   "outputs": [
    {
     "data": {
      "text/html": [
       "<div>\n",
       "<style scoped>\n",
       "    .dataframe tbody tr th:only-of-type {\n",
       "        vertical-align: middle;\n",
       "    }\n",
       "\n",
       "    .dataframe tbody tr th {\n",
       "        vertical-align: top;\n",
       "    }\n",
       "\n",
       "    .dataframe thead th {\n",
       "        text-align: right;\n",
       "    }\n",
       "</style>\n",
       "<table border=\"1\" class=\"dataframe\">\n",
       "  <thead>\n",
       "    <tr style=\"text-align: right;\">\n",
       "      <th></th>\n",
       "      <th>yrs.since.phd</th>\n",
       "      <th>yrs.service</th>\n",
       "      <th>salary</th>\n",
       "    </tr>\n",
       "  </thead>\n",
       "  <tbody>\n",
       "    <tr>\n",
       "      <th>yrs.since.phd</th>\n",
       "      <td>1.000000</td>\n",
       "      <td>0.909649</td>\n",
       "      <td>0.419231</td>\n",
       "    </tr>\n",
       "    <tr>\n",
       "      <th>yrs.service</th>\n",
       "      <td>0.909649</td>\n",
       "      <td>1.000000</td>\n",
       "      <td>0.334745</td>\n",
       "    </tr>\n",
       "    <tr>\n",
       "      <th>salary</th>\n",
       "      <td>0.419231</td>\n",
       "      <td>0.334745</td>\n",
       "      <td>1.000000</td>\n",
       "    </tr>\n",
       "  </tbody>\n",
       "</table>\n",
       "</div>"
      ],
      "text/plain": [
       "               yrs.since.phd  yrs.service    salary\n",
       "yrs.since.phd       1.000000     0.909649  0.419231\n",
       "yrs.service         0.909649     1.000000  0.334745\n",
       "salary              0.419231     0.334745  1.000000"
      ]
     },
     "execution_count": 14,
     "metadata": {},
     "output_type": "execute_result"
    }
   ],
   "source": [
    "df.corr()"
   ]
  },
  {
   "cell_type": "code",
   "execution_count": 15,
   "id": "e96ac17e",
   "metadata": {},
   "outputs": [
    {
     "data": {
      "text/plain": [
       "<AxesSubplot:>"
      ]
     },
     "execution_count": 15,
     "metadata": {},
     "output_type": "execute_result"
    },
    {
     "data": {
      "image/png": "[encoded data removed]",
      "text/plain": [
       "<Figure size 432x288 with 2 Axes>"
      ]
     },
     "metadata": {
      "needs_background": "light"
     },
     "output_type": "display_data"
    }
   ],
   "source": [
    "sns.heatmap(df.corr(),annot=True)"
   ]
  },
  {
   "cell_type": "markdown",
   "id": "6703f4ef",
   "metadata": {},
   "source": [
    "yrs.since.phd and yrs.service highly positive correlation"
   ]
  },
  {
   "cell_type": "markdown",
   "id": "1188bf36",
   "metadata": {},
   "source": [
    "so remove the one features"
   ]
  },
  {
   "cell_type": "code",
   "execution_count": 16,
   "id": "da2055ce",
   "metadata": {},
   "outputs": [],
   "source": [
    "df.drop(['yrs.since.phd'],axis=1,inplace=True)"
   ]
  },
  {
   "cell_type": "code",
   "execution_count": 17,
   "id": "edbf8a3a",
   "metadata": {},
   "outputs": [
    {
     "data": {
      "text/html": [
       "<div>\n",
       "<style scoped>\n",
       "    .dataframe tbody tr th:only-of-type {\n",
       "        vertical-align: middle;\n",
       "    }\n",
       "\n",
       "    .dataframe tbody tr th {\n",
       "        vertical-align: top;\n",
       "    }\n",
       "\n",
       "    .dataframe thead th {\n",
       "        text-align: right;\n",
       "    }\n",
       "</style>\n",
       "<table border=\"1\" class=\"dataframe\">\n",
       "  <thead>\n",
       "    <tr style=\"text-align: right;\">\n",
       "      <th></th>\n",
       "      <th>rank</th>\n",
       "      <th>discipline</th>\n",
       "      <th>yrs.service</th>\n",
       "      <th>sex</th>\n",
       "      <th>salary</th>\n",
       "    </tr>\n",
       "  </thead>\n",
       "  <tbody>\n",
       "    <tr>\n",
       "      <th>0</th>\n",
       "      <td>Prof</td>\n",
       "      <td>B</td>\n",
       "      <td>18</td>\n",
       "      <td>Male</td>\n",
       "      <td>139750</td>\n",
       "    </tr>\n",
       "    <tr>\n",
       "      <th>1</th>\n",
       "      <td>Prof</td>\n",
       "      <td>B</td>\n",
       "      <td>16</td>\n",
       "      <td>Male</td>\n",
       "      <td>173200</td>\n",
       "    </tr>\n",
       "    <tr>\n",
       "      <th>2</th>\n",
       "      <td>AsstProf</td>\n",
       "      <td>B</td>\n",
       "      <td>3</td>\n",
       "      <td>Male</td>\n",
       "      <td>79750</td>\n",
       "    </tr>\n",
       "    <tr>\n",
       "      <th>3</th>\n",
       "      <td>Prof</td>\n",
       "      <td>B</td>\n",
       "      <td>39</td>\n",
       "      <td>Male</td>\n",
       "      <td>115000</td>\n",
       "    </tr>\n",
       "    <tr>\n",
       "      <th>4</th>\n",
       "      <td>Prof</td>\n",
       "      <td>B</td>\n",
       "      <td>41</td>\n",
       "      <td>Male</td>\n",
       "      <td>141500</td>\n",
       "    </tr>\n",
       "    <tr>\n",
       "      <th>...</th>\n",
       "      <td>...</td>\n",
       "      <td>...</td>\n",
       "      <td>...</td>\n",
       "      <td>...</td>\n",
       "      <td>...</td>\n",
       "    </tr>\n",
       "    <tr>\n",
       "      <th>392</th>\n",
       "      <td>Prof</td>\n",
       "      <td>A</td>\n",
       "      <td>30</td>\n",
       "      <td>Male</td>\n",
       "      <td>103106</td>\n",
       "    </tr>\n",
       "    <tr>\n",
       "      <th>393</th>\n",
       "      <td>Prof</td>\n",
       "      <td>A</td>\n",
       "      <td>19</td>\n",
       "      <td>Male</td>\n",
       "      <td>150564</td>\n",
       "    </tr>\n",
       "    <tr>\n",
       "      <th>394</th>\n",
       "      <td>Prof</td>\n",
       "      <td>A</td>\n",
       "      <td>25</td>\n",
       "      <td>Male</td>\n",
       "      <td>101738</td>\n",
       "    </tr>\n",
       "    <tr>\n",
       "      <th>395</th>\n",
       "      <td>Prof</td>\n",
       "      <td>A</td>\n",
       "      <td>15</td>\n",
       "      <td>Male</td>\n",
       "      <td>95329</td>\n",
       "    </tr>\n",
       "    <tr>\n",
       "      <th>396</th>\n",
       "      <td>AsstProf</td>\n",
       "      <td>A</td>\n",
       "      <td>4</td>\n",
       "      <td>Male</td>\n",
       "      <td>81035</td>\n",
       "    </tr>\n",
       "  </tbody>\n",
       "</table>\n",
       "<p>397 rows × 5 columns</p>\n",
       "</div>"
      ],
      "text/plain": [
       "         rank discipline  yrs.service   sex  salary\n",
       "0        Prof          B           18  Male  139750\n",
       "1        Prof          B           16  Male  173200\n",
       "2    AsstProf          B            3  Male   79750\n",
       "3        Prof          B           39  Male  115000\n",
       "4        Prof          B           41  Male  141500\n",
       "..        ...        ...          ...   ...     ...\n",
       "392      Prof          A           30  Male  103106\n",
       "393      Prof          A           19  Male  150564\n",
       "394      Prof          A           25  Male  101738\n",
       "395      Prof          A           15  Male   95329\n",
       "396  AsstProf          A            4  Male   81035\n",
       "\n",
       "[397 rows x 5 columns]"
      ]
     },
     "execution_count": 17,
     "metadata": {},
     "output_type": "execute_result"
    }
   ],
   "source": [
    "df"
   ]
  },
  {
   "cell_type": "code",
   "execution_count": 18,
   "id": "068aa246",
   "metadata": {},
   "outputs": [
    {
     "data": {
      "text/html": [
       "<div>\n",
       "<style scoped>\n",
       "    .dataframe tbody tr th:only-of-type {\n",
       "        vertical-align: middle;\n",
       "    }\n",
       "\n",
       "    .dataframe tbody tr th {\n",
       "        vertical-align: top;\n",
       "    }\n",
       "\n",
       "    .dataframe thead th {\n",
       "        text-align: right;\n",
       "    }\n",
       "</style>\n",
       "<table border=\"1\" class=\"dataframe\">\n",
       "  <thead>\n",
       "    <tr style=\"text-align: right;\">\n",
       "      <th></th>\n",
       "      <th>yrs.service</th>\n",
       "      <th>salary</th>\n",
       "    </tr>\n",
       "  </thead>\n",
       "  <tbody>\n",
       "    <tr>\n",
       "      <th>yrs.service</th>\n",
       "      <td>1.000000</td>\n",
       "      <td>0.334745</td>\n",
       "    </tr>\n",
       "    <tr>\n",
       "      <th>salary</th>\n",
       "      <td>0.334745</td>\n",
       "      <td>1.000000</td>\n",
       "    </tr>\n",
       "  </tbody>\n",
       "</table>\n",
       "</div>"
      ],
      "text/plain": [
       "             yrs.service    salary\n",
       "yrs.service     1.000000  0.334745\n",
       "salary          0.334745  1.000000"
      ]
     },
     "execution_count": 18,
     "metadata": {},
     "output_type": "execute_result"
    }
   ],
   "source": [
    "df.corr()"
   ]
  },
  {
   "cell_type": "code",
   "execution_count": 19,
   "id": "46a1b72b",
   "metadata": {},
   "outputs": [
    {
     "data": {
      "text/plain": [
       "<AxesSubplot:>"
      ]
     },
     "execution_count": 19,
     "metadata": {},
     "output_type": "execute_result"
    },
    {
     "data": {
      "image/png": "[encoded data removed]",
      "text/plain": [
       "<Figure size 432x288 with 2 Axes>"
      ]
     },
     "metadata": {
      "needs_background": "light"
     },
     "output_type": "display_data"
    }
   ],
   "source": [
    "sns.heatmap(df.corr(),annot=True)"
   ]
  },
  {
   "cell_type": "markdown",
   "id": "22736611",
   "metadata": {},
   "source": [
    "in our data acoording my threshold 0.8 so no heavy  positive correlation"
   ]
  },
  {
   "cell_type": "code",
   "execution_count": 20,
   "id": "836a36a1",
   "metadata": {},
   "outputs": [
    {
     "data": {
      "text/plain": [
       "Index(['rank', 'discipline', 'yrs.service', 'sex', 'salary'], dtype='object')"
      ]
     },
     "execution_count": 20,
     "metadata": {},
     "output_type": "execute_result"
    }
   ],
   "source": [
    "df.columns"
   ]
  },
  {
   "cell_type": "markdown",
   "id": "81d63957",
   "metadata": {},
   "source": [
    "object data convert numericale data from one hot code"
   ]
  },
  {
   "cell_type": "code",
   "execution_count": 21,
   "id": "d5abdbfb",
   "metadata": {},
   "outputs": [],
   "source": [
    "df = pd.get_dummies(df)"
   ]
  },
  {
   "cell_type": "code",
   "execution_count": 22,
   "id": "9302e203",
   "metadata": {},
   "outputs": [
    {
     "data": {
      "text/html": [
       "<div>\n",
       "<style scoped>\n",
       "    .dataframe tbody tr th:only-of-type {\n",
       "        vertical-align: middle;\n",
       "    }\n",
       "\n",
       "    .dataframe tbody tr th {\n",
       "        vertical-align: top;\n",
       "    }\n",
       "\n",
       "    .dataframe thead th {\n",
       "        text-align: right;\n",
       "    }\n",
       "</style>\n",
       "<table border=\"1\" class=\"dataframe\">\n",
       "  <thead>\n",
       "    <tr style=\"text-align: right;\">\n",
       "      <th></th>\n",
       "      <th>yrs.service</th>\n",
       "      <th>salary</th>\n",
       "      <th>rank_AssocProf</th>\n",
       "      <th>rank_AsstProf</th>\n",
       "      <th>rank_Prof</th>\n",
       "      <th>discipline_A</th>\n",
       "      <th>discipline_B</th>\n",
       "      <th>sex_Female</th>\n",
       "      <th>sex_Male</th>\n",
       "    </tr>\n",
       "  </thead>\n",
       "  <tbody>\n",
       "    <tr>\n",
       "      <th>0</th>\n",
       "      <td>18</td>\n",
       "      <td>139750</td>\n",
       "      <td>0</td>\n",
       "      <td>0</td>\n",
       "      <td>1</td>\n",
       "      <td>0</td>\n",
       "      <td>1</td>\n",
       "      <td>0</td>\n",
       "      <td>1</td>\n",
       "    </tr>\n",
       "    <tr>\n",
       "      <th>1</th>\n",
       "      <td>16</td>\n",
       "      <td>173200</td>\n",
       "      <td>0</td>\n",
       "      <td>0</td>\n",
       "      <td>1</td>\n",
       "      <td>0</td>\n",
       "      <td>1</td>\n",
       "      <td>0</td>\n",
       "      <td>1</td>\n",
       "    </tr>\n",
       "    <tr>\n",
       "      <th>2</th>\n",
       "      <td>3</td>\n",
       "      <td>79750</td>\n",
       "      <td>0</td>\n",
       "      <td>1</td>\n",
       "      <td>0</td>\n",
       "      <td>0</td>\n",
       "      <td>1</td>\n",
       "      <td>0</td>\n",
       "      <td>1</td>\n",
       "    </tr>\n",
       "    <tr>\n",
       "      <th>3</th>\n",
       "      <td>39</td>\n",
       "      <td>115000</td>\n",
       "      <td>0</td>\n",
       "      <td>0</td>\n",
       "      <td>1</td>\n",
       "      <td>0</td>\n",
       "      <td>1</td>\n",
       "      <td>0</td>\n",
       "      <td>1</td>\n",
       "    </tr>\n",
       "    <tr>\n",
       "      <th>4</th>\n",
       "      <td>41</td>\n",
       "      <td>141500</td>\n",
       "      <td>0</td>\n",
       "      <td>0</td>\n",
       "      <td>1</td>\n",
       "      <td>0</td>\n",
       "      <td>1</td>\n",
       "      <td>0</td>\n",
       "      <td>1</td>\n",
       "    </tr>\n",
       "    <tr>\n",
       "      <th>...</th>\n",
       "      <td>...</td>\n",
       "      <td>...</td>\n",
       "      <td>...</td>\n",
       "      <td>...</td>\n",
       "      <td>...</td>\n",
       "      <td>...</td>\n",
       "      <td>...</td>\n",
       "      <td>...</td>\n",
       "      <td>...</td>\n",
       "    </tr>\n",
       "    <tr>\n",
       "      <th>392</th>\n",
       "      <td>30</td>\n",
       "      <td>103106</td>\n",
       "      <td>0</td>\n",
       "      <td>0</td>\n",
       "      <td>1</td>\n",
       "      <td>1</td>\n",
       "      <td>0</td>\n",
       "      <td>0</td>\n",
       "      <td>1</td>\n",
       "    </tr>\n",
       "    <tr>\n",
       "      <th>393</th>\n",
       "      <td>19</td>\n",
       "      <td>150564</td>\n",
       "      <td>0</td>\n",
       "      <td>0</td>\n",
       "      <td>1</td>\n",
       "      <td>1</td>\n",
       "      <td>0</td>\n",
       "      <td>0</td>\n",
       "      <td>1</td>\n",
       "    </tr>\n",
       "    <tr>\n",
       "      <th>394</th>\n",
       "      <td>25</td>\n",
       "      <td>101738</td>\n",
       "      <td>0</td>\n",
       "      <td>0</td>\n",
       "      <td>1</td>\n",
       "      <td>1</td>\n",
       "      <td>0</td>\n",
       "      <td>0</td>\n",
       "      <td>1</td>\n",
       "    </tr>\n",
       "    <tr>\n",
       "      <th>395</th>\n",
       "      <td>15</td>\n",
       "      <td>95329</td>\n",
       "      <td>0</td>\n",
       "      <td>0</td>\n",
       "      <td>1</td>\n",
       "      <td>1</td>\n",
       "      <td>0</td>\n",
       "      <td>0</td>\n",
       "      <td>1</td>\n",
       "    </tr>\n",
       "    <tr>\n",
       "      <th>396</th>\n",
       "      <td>4</td>\n",
       "      <td>81035</td>\n",
       "      <td>0</td>\n",
       "      <td>1</td>\n",
       "      <td>0</td>\n",
       "      <td>1</td>\n",
       "      <td>0</td>\n",
       "      <td>0</td>\n",
       "      <td>1</td>\n",
       "    </tr>\n",
       "  </tbody>\n",
       "</table>\n",
       "<p>397 rows × 9 columns</p>\n",
       "</div>"
      ],
      "text/plain": [
       "     yrs.service  salary  rank_AssocProf  rank_AsstProf  rank_Prof  \\\n",
       "0             18  139750               0              0          1   \n",
       "1             16  173200               0              0          1   \n",
       "2              3   79750               0              1          0   \n",
       "3             39  115000               0              0          1   \n",
       "4             41  141500               0              0          1   \n",
       "..           ...     ...             ...            ...        ...   \n",
       "392           30  103106               0              0          1   \n",
       "393           19  150564               0              0          1   \n",
       "394           25  101738               0              0          1   \n",
       "395           15   95329               0              0          1   \n",
       "396            4   81035               0              1          0   \n",
       "\n",
       "     discipline_A  discipline_B  sex_Female  sex_Male  \n",
       "0               0             1           0         1  \n",
       "1               0             1           0         1  \n",
       "2               0             1           0         1  \n",
       "3               0             1           0         1  \n",
       "4               0             1           0         1  \n",
       "..            ...           ...         ...       ...  \n",
       "392             1             0           0         1  \n",
       "393             1             0           0         1  \n",
       "394             1             0           0         1  \n",
       "395             1             0           0         1  \n",
       "396             1             0           0         1  \n",
       "\n",
       "[397 rows x 9 columns]"
      ]
     },
     "execution_count": 22,
     "metadata": {},
     "output_type": "execute_result"
    }
   ],
   "source": [
    "df"
   ]
  },
  {
   "cell_type": "markdown",
   "id": "0f9f8dc0",
   "metadata": {},
   "source": [
    "# check the distribution"
   ]
  },
  {
   "cell_type": "code",
   "execution_count": 23,
   "id": "51c0ab0f",
   "metadata": {},
   "outputs": [
    {
     "data": {
      "image/png": "[encoded data removed]",
      "text/plain": [
       "<Figure size 2160x1440 with 9 Axes>"
      ]
     },
     "metadata": {
      "needs_background": "light"
     },
     "output_type": "display_data"
    }
   ],
   "source": [
    "plt.figure(figsize=(30,20))\n",
    "plotnumber=1\n",
    "\n",
    "for column in df:\n",
    "    if plotnumber<=9:\n",
    "        ax = plt.subplot(3,3,plotnumber)\n",
    "        plt.hist(df[column],bins=30)\n",
    "        plt.xlabel(column,fontsize=25)\n",
    "        \n",
    "        \n",
    "        plotnumber+=1\n",
    "plt.tight_layout()  "
   ]
  },
  {
   "cell_type": "code",
   "execution_count": 24,
   "id": "ea7f99f7",
   "metadata": {},
   "outputs": [
    {
     "data": {
      "image/png": "[encoded data removed]",
      "text/plain": [
       "<Figure size 1440x1800 with 9 Axes>"
      ]
     },
     "metadata": {},
     "output_type": "display_data"
    }
   ],
   "source": [
    "plt.figure(figsize=(20,25),facecolor='yellow')\n",
    "plotnumber = 1\n",
    "for column in df:\n",
    "    if plotnumber<=9:\n",
    "        ax = plt.subplot(3,3,plotnumber)\n",
    "        sns.distplot(df[column])\n",
    "        plt.xlabel(column,fontsize=20)\n",
    "        \n",
    "        \n",
    "        \n",
    "        plotnumber+=1\n",
    "plt.show()"
   ]
  },
  {
   "cell_type": "code",
   "execution_count": 25,
   "id": "0aedc544",
   "metadata": {},
   "outputs": [
    {
     "data": {
      "text/plain": [
       "yrs.service       0.650569\n",
       "salary            0.714568\n",
       "rank_AssocProf    1.849635\n",
       "rank_AsstProf     1.775445\n",
       "rank_Prof        -0.725944\n",
       "discipline_A      0.177684\n",
       "discipline_B     -0.177684\n",
       "sex_Female        2.709958\n",
       "sex_Male         -2.709958\n",
       "dtype: float64"
      ]
     },
     "execution_count": 25,
     "metadata": {},
     "output_type": "execute_result"
    }
   ],
   "source": [
    "df.skew()"
   ]
  },
  {
   "cell_type": "code",
   "execution_count": 26,
   "id": "ad6b6623",
   "metadata": {},
   "outputs": [],
   "source": [
    "df['yrs.service'] = np.sqrt(df['yrs.service'])"
   ]
  },
  {
   "cell_type": "code",
   "execution_count": 27,
   "id": "c76c4c92",
   "metadata": {},
   "outputs": [],
   "source": [
    "df['rank_AssocProf'] = np.sqrt(df['rank_AssocProf'])"
   ]
  },
  {
   "cell_type": "code",
   "execution_count": 28,
   "id": "117205bb",
   "metadata": {},
   "outputs": [],
   "source": [
    "df['rank_AsstProf'] = np.sqrt(df['rank_AsstProf'])"
   ]
  },
  {
   "cell_type": "code",
   "execution_count": 29,
   "id": "7125b7ee",
   "metadata": {},
   "outputs": [
    {
     "data": {
      "text/html": [
       "<div>\n",
       "<style scoped>\n",
       "    .dataframe tbody tr th:only-of-type {\n",
       "        vertical-align: middle;\n",
       "    }\n",
       "\n",
       "    .dataframe tbody tr th {\n",
       "        vertical-align: top;\n",
       "    }\n",
       "\n",
       "    .dataframe thead th {\n",
       "        text-align: right;\n",
       "    }\n",
       "</style>\n",
       "<table border=\"1\" class=\"dataframe\">\n",
       "  <thead>\n",
       "    <tr style=\"text-align: right;\">\n",
       "      <th></th>\n",
       "      <th>yrs.service</th>\n",
       "      <th>salary</th>\n",
       "      <th>rank_AssocProf</th>\n",
       "      <th>rank_AsstProf</th>\n",
       "      <th>rank_Prof</th>\n",
       "      <th>discipline_A</th>\n",
       "      <th>discipline_B</th>\n",
       "      <th>sex_Female</th>\n",
       "      <th>sex_Male</th>\n",
       "    </tr>\n",
       "  </thead>\n",
       "  <tbody>\n",
       "    <tr>\n",
       "      <th>0</th>\n",
       "      <td>4.242641</td>\n",
       "      <td>139750</td>\n",
       "      <td>0.0</td>\n",
       "      <td>0.0</td>\n",
       "      <td>1</td>\n",
       "      <td>0</td>\n",
       "      <td>1</td>\n",
       "      <td>0</td>\n",
       "      <td>1</td>\n",
       "    </tr>\n",
       "    <tr>\n",
       "      <th>1</th>\n",
       "      <td>4.000000</td>\n",
       "      <td>173200</td>\n",
       "      <td>0.0</td>\n",
       "      <td>0.0</td>\n",
       "      <td>1</td>\n",
       "      <td>0</td>\n",
       "      <td>1</td>\n",
       "      <td>0</td>\n",
       "      <td>1</td>\n",
       "    </tr>\n",
       "    <tr>\n",
       "      <th>2</th>\n",
       "      <td>1.732051</td>\n",
       "      <td>79750</td>\n",
       "      <td>0.0</td>\n",
       "      <td>1.0</td>\n",
       "      <td>0</td>\n",
       "      <td>0</td>\n",
       "      <td>1</td>\n",
       "      <td>0</td>\n",
       "      <td>1</td>\n",
       "    </tr>\n",
       "    <tr>\n",
       "      <th>3</th>\n",
       "      <td>6.244998</td>\n",
       "      <td>115000</td>\n",
       "      <td>0.0</td>\n",
       "      <td>0.0</td>\n",
       "      <td>1</td>\n",
       "      <td>0</td>\n",
       "      <td>1</td>\n",
       "      <td>0</td>\n",
       "      <td>1</td>\n",
       "    </tr>\n",
       "    <tr>\n",
       "      <th>4</th>\n",
       "      <td>6.403124</td>\n",
       "      <td>141500</td>\n",
       "      <td>0.0</td>\n",
       "      <td>0.0</td>\n",
       "      <td>1</td>\n",
       "      <td>0</td>\n",
       "      <td>1</td>\n",
       "      <td>0</td>\n",
       "      <td>1</td>\n",
       "    </tr>\n",
       "    <tr>\n",
       "      <th>...</th>\n",
       "      <td>...</td>\n",
       "      <td>...</td>\n",
       "      <td>...</td>\n",
       "      <td>...</td>\n",
       "      <td>...</td>\n",
       "      <td>...</td>\n",
       "      <td>...</td>\n",
       "      <td>...</td>\n",
       "      <td>...</td>\n",
       "    </tr>\n",
       "    <tr>\n",
       "      <th>392</th>\n",
       "      <td>5.477226</td>\n",
       "      <td>103106</td>\n",
       "      <td>0.0</td>\n",
       "      <td>0.0</td>\n",
       "      <td>1</td>\n",
       "      <td>1</td>\n",
       "      <td>0</td>\n",
       "      <td>0</td>\n",
       "      <td>1</td>\n",
       "    </tr>\n",
       "    <tr>\n",
       "      <th>393</th>\n",
       "      <td>4.358899</td>\n",
       "      <td>150564</td>\n",
       "      <td>0.0</td>\n",
       "      <td>0.0</td>\n",
       "      <td>1</td>\n",
       "      <td>1</td>\n",
       "      <td>0</td>\n",
       "      <td>0</td>\n",
       "      <td>1</td>\n",
       "    </tr>\n",
       "    <tr>\n",
       "      <th>394</th>\n",
       "      <td>5.000000</td>\n",
       "      <td>101738</td>\n",
       "      <td>0.0</td>\n",
       "      <td>0.0</td>\n",
       "      <td>1</td>\n",
       "      <td>1</td>\n",
       "      <td>0</td>\n",
       "      <td>0</td>\n",
       "      <td>1</td>\n",
       "    </tr>\n",
       "    <tr>\n",
       "      <th>395</th>\n",
       "      <td>3.872983</td>\n",
       "      <td>95329</td>\n",
       "      <td>0.0</td>\n",
       "      <td>0.0</td>\n",
       "      <td>1</td>\n",
       "      <td>1</td>\n",
       "      <td>0</td>\n",
       "      <td>0</td>\n",
       "      <td>1</td>\n",
       "    </tr>\n",
       "    <tr>\n",
       "      <th>396</th>\n",
       "      <td>2.000000</td>\n",
       "      <td>81035</td>\n",
       "      <td>0.0</td>\n",
       "      <td>1.0</td>\n",
       "      <td>0</td>\n",
       "      <td>1</td>\n",
       "      <td>0</td>\n",
       "      <td>0</td>\n",
       "      <td>1</td>\n",
       "    </tr>\n",
       "  </tbody>\n",
       "</table>\n",
       "<p>397 rows × 9 columns</p>\n",
       "</div>"
      ],
      "text/plain": [
       "     yrs.service  salary  rank_AssocProf  rank_AsstProf  rank_Prof  \\\n",
       "0       4.242641  139750             0.0            0.0          1   \n",
       "1       4.000000  173200             0.0            0.0          1   \n",
       "2       1.732051   79750             0.0            1.0          0   \n",
       "3       6.244998  115000             0.0            0.0          1   \n",
       "4       6.403124  141500             0.0            0.0          1   \n",
       "..           ...     ...             ...            ...        ...   \n",
       "392     5.477226  103106             0.0            0.0          1   \n",
       "393     4.358899  150564             0.0            0.0          1   \n",
       "394     5.000000  101738             0.0            0.0          1   \n",
       "395     3.872983   95329             0.0            0.0          1   \n",
       "396     2.000000   81035             0.0            1.0          0   \n",
       "\n",
       "     discipline_A  discipline_B  sex_Female  sex_Male  \n",
       "0               0             1           0         1  \n",
       "1               0             1           0         1  \n",
       "2               0             1           0         1  \n",
       "3               0             1           0         1  \n",
       "4               0             1           0         1  \n",
       "..            ...           ...         ...       ...  \n",
       "392             1             0           0         1  \n",
       "393             1             0           0         1  \n",
       "394             1             0           0         1  \n",
       "395             1             0           0         1  \n",
       "396             1             0           0         1  \n",
       "\n",
       "[397 rows x 9 columns]"
      ]
     },
     "execution_count": 29,
     "metadata": {},
     "output_type": "execute_result"
    }
   ],
   "source": [
    "df"
   ]
  },
  {
   "cell_type": "code",
   "execution_count": 30,
   "id": "45e443a2",
   "metadata": {},
   "outputs": [
    {
     "data": {
      "image/png": "[encoded data removed]",
      "text/plain": [
       "<Figure size 1440x1800 with 9 Axes>"
      ]
     },
     "metadata": {},
     "output_type": "display_data"
    }
   ],
   "source": [
    "plt.figure(figsize=(20,25),facecolor='yellow')\n",
    "plotnumber = 1\n",
    "for column in df:\n",
    "    if plotnumber<=9:\n",
    "        ax = plt.subplot(3,3,plotnumber)\n",
    "        sns.distplot(df[column])\n",
    "        plt.xlabel(column,fontsize=20)\n",
    "        \n",
    "        \n",
    "        \n",
    "        plotnumber+=1\n",
    "plt.show()"
   ]
  },
  {
   "cell_type": "code",
   "execution_count": 31,
   "id": "ef65d13d",
   "metadata": {},
   "outputs": [
    {
     "data": {
      "text/plain": [
       "-0.16035285418029294"
      ]
     },
     "execution_count": 31,
     "metadata": {},
     "output_type": "execute_result"
    }
   ],
   "source": [
    "df['yrs.service'].skew()"
   ]
  },
  {
   "cell_type": "code",
   "execution_count": 32,
   "id": "ef94b73c",
   "metadata": {},
   "outputs": [
    {
     "data": {
      "text/plain": [
       "yrs.service      -0.160353\n",
       "salary            0.714568\n",
       "rank_AssocProf    1.850586\n",
       "rank_AsstProf     1.776367\n",
       "rank_Prof        -0.725944\n",
       "discipline_A      0.177684\n",
       "discipline_B     -0.177684\n",
       "sex_Female        2.709958\n",
       "sex_Male         -2.709958\n",
       "dtype: float64"
      ]
     },
     "execution_count": 32,
     "metadata": {},
     "output_type": "execute_result"
    }
   ],
   "source": [
    "df.skew()"
   ]
  },
  {
   "cell_type": "code",
   "execution_count": 33,
   "id": "823563eb",
   "metadata": {},
   "outputs": [],
   "source": [
    "sk = df.skew()"
   ]
  },
  {
   "cell_type": "code",
   "execution_count": 34,
   "id": "1e523912",
   "metadata": {},
   "outputs": [
    {
     "data": {
      "text/plain": [
       "True"
      ]
     },
     "execution_count": 34,
     "metadata": {},
     "output_type": "execute_result"
    }
   ],
   "source": [
    "sk[np.abs(sk)<0.5].all()"
   ]
  },
  {
   "cell_type": "markdown",
   "id": "f2ef868a",
   "metadata": {},
   "source": [
    "remove the skewness follow the normal distribution"
   ]
  },
  {
   "cell_type": "markdown",
   "id": "2aa5883a",
   "metadata": {},
   "source": [
    "# check the outliers "
   ]
  },
  {
   "cell_type": "code",
   "execution_count": 35,
   "id": "d3d1c130",
   "metadata": {},
   "outputs": [
    {
     "data": {
      "image/png": "[encoded data removed]",
      "text/plain": [
       "<Figure size 2160x2016 with 9 Axes>"
      ]
     },
     "metadata": {
      "needs_background": "light"
     },
     "output_type": "display_data"
    }
   ],
   "source": [
    "plt.figure(figsize=(30,28))\n",
    "graph = 1\n",
    "for column in df:\n",
    "    if graph<=9:\n",
    "        ax = plt.subplot(3,3,graph)\n",
    "        sns.boxplot(df[column],orient='v')\n",
    "        plt.xlabel(column,fontsize=10)\n",
    "        \n",
    "        \n",
    "        \n",
    "        graph+=1\n",
    "plt.show()"
   ]
  },
  {
   "cell_type": "code",
   "execution_count": 36,
   "id": "ff696b6a",
   "metadata": {},
   "outputs": [
    {
     "data": {
      "text/plain": [
       "count    397.000000\n",
       "mean       3.838391\n",
       "std        1.699600\n",
       "min        0.000000\n",
       "25%        2.645751\n",
       "50%        4.000000\n",
       "75%        5.196152\n",
       "max        7.745967\n",
       "Name: yrs.service, dtype: float64"
      ]
     },
     "execution_count": 36,
     "metadata": {},
     "output_type": "execute_result"
    }
   ],
   "source": [
    "df['yrs.service'].describe()"
   ]
  },
  {
   "cell_type": "code",
   "execution_count": 37,
   "id": "f78a1c74",
   "metadata": {},
   "outputs": [
    {
     "data": {
      "text/plain": [
       "count       397.000000\n",
       "mean     113706.458438\n",
       "std       30289.038695\n",
       "min       57800.000000\n",
       "25%       91000.000000\n",
       "50%      107300.000000\n",
       "75%      134185.000000\n",
       "max      231545.000000\n",
       "Name: salary, dtype: float64"
      ]
     },
     "execution_count": 37,
     "metadata": {},
     "output_type": "execute_result"
    }
   ],
   "source": [
    "df['salary'].describe()"
   ]
  },
  {
   "cell_type": "code",
   "execution_count": 38,
   "id": "fcaee74e",
   "metadata": {},
   "outputs": [
    {
     "name": "stdout",
     "output_type": "stream",
     "text": [
      "Highest allowed 204573.57452253054\n",
      "Lowest allowed 22839.34235404375\n"
     ]
    }
   ],
   "source": [
    "print('Highest allowed',df['salary'].mean()+3*df['salary'].std())\n",
    "print('Lowest allowed',df['salary'].mean()-3*df['salary'].std())"
   ]
  },
  {
   "cell_type": "code",
   "execution_count": 39,
   "id": "b6785db2",
   "metadata": {},
   "outputs": [],
   "source": [
    "df = df[(df['salary']<204573.57452)&(df['salary']>22839.342354 )] "
   ]
  },
  {
   "cell_type": "code",
   "execution_count": 40,
   "id": "98167f36",
   "metadata": {},
   "outputs": [
    {
     "data": {
      "text/plain": [
       "count       395.000000\n",
       "mean     113175.744304\n",
       "std       29413.790910\n",
       "min       57800.000000\n",
       "25%       91000.000000\n",
       "50%      107200.000000\n",
       "75%      133950.000000\n",
       "max      204000.000000\n",
       "Name: salary, dtype: float64"
      ]
     },
     "execution_count": 40,
     "metadata": {},
     "output_type": "execute_result"
    }
   ],
   "source": [
    "df['salary'].describe()"
   ]
  },
  {
   "cell_type": "code",
   "execution_count": 41,
   "id": "57230c6e",
   "metadata": {},
   "outputs": [
    {
     "data": {
      "text/plain": [
       "<AxesSubplot:xlabel='salary'>"
      ]
     },
     "execution_count": 41,
     "metadata": {},
     "output_type": "execute_result"
    },
    {
     "data": {
      "image/png": "[encoded data removed]",
      "text/plain": [
       "<Figure size 432x288 with 1 Axes>"
      ]
     },
     "metadata": {
      "needs_background": "light"
     },
     "output_type": "display_data"
    }
   ],
   "source": [
    "sns.boxplot(x = df['salary'])"
   ]
  },
  {
   "cell_type": "code",
   "execution_count": 42,
   "id": "7c051c5c",
   "metadata": {},
   "outputs": [
    {
     "name": "stdout",
     "output_type": "stream",
     "text": [
      "Highest allowed 201417.11703334164\n",
      "Lowest allowed 24934.37157425331\n"
     ]
    }
   ],
   "source": [
    "print('Highest allowed',df['salary'].mean()+3*df['salary'].std())\n",
    "print('Lowest allowed',df['salary'].mean()-3*df['salary'].std())"
   ]
  },
  {
   "cell_type": "code",
   "execution_count": 43,
   "id": "45f28431",
   "metadata": {},
   "outputs": [],
   "source": [
    "df = df[(df['salary']<201417.11703)&(df['salary']>24934.37157 )] "
   ]
  },
  {
   "cell_type": "code",
   "execution_count": 44,
   "id": "ed597dfb",
   "metadata": {},
   "outputs": [
    {
     "data": {
      "text/plain": [
       "count       394.000000\n",
       "mean     112945.225888\n",
       "std       29091.740021\n",
       "min       57800.000000\n",
       "25%       91000.000000\n",
       "50%      107175.000000\n",
       "75%      133850.000000\n",
       "max      194800.000000\n",
       "Name: salary, dtype: float64"
      ]
     },
     "execution_count": 44,
     "metadata": {},
     "output_type": "execute_result"
    }
   ],
   "source": [
    "df['salary'].describe()"
   ]
  },
  {
   "cell_type": "code",
   "execution_count": 45,
   "id": "250a1cce",
   "metadata": {},
   "outputs": [
    {
     "data": {
      "text/html": [
       "<div>\n",
       "<style scoped>\n",
       "    .dataframe tbody tr th:only-of-type {\n",
       "        vertical-align: middle;\n",
       "    }\n",
       "\n",
       "    .dataframe tbody tr th {\n",
       "        vertical-align: top;\n",
       "    }\n",
       "\n",
       "    .dataframe thead th {\n",
       "        text-align: right;\n",
       "    }\n",
       "</style>\n",
       "<table border=\"1\" class=\"dataframe\">\n",
       "  <thead>\n",
       "    <tr style=\"text-align: right;\">\n",
       "      <th></th>\n",
       "      <th>yrs.service</th>\n",
       "      <th>salary</th>\n",
       "      <th>rank_AssocProf</th>\n",
       "      <th>rank_AsstProf</th>\n",
       "      <th>rank_Prof</th>\n",
       "      <th>discipline_A</th>\n",
       "      <th>discipline_B</th>\n",
       "      <th>sex_Female</th>\n",
       "      <th>sex_Male</th>\n",
       "    </tr>\n",
       "  </thead>\n",
       "  <tbody>\n",
       "    <tr>\n",
       "      <th>0</th>\n",
       "      <td>4.242641</td>\n",
       "      <td>139750</td>\n",
       "      <td>0.0</td>\n",
       "      <td>0.0</td>\n",
       "      <td>1</td>\n",
       "      <td>0</td>\n",
       "      <td>1</td>\n",
       "      <td>0</td>\n",
       "      <td>1</td>\n",
       "    </tr>\n",
       "    <tr>\n",
       "      <th>1</th>\n",
       "      <td>4.000000</td>\n",
       "      <td>173200</td>\n",
       "      <td>0.0</td>\n",
       "      <td>0.0</td>\n",
       "      <td>1</td>\n",
       "      <td>0</td>\n",
       "      <td>1</td>\n",
       "      <td>0</td>\n",
       "      <td>1</td>\n",
       "    </tr>\n",
       "    <tr>\n",
       "      <th>2</th>\n",
       "      <td>1.732051</td>\n",
       "      <td>79750</td>\n",
       "      <td>0.0</td>\n",
       "      <td>1.0</td>\n",
       "      <td>0</td>\n",
       "      <td>0</td>\n",
       "      <td>1</td>\n",
       "      <td>0</td>\n",
       "      <td>1</td>\n",
       "    </tr>\n",
       "    <tr>\n",
       "      <th>3</th>\n",
       "      <td>6.244998</td>\n",
       "      <td>115000</td>\n",
       "      <td>0.0</td>\n",
       "      <td>0.0</td>\n",
       "      <td>1</td>\n",
       "      <td>0</td>\n",
       "      <td>1</td>\n",
       "      <td>0</td>\n",
       "      <td>1</td>\n",
       "    </tr>\n",
       "    <tr>\n",
       "      <th>4</th>\n",
       "      <td>6.403124</td>\n",
       "      <td>141500</td>\n",
       "      <td>0.0</td>\n",
       "      <td>0.0</td>\n",
       "      <td>1</td>\n",
       "      <td>0</td>\n",
       "      <td>1</td>\n",
       "      <td>0</td>\n",
       "      <td>1</td>\n",
       "    </tr>\n",
       "    <tr>\n",
       "      <th>...</th>\n",
       "      <td>...</td>\n",
       "      <td>...</td>\n",
       "      <td>...</td>\n",
       "      <td>...</td>\n",
       "      <td>...</td>\n",
       "      <td>...</td>\n",
       "      <td>...</td>\n",
       "      <td>...</td>\n",
       "      <td>...</td>\n",
       "    </tr>\n",
       "    <tr>\n",
       "      <th>392</th>\n",
       "      <td>5.477226</td>\n",
       "      <td>103106</td>\n",
       "      <td>0.0</td>\n",
       "      <td>0.0</td>\n",
       "      <td>1</td>\n",
       "      <td>1</td>\n",
       "      <td>0</td>\n",
       "      <td>0</td>\n",
       "      <td>1</td>\n",
       "    </tr>\n",
       "    <tr>\n",
       "      <th>393</th>\n",
       "      <td>4.358899</td>\n",
       "      <td>150564</td>\n",
       "      <td>0.0</td>\n",
       "      <td>0.0</td>\n",
       "      <td>1</td>\n",
       "      <td>1</td>\n",
       "      <td>0</td>\n",
       "      <td>0</td>\n",
       "      <td>1</td>\n",
       "    </tr>\n",
       "    <tr>\n",
       "      <th>394</th>\n",
       "      <td>5.000000</td>\n",
       "      <td>101738</td>\n",
       "      <td>0.0</td>\n",
       "      <td>0.0</td>\n",
       "      <td>1</td>\n",
       "      <td>1</td>\n",
       "      <td>0</td>\n",
       "      <td>0</td>\n",
       "      <td>1</td>\n",
       "    </tr>\n",
       "    <tr>\n",
       "      <th>395</th>\n",
       "      <td>3.872983</td>\n",
       "      <td>95329</td>\n",
       "      <td>0.0</td>\n",
       "      <td>0.0</td>\n",
       "      <td>1</td>\n",
       "      <td>1</td>\n",
       "      <td>0</td>\n",
       "      <td>0</td>\n",
       "      <td>1</td>\n",
       "    </tr>\n",
       "    <tr>\n",
       "      <th>396</th>\n",
       "      <td>2.000000</td>\n",
       "      <td>81035</td>\n",
       "      <td>0.0</td>\n",
       "      <td>1.0</td>\n",
       "      <td>0</td>\n",
       "      <td>1</td>\n",
       "      <td>0</td>\n",
       "      <td>0</td>\n",
       "      <td>1</td>\n",
       "    </tr>\n",
       "  </tbody>\n",
       "</table>\n",
       "<p>394 rows × 9 columns</p>\n",
       "</div>"
      ],
      "text/plain": [
       "     yrs.service  salary  rank_AssocProf  rank_AsstProf  rank_Prof  \\\n",
       "0       4.242641  139750             0.0            0.0          1   \n",
       "1       4.000000  173200             0.0            0.0          1   \n",
       "2       1.732051   79750             0.0            1.0          0   \n",
       "3       6.244998  115000             0.0            0.0          1   \n",
       "4       6.403124  141500             0.0            0.0          1   \n",
       "..           ...     ...             ...            ...        ...   \n",
       "392     5.477226  103106             0.0            0.0          1   \n",
       "393     4.358899  150564             0.0            0.0          1   \n",
       "394     5.000000  101738             0.0            0.0          1   \n",
       "395     3.872983   95329             0.0            0.0          1   \n",
       "396     2.000000   81035             0.0            1.0          0   \n",
       "\n",
       "     discipline_A  discipline_B  sex_Female  sex_Male  \n",
       "0               0             1           0         1  \n",
       "1               0             1           0         1  \n",
       "2               0             1           0         1  \n",
       "3               0             1           0         1  \n",
       "4               0             1           0         1  \n",
       "..            ...           ...         ...       ...  \n",
       "392             1             0           0         1  \n",
       "393             1             0           0         1  \n",
       "394             1             0           0         1  \n",
       "395             1             0           0         1  \n",
       "396             1             0           0         1  \n",
       "\n",
       "[394 rows x 9 columns]"
      ]
     },
     "execution_count": 45,
     "metadata": {},
     "output_type": "execute_result"
    }
   ],
   "source": [
    "df"
   ]
  },
  {
   "cell_type": "code",
   "execution_count": 46,
   "id": "738c57e1",
   "metadata": {},
   "outputs": [
    {
     "data": {
      "text/plain": [
       "<AxesSubplot:xlabel='salary'>"
      ]
     },
     "execution_count": 46,
     "metadata": {},
     "output_type": "execute_result"
    },
    {
     "data": {
      "image/png": "[encoded data removed]",
      "text/plain": [
       "<Figure size 432x288 with 1 Axes>"
      ]
     },
     "metadata": {
      "needs_background": "light"
     },
     "output_type": "display_data"
    }
   ],
   "source": [
    "sns.boxplot(x = df['salary'])"
   ]
  },
  {
   "cell_type": "markdown",
   "id": "b9a1328e",
   "metadata": {},
   "source": [
    "remove the outliers"
   ]
  },
  {
   "cell_type": "code",
   "execution_count": 47,
   "id": "ca0a1d01",
   "metadata": {},
   "outputs": [],
   "source": [
    "df.drop(['sex_Female','sex_Male'],axis=1,inplace=True)"
   ]
  },
  {
   "cell_type": "code",
   "execution_count": 48,
   "id": "a1fa7971",
   "metadata": {},
   "outputs": [
    {
     "data": {
      "text/plain": [
       "Index(['yrs.service', 'salary', 'rank_AssocProf', 'rank_AsstProf', 'rank_Prof',\n",
       "       'discipline_A', 'discipline_B'],\n",
       "      dtype='object')"
      ]
     },
     "execution_count": 48,
     "metadata": {},
     "output_type": "execute_result"
    }
   ],
   "source": [
    "df.columns"
   ]
  },
  {
   "cell_type": "markdown",
   "id": "323fb38a",
   "metadata": {},
   "source": [
    "# features scaling"
   ]
  },
  {
   "cell_type": "code",
   "execution_count": 49,
   "id": "d276844a",
   "metadata": {},
   "outputs": [],
   "source": [
    "x = df.drop(['salary'],axis=1)\n",
    "y = df['salary']"
   ]
  },
  {
   "cell_type": "code",
   "execution_count": 50,
   "id": "17cad415",
   "metadata": {},
   "outputs": [],
   "source": [
    "from sklearn.preprocessing import StandardScaler"
   ]
  },
  {
   "cell_type": "code",
   "execution_count": 51,
   "id": "cabcccca",
   "metadata": {},
   "outputs": [],
   "source": [
    "scaler = StandardScaler()"
   ]
  },
  {
   "cell_type": "code",
   "execution_count": 52,
   "id": "b97accdb",
   "metadata": {},
   "outputs": [],
   "source": [
    "x_scaled = scaler.fit_transform(x)"
   ]
  },
  {
   "cell_type": "code",
   "execution_count": 53,
   "id": "cb974f14",
   "metadata": {},
   "outputs": [],
   "source": [
    "from sklearn.model_selection import train_test_split\n"
   ]
  },
  {
   "cell_type": "code",
   "execution_count": 55,
   "id": "d2ce12fc",
   "metadata": {},
   "outputs": [],
   "source": [
    "\n",
    "    x_train,x_test,y_train,y_test = train_test_split(x_scaled,y,test_size=0.25,random_state=355)\n",
    "    \n",
    "        \n",
    "\n",
    "         \n",
    "                  \n",
    "    \n",
    "    \n",
    "    "
   ]
  },
  {
   "cell_type": "markdown",
   "id": "7fde4246",
   "metadata": {},
   "source": [
    "# model selection"
   ]
  },
  {
   "cell_type": "code",
   "execution_count": 56,
   "id": "83bc9374",
   "metadata": {},
   "outputs": [],
   "source": [
    "from sklearn.model_selection import KFold"
   ]
  },
  {
   "cell_type": "code",
   "execution_count": 57,
   "id": "ccd63806",
   "metadata": {},
   "outputs": [],
   "source": [
    "from sklearn.linear_model import LinearRegression"
   ]
  },
  {
   "cell_type": "code",
   "execution_count": 58,
   "id": "52c4f1ef",
   "metadata": {},
   "outputs": [],
   "source": [
    "lr = LinearRegression()"
   ]
  },
  {
   "cell_type": "code",
   "execution_count": 59,
   "id": "deb9699e",
   "metadata": {},
   "outputs": [
    {
     "data": {
      "text/plain": [
       "LinearRegression()"
      ]
     },
     "execution_count": 59,
     "metadata": {},
     "output_type": "execute_result"
    }
   ],
   "source": [
    "lr.fit(x_train,y_train)"
   ]
  },
  {
   "cell_type": "code",
   "execution_count": 60,
   "id": "48535afc",
   "metadata": {},
   "outputs": [
    {
     "data": {
      "text/plain": [
       "0.4375640641120593"
      ]
     },
     "execution_count": 60,
     "metadata": {},
     "output_type": "execute_result"
    }
   ],
   "source": [
    "lr.score(x_train,y_train)"
   ]
  },
  {
   "cell_type": "code",
   "execution_count": 61,
   "id": "418a5333",
   "metadata": {},
   "outputs": [
    {
     "data": {
      "text/plain": [
       "0.4807791543104315"
      ]
     },
     "execution_count": 61,
     "metadata": {},
     "output_type": "execute_result"
    }
   ],
   "source": [
    "lr.score(x_test,y_test)"
   ]
  },
  {
   "cell_type": "code",
   "execution_count": 62,
   "id": "4a9a8a33",
   "metadata": {},
   "outputs": [],
   "source": [
    "y_pred = lr.predict(x_test)"
   ]
  },
  {
   "cell_type": "code",
   "execution_count": 63,
   "id": "4be1ec6f",
   "metadata": {},
   "outputs": [
    {
     "data": {
      "text/plain": [
       "array([ 73786.52849658,  76858.52849658,  94292.7836942 , 116794.52849658,\n",
       "        93780.7836942 ,  75834.52849658,  91220.7836942 , 138324.7836942 ,\n",
       "        73786.52849658,  93780.7836942 , 116794.52849658, 134740.7836942 ,\n",
       "       119354.52849658, 135764.7836942 , 117818.52849658, 135252.7836942 ,\n",
       "        73274.52849658,  91220.7836942 ,  92244.7836942 ,  75322.52849658,\n",
       "        74810.52849658,  92756.7836942 , 135764.7836942 ,  91732.7836942 ,\n",
       "        95316.7836942 , 117818.52849658,  93780.7836942 ,  92756.7836942 ,\n",
       "        94292.7836942 , 135764.7836942 ,  92756.7836942 , 116794.52849658,\n",
       "       117306.52849658, 134740.7836942 , 117306.52849658, 135252.7836942 ,\n",
       "       116794.52849658, 137812.7836942 , 118330.52849658, 117306.52849658,\n",
       "       136788.7836942 , 117306.52849658, 135764.7836942 , 135764.7836942 ,\n",
       "       137812.7836942 ,  92244.7836942 , 134740.7836942 , 136276.7836942 ,\n",
       "        91732.7836942 , 134228.7836942 , 134228.7836942 , 117818.52849658,\n",
       "       119354.52849658, 135252.7836942 , 118330.52849658,  94292.7836942 ,\n",
       "       135764.7836942 , 118842.52849658, 118842.52849658,  91220.7836942 ,\n",
       "       116794.52849658,  76858.52849658, 136788.7836942 , 117818.52849658,\n",
       "        92244.7836942 ,  94292.7836942 ,  74810.52849658, 119354.52849658,\n",
       "       116794.52849658,  91220.7836942 , 117306.52849658,  92244.7836942 ,\n",
       "       118330.52849658,  93268.7836942 ,  75834.52849658, 117306.52849658,\n",
       "        91220.7836942 ,  91220.7836942 , 117306.52849658, 133716.7836942 ,\n",
       "       134740.7836942 , 119354.52849658, 117818.52849658, 118330.52849658,\n",
       "       117818.52849658, 135764.7836942 , 138324.7836942 , 116794.52849658,\n",
       "        76858.52849658,  74298.52849658, 135252.7836942 , 119866.52849658,\n",
       "       118842.52849658, 117306.52849658, 135764.7836942 ,  76346.52849658,\n",
       "        91031.68135593,  93079.68135593, 116631.68135593])"
      ]
     },
     "execution_count": 63,
     "metadata": {},
     "output_type": "execute_result"
    }
   ],
   "source": [
    "y_pred"
   ]
  },
  {
   "cell_type": "code",
   "execution_count": 64,
   "id": "4c3800f6",
   "metadata": {},
   "outputs": [],
   "source": [
    "from sklearn.metrics import r2_score"
   ]
  },
  {
   "cell_type": "code",
   "execution_count": 65,
   "id": "19e87d80",
   "metadata": {},
   "outputs": [
    {
     "data": {
      "text/plain": [
       "0.4807791543104315"
      ]
     },
     "execution_count": 65,
     "metadata": {},
     "output_type": "execute_result"
    }
   ],
   "source": [
    "r2_score(y_test,y_pred)"
   ]
  },
  {
   "cell_type": "code",
   "execution_count": 66,
   "id": "48a8dc75",
   "metadata": {},
   "outputs": [
    {
     "data": {
      "image/png": "[encoded data removed]",
      "text/plain": [
       "<Figure size 432x288 with 1 Axes>"
      ]
     },
     "metadata": {
      "needs_background": "light"
     },
     "output_type": "display_data"
    }
   ],
   "source": [
    "plt.scatter(y_test,y_pred)\n",
    "plt.xlabel('actual ')\n",
    "plt.ylabel('predicted the value')\n",
    "plt.show()"
   ]
  },
  {
   "cell_type": "markdown",
   "id": "600fa74b",
   "metadata": {},
   "source": [
    "# model_evalution"
   ]
  },
  {
   "cell_type": "code",
   "execution_count": 67,
   "id": "d6bf92e2",
   "metadata": {},
   "outputs": [
    {
     "data": {
      "text/plain": [
       "18253.352998723156"
      ]
     },
     "execution_count": 67,
     "metadata": {},
     "output_type": "execute_result"
    }
   ],
   "source": [
    "from sklearn.metrics import mean_squared_error,mean_absolute_error\n",
    "y_pred = lr.predict(x_test)\n",
    "mean_absolute_error(y_test,y_pred)\n",
    "mean_squared_error(y_test,y_pred)\n",
    "np.sqrt(mean_squared_error(y_test,y_pred))"
   ]
  },
  {
   "cell_type": "code",
   "execution_count": 68,
   "id": "b21103d8",
   "metadata": {},
   "outputs": [],
   "source": [
    "from sklearn.linear_model import Ridge,Lasso,RidgeCV,LassoCV\n",
    "lassocv = LassoCV(alphas = None,max_iter=43,normalize=True)\n",
    "lassocv.fit(x_train,y_train)\n",
    "alpha = lassocv.alpha_\n",
    "lasso_reg = Lasso(alpha)\n"
   ]
  },
  {
   "cell_type": "code",
   "execution_count": 69,
   "id": "502a0a0a",
   "metadata": {},
   "outputs": [
    {
     "data": {
      "text/plain": [
       "0.5277658151706821"
      ]
     },
     "execution_count": 69,
     "metadata": {},
     "output_type": "execute_result"
    }
   ],
   "source": [
    "lasso_reg.fit(x_train,y_train)\n",
    "lasso_reg.score(x_test,y_test)"
   ]
  },
  {
   "cell_type": "markdown",
   "id": "b60015e1",
   "metadata": {},
   "source": [
    "# ridgecv"
   ]
  },
  {
   "cell_type": "code",
   "execution_count": 70,
   "id": "126be310",
   "metadata": {},
   "outputs": [],
   "source": [
    "ridgecv = RidgeCV(alphas = np.arange(0.001,0.1,0.01),normalize=True)\n",
    "ridgecv.fit(x_train,y_train)\n",
    "ridgecv.alpha_\n",
    "ridge_model = Ridge(alpha=ridgecv.alpha_)"
   ]
  },
  {
   "cell_type": "code",
   "execution_count": 71,
   "id": "7c30dc55",
   "metadata": {},
   "outputs": [
    {
     "data": {
      "text/plain": [
       "0.5270811172900575"
      ]
     },
     "execution_count": 71,
     "metadata": {},
     "output_type": "execute_result"
    }
   ],
   "source": [
    "ridge_model.fit(x_train,y_train)\n",
    "ridge_model.score(x_test,y_test)"
   ]
  },
  {
   "cell_type": "markdown",
   "id": "42589ac4",
   "metadata": {},
   "source": [
    "# random forest regressor"
   ]
  },
  {
   "cell_type": "code",
   "execution_count": 72,
   "id": "f7a11b70",
   "metadata": {},
   "outputs": [
    {
     "data": {
      "text/plain": [
       "0.6356482941120762"
      ]
     },
     "execution_count": 72,
     "metadata": {},
     "output_type": "execute_result"
    }
   ],
   "source": [
    "from sklearn.ensemble import RandomForestRegressor\n",
    "rf = RandomForestRegressor()\n",
    "rf.fit(x_train,y_train)\n",
    "rf.score(x_test,y_test)\n",
    "rf.score(x_train,y_train)\n"
   ]
  },
  {
   "cell_type": "code",
   "execution_count": 73,
   "id": "af192c3d",
   "metadata": {},
   "outputs": [
    {
     "data": {
      "text/plain": [
       "0.6356482941120762"
      ]
     },
     "execution_count": 73,
     "metadata": {},
     "output_type": "execute_result"
    }
   ],
   "source": [
    "rf.score(x_train,y_train)"
   ]
  },
  {
   "cell_type": "code",
   "execution_count": 74,
   "id": "16421a12",
   "metadata": {},
   "outputs": [
    {
     "data": {
      "text/plain": [
       "0.34116245281800006"
      ]
     },
     "execution_count": 74,
     "metadata": {},
     "output_type": "execute_result"
    }
   ],
   "source": [
    "rf.score(x_test,y_test)"
   ]
  },
  {
   "cell_type": "code",
   "execution_count": 75,
   "id": "0176e25c",
   "metadata": {},
   "outputs": [],
   "source": [
    "y_pred = rf.predict(x_test)"
   ]
  },
  {
   "cell_type": "code",
   "execution_count": 76,
   "id": "5b2c0729",
   "metadata": {},
   "outputs": [
    {
     "data": {
      "image/png": "[encoded data removed]",
      "text/plain": [
       "<Figure size 432x288 with 1 Axes>"
      ]
     },
     "metadata": {
      "needs_background": "light"
     },
     "output_type": "display_data"
    }
   ],
   "source": [
    "plt.scatter(y_test,y_pred)\n",
    "plt.xlabel('actual chance of admission')\n",
    "plt.ylabel('predicted the value')\n",
    "plt.show()"
   ]
  },
  {
   "cell_type": "code",
   "execution_count": 77,
   "id": "f13b493f",
   "metadata": {},
   "outputs": [
    {
     "data": {
      "text/plain": [
       "20561.54589052924"
      ]
     },
     "execution_count": 77,
     "metadata": {},
     "output_type": "execute_result"
    }
   ],
   "source": [
    "y_pred = rf.predict(x_test)\n",
    "mean_absolute_error(y_test,y_pred)\n",
    "mean_squared_error(y_test,y_pred)\n",
    "np.sqrt(mean_squared_error(y_test,y_pred))"
   ]
  },
  {
   "cell_type": "code",
   "execution_count": 78,
   "id": "6e88c25a",
   "metadata": {},
   "outputs": [
    {
     "data": {
      "image/png": "[encoded data removed]",
      "text/plain": [
       "<Figure size 432x288 with 1 Axes>"
      ]
     },
     "metadata": {
      "needs_background": "light"
     },
     "output_type": "display_data"
    }
   ],
   "source": [
    "plt.scatter(y_test,y_pred)\n",
    "plt.xlabel('actual value')\n",
    "plt.ylabel('predicted the value')\n",
    "plt.show()"
   ]
  },
  {
   "cell_type": "code",
   "execution_count": 79,
   "id": "1c1a1087",
   "metadata": {},
   "outputs": [
    {
     "data": {
      "text/plain": [
       "0.34116245281800006"
      ]
     },
     "execution_count": 79,
     "metadata": {},
     "output_type": "execute_result"
    }
   ],
   "source": [
    "r2_score(y_test,y_pred)"
   ]
  },
  {
   "cell_type": "code",
   "execution_count": 80,
   "id": "56353b53",
   "metadata": {},
   "outputs": [],
   "source": [
    "from sklearn.linear_model import Ridge,Lasso,RidgeCV,LassoCV\n",
    "lassocv = LassoCV(alphas = None,max_iter=43,normalize=True)\n",
    "lassocv.fit(x_train,y_train)\n",
    "alpha = lassocv.alpha_\n",
    "lasso_reg = Lasso(alpha)\n"
   ]
  },
  {
   "cell_type": "code",
   "execution_count": 81,
   "id": "ca5ba1db",
   "metadata": {},
   "outputs": [
    {
     "data": {
      "text/plain": [
       "0.5277658151706821"
      ]
     },
     "execution_count": 81,
     "metadata": {},
     "output_type": "execute_result"
    }
   ],
   "source": [
    "lasso_reg.fit(x_train,y_train)\n",
    "lasso_reg.score(x_test,y_test)"
   ]
  },
  {
   "cell_type": "code",
   "execution_count": 82,
   "id": "59170f65",
   "metadata": {},
   "outputs": [],
   "source": [
    "ridgecv = RidgeCV(alphas = np.arange(0.001,0.1,0.01),normalize=True)\n",
    "ridgecv.fit(x_train,y_train)\n",
    "ridgecv.alpha_\n",
    "ridge_model = Ridge(alpha=ridgecv.alpha_)"
   ]
  },
  {
   "cell_type": "code",
   "execution_count": 83,
   "id": "c7e09e91",
   "metadata": {},
   "outputs": [
    {
     "data": {
      "text/plain": [
       "0.5270811172900575"
      ]
     },
     "execution_count": 83,
     "metadata": {},
     "output_type": "execute_result"
    }
   ],
   "source": [
    "ridge_model.fit(x_train,y_train)\n",
    "ridge_model.score(x_test,y_test)"
   ]
  },
  {
   "cell_type": "code",
   "execution_count": 84,
   "id": "2a8fe989",
   "metadata": {},
   "outputs": [],
   "source": [
    "y_pred = ridge_model.predict(x_test)"
   ]
  },
  {
   "cell_type": "code",
   "execution_count": null,
   "id": "cbbe9523",
   "metadata": {},
   "outputs": [],
   "source": []
  },
  {
   "cell_type": "code",
   "execution_count": 85,
   "id": "a3ec0335",
   "metadata": {},
   "outputs": [
    {
     "data": {
      "text/plain": [
       "array([118984.04202323])"
      ]
     },
     "execution_count": 85,
     "metadata": {},
     "output_type": "execute_result"
    }
   ],
   "source": [
    "ridge_model.predict(scaler.transform([[3.87,0.0,0.0,1,1,0]]))"
   ]
  },
  {
   "cell_type": "code",
   "execution_count": null,
   "id": "5f5e9aa7",
   "metadata": {},
   "outputs": [],
   "source": []
  },
  {
   "cell_type": "markdown",
   "id": "a3897365",
   "metadata": {},
   "source": [
    "# xgb"
   ]
  },
  {
   "cell_type": "code",
   "execution_count": 86,
   "id": "ed6db484",
   "metadata": {},
   "outputs": [],
   "source": [
    "from sklearn.ensemble import GradientBoostingRegressor"
   ]
  },
  {
   "cell_type": "code",
   "execution_count": 87,
   "id": "563a7234",
   "metadata": {},
   "outputs": [],
   "source": [
    "gb = GradientBoostingRegressor()"
   ]
  },
  {
   "cell_type": "code",
   "execution_count": 88,
   "id": "fb564683",
   "metadata": {},
   "outputs": [
    {
     "data": {
      "text/plain": [
       "GradientBoostingRegressor()"
      ]
     },
     "execution_count": 88,
     "metadata": {},
     "output_type": "execute_result"
    }
   ],
   "source": [
    "gb.fit(x_train,y_train)"
   ]
  },
  {
   "cell_type": "code",
   "execution_count": 89,
   "id": "7160e469",
   "metadata": {},
   "outputs": [
    {
     "data": {
      "text/plain": [
       "GradientBoostingRegressor()"
      ]
     },
     "execution_count": 89,
     "metadata": {},
     "output_type": "execute_result"
    }
   ],
   "source": [
    "gb.fit(x_test,y_test)"
   ]
  },
  {
   "cell_type": "code",
   "execution_count": 90,
   "id": "2b65ae58",
   "metadata": {},
   "outputs": [
    {
     "data": {
      "text/plain": [
       "0.7815475724808015"
      ]
     },
     "execution_count": 90,
     "metadata": {},
     "output_type": "execute_result"
    }
   ],
   "source": [
    "gb.score(x_test,y_test)"
   ]
  },
  {
   "cell_type": "code",
   "execution_count": 91,
   "id": "df3026e0",
   "metadata": {},
   "outputs": [],
   "source": [
    "y_pred = gb.predict(x_test)"
   ]
  },
  {
   "cell_type": "code",
   "execution_count": 92,
   "id": "13444198",
   "metadata": {},
   "outputs": [
    {
     "data": {
      "image/png": "[encoded data removed]",
      "text/plain": [
       "<Figure size 432x288 with 1 Axes>"
      ]
     },
     "metadata": {
      "needs_background": "light"
     },
     "output_type": "display_data"
    }
   ],
   "source": [
    "plt.scatter(y_test,y_pred)\n",
    "plt.xlabel('actual value')\n",
    "plt.ylabel('predicted the value')\n",
    "plt.show()"
   ]
  },
  {
   "cell_type": "code",
   "execution_count": 93,
   "id": "12f9cdd5",
   "metadata": {},
   "outputs": [
    {
     "data": {
      "text/plain": [
       "0.7815475724808015"
      ]
     },
     "execution_count": 93,
     "metadata": {},
     "output_type": "execute_result"
    }
   ],
   "source": [
    "r2_score(y_test,y_pred)"
   ]
  },
  {
   "cell_type": "code",
   "execution_count": 94,
   "id": "224aa077",
   "metadata": {},
   "outputs": [
    {
     "data": {
      "text/html": [
       "<div>\n",
       "<style scoped>\n",
       "    .dataframe tbody tr th:only-of-type {\n",
       "        vertical-align: middle;\n",
       "    }\n",
       "\n",
       "    .dataframe tbody tr th {\n",
       "        vertical-align: top;\n",
       "    }\n",
       "\n",
       "    .dataframe thead th {\n",
       "        text-align: right;\n",
       "    }\n",
       "</style>\n",
       "<table border=\"1\" class=\"dataframe\">\n",
       "  <thead>\n",
       "    <tr style=\"text-align: right;\">\n",
       "      <th></th>\n",
       "      <th>yrs.service</th>\n",
       "      <th>salary</th>\n",
       "      <th>rank_AssocProf</th>\n",
       "      <th>rank_AsstProf</th>\n",
       "      <th>rank_Prof</th>\n",
       "      <th>discipline_A</th>\n",
       "      <th>discipline_B</th>\n",
       "    </tr>\n",
       "  </thead>\n",
       "  <tbody>\n",
       "    <tr>\n",
       "      <th>395</th>\n",
       "      <td>3.872983</td>\n",
       "      <td>95329</td>\n",
       "      <td>0.0</td>\n",
       "      <td>0.0</td>\n",
       "      <td>1</td>\n",
       "      <td>1</td>\n",
       "      <td>0</td>\n",
       "    </tr>\n",
       "    <tr>\n",
       "      <th>396</th>\n",
       "      <td>2.000000</td>\n",
       "      <td>81035</td>\n",
       "      <td>0.0</td>\n",
       "      <td>1.0</td>\n",
       "      <td>0</td>\n",
       "      <td>1</td>\n",
       "      <td>0</td>\n",
       "    </tr>\n",
       "  </tbody>\n",
       "</table>\n",
       "</div>"
      ],
      "text/plain": [
       "     yrs.service  salary  rank_AssocProf  rank_AsstProf  rank_Prof  \\\n",
       "395     3.872983   95329             0.0            0.0          1   \n",
       "396     2.000000   81035             0.0            1.0          0   \n",
       "\n",
       "     discipline_A  discipline_B  \n",
       "395             1             0  \n",
       "396             1             0  "
      ]
     },
     "execution_count": 94,
     "metadata": {},
     "output_type": "execute_result"
    }
   ],
   "source": [
    "df.tail(2)"
   ]
  },
  {
   "cell_type": "code",
   "execution_count": 95,
   "id": "d9d22556",
   "metadata": {},
   "outputs": [
    {
     "data": {
      "text/plain": [
       "array([114919.27699225])"
      ]
     },
     "execution_count": 95,
     "metadata": {},
     "output_type": "execute_result"
    }
   ],
   "source": [
    "gb.predict(scaler.transform([[3.87,0.0,0.0,1,1,0]]))"
   ]
  },
  {
   "cell_type": "code",
   "execution_count": 96,
   "id": "3ae798ae",
   "metadata": {},
   "outputs": [
    {
     "data": {
      "text/plain": [
       "array([121980.92738095])"
      ]
     },
     "execution_count": 96,
     "metadata": {},
     "output_type": "execute_result"
    }
   ],
   "source": [
    "rf.predict(scaler.transform([[3.87,0.0,0.0,1,1,0]]))"
   ]
  },
  {
   "cell_type": "code",
   "execution_count": 97,
   "id": "3de2e5de",
   "metadata": {},
   "outputs": [
    {
     "data": {
      "text/plain": [
       "array([118679.68135593])"
      ]
     },
     "execution_count": 97,
     "metadata": {},
     "output_type": "execute_result"
    }
   ],
   "source": [
    "lr.predict(scaler.transform([[3.87,0.0,0.0,1,1,0]]))"
   ]
  },
  {
   "cell_type": "markdown",
   "id": "5c5ba013",
   "metadata": {},
   "source": [
    "# desicion tree regressor"
   ]
  },
  {
   "cell_type": "code",
   "execution_count": 98,
   "id": "b14b63e0",
   "metadata": {},
   "outputs": [],
   "source": [
    "from sklearn.tree import DecisionTreeRegressor"
   ]
  },
  {
   "cell_type": "code",
   "execution_count": 99,
   "id": "77332ab4",
   "metadata": {},
   "outputs": [
    {
     "data": {
      "text/plain": [
       "DecisionTreeRegressor()"
      ]
     },
     "execution_count": 99,
     "metadata": {},
     "output_type": "execute_result"
    }
   ],
   "source": [
    "clf = DecisionTreeRegressor()\n",
    "clf.fit(x_train,y_train)"
   ]
  },
  {
   "cell_type": "code",
   "execution_count": 100,
   "id": "c0be0ec3",
   "metadata": {},
   "outputs": [
    {
     "data": {
      "text/plain": [
       "0.25365877714080787"
      ]
     },
     "execution_count": 100,
     "metadata": {},
     "output_type": "execute_result"
    }
   ],
   "source": [
    "clf.score(x_test,y_test)"
   ]
  },
  {
   "cell_type": "code",
   "execution_count": 101,
   "id": "c6411e93",
   "metadata": {},
   "outputs": [
    {
     "data": {
      "text/plain": [
       "0.6539399331383281"
      ]
     },
     "execution_count": 101,
     "metadata": {},
     "output_type": "execute_result"
    }
   ],
   "source": [
    "clf.score(x_train,y_train)"
   ]
  },
  {
   "cell_type": "code",
   "execution_count": 102,
   "id": "9bf56394",
   "metadata": {},
   "outputs": [],
   "source": [
    "y_pred = clf.predict(x_test)"
   ]
  },
  {
   "cell_type": "code",
   "execution_count": 103,
   "id": "6b3094f5",
   "metadata": {},
   "outputs": [
    {
     "data": {
      "text/plain": [
       "0.25365877714080787"
      ]
     },
     "execution_count": 103,
     "metadata": {},
     "output_type": "execute_result"
    }
   ],
   "source": [
    "r2_score(y_test,y_pred)"
   ]
  },
  {
   "cell_type": "code",
   "execution_count": 104,
   "id": "5661f1ce",
   "metadata": {},
   "outputs": [
    {
     "data": {
      "image/png": "[encoded data removed]",
      "text/plain": [
       "<Figure size 432x288 with 1 Axes>"
      ]
     },
     "metadata": {
      "needs_background": "light"
     },
     "output_type": "display_data"
    }
   ],
   "source": [
    "plt.scatter(y_test,y_pred)\n",
    "plt.xlabel('actual value')\n",
    "plt.ylabel('predicted the value')\n",
    "plt.show()"
   ]
  },
  {
   "cell_type": "code",
   "execution_count": 105,
   "id": "9c19bf5d",
   "metadata": {},
   "outputs": [
    {
     "data": {
      "text/plain": [
       "array([123925.])"
      ]
     },
     "execution_count": 105,
     "metadata": {},
     "output_type": "execute_result"
    }
   ],
   "source": [
    "clf.predict(scaler.transform([[3.87,0.0,0.0,1,1,0]]))"
   ]
  },
  {
   "cell_type": "markdown",
   "id": "fff2cff3",
   "metadata": {},
   "source": [
    "# kneighbors regressor"
   ]
  },
  {
   "cell_type": "code",
   "execution_count": 106,
   "id": "ef1b483f",
   "metadata": {},
   "outputs": [],
   "source": [
    "from sklearn.neighbors import KNeighborsRegressor"
   ]
  },
  {
   "cell_type": "code",
   "execution_count": 107,
   "id": "48c4390b",
   "metadata": {},
   "outputs": [],
   "source": [
    "kn = KNeighborsRegressor()"
   ]
  },
  {
   "cell_type": "code",
   "execution_count": 108,
   "id": "d62d899b",
   "metadata": {},
   "outputs": [
    {
     "data": {
      "text/plain": [
       "KNeighborsRegressor()"
      ]
     },
     "execution_count": 108,
     "metadata": {},
     "output_type": "execute_result"
    }
   ],
   "source": [
    "kn.fit(x_train,y_train)"
   ]
  },
  {
   "cell_type": "code",
   "execution_count": 109,
   "id": "0cb00b9a",
   "metadata": {},
   "outputs": [
    {
     "data": {
      "text/plain": [
       "0.3814045861297012"
      ]
     },
     "execution_count": 109,
     "metadata": {},
     "output_type": "execute_result"
    }
   ],
   "source": [
    "kn.score(x_test,y_test)"
   ]
  },
  {
   "cell_type": "code",
   "execution_count": 110,
   "id": "a329ffb3",
   "metadata": {},
   "outputs": [
    {
     "data": {
      "text/plain": [
       "0.5336860734239748"
      ]
     },
     "execution_count": 110,
     "metadata": {},
     "output_type": "execute_result"
    }
   ],
   "source": [
    "kn.score(x_train,y_train)"
   ]
  },
  {
   "cell_type": "code",
   "execution_count": 111,
   "id": "5d6e0456",
   "metadata": {},
   "outputs": [],
   "source": [
    "y_pred = kn.predict(x_test)"
   ]
  },
  {
   "cell_type": "code",
   "execution_count": 112,
   "id": "9408756e",
   "metadata": {},
   "outputs": [
    {
     "data": {
      "image/png": "[encoded data removed]",
      "text/plain": [
       "<Figure size 432x288 with 1 Axes>"
      ]
     },
     "metadata": {
      "needs_background": "light"
     },
     "output_type": "display_data"
    }
   ],
   "source": [
    "plt.scatter(y_test,y_pred)\n",
    "plt.xlabel('actual value')\n",
    "plt.ylabel('predicted the value')\n",
    "plt.show()"
   ]
  },
  {
   "cell_type": "code",
   "execution_count": 113,
   "id": "84c5a9a6",
   "metadata": {},
   "outputs": [
    {
     "data": {
      "text/plain": [
       "array([119408.4])"
      ]
     },
     "execution_count": 113,
     "metadata": {},
     "output_type": "execute_result"
    }
   ],
   "source": [
    "kn.predict(scaler.transform([[3.87,0.0,0.0,1,1,0]]))"
   ]
  },
  {
   "cell_type": "code",
   "execution_count": 114,
   "id": "0869bc57",
   "metadata": {},
   "outputs": [
    {
     "data": {
      "text/html": [
       "<div>\n",
       "<style scoped>\n",
       "    .dataframe tbody tr th:only-of-type {\n",
       "        vertical-align: middle;\n",
       "    }\n",
       "\n",
       "    .dataframe tbody tr th {\n",
       "        vertical-align: top;\n",
       "    }\n",
       "\n",
       "    .dataframe thead th {\n",
       "        text-align: right;\n",
       "    }\n",
       "</style>\n",
       "<table border=\"1\" class=\"dataframe\">\n",
       "  <thead>\n",
       "    <tr style=\"text-align: right;\">\n",
       "      <th></th>\n",
       "      <th>yrs.service</th>\n",
       "      <th>salary</th>\n",
       "      <th>rank_AssocProf</th>\n",
       "      <th>rank_AsstProf</th>\n",
       "      <th>rank_Prof</th>\n",
       "      <th>discipline_A</th>\n",
       "      <th>discipline_B</th>\n",
       "    </tr>\n",
       "  </thead>\n",
       "  <tbody>\n",
       "    <tr>\n",
       "      <th>395</th>\n",
       "      <td>3.872983</td>\n",
       "      <td>95329</td>\n",
       "      <td>0.0</td>\n",
       "      <td>0.0</td>\n",
       "      <td>1</td>\n",
       "      <td>1</td>\n",
       "      <td>0</td>\n",
       "    </tr>\n",
       "    <tr>\n",
       "      <th>396</th>\n",
       "      <td>2.000000</td>\n",
       "      <td>81035</td>\n",
       "      <td>0.0</td>\n",
       "      <td>1.0</td>\n",
       "      <td>0</td>\n",
       "      <td>1</td>\n",
       "      <td>0</td>\n",
       "    </tr>\n",
       "  </tbody>\n",
       "</table>\n",
       "</div>"
      ],
      "text/plain": [
       "     yrs.service  salary  rank_AssocProf  rank_AsstProf  rank_Prof  \\\n",
       "395     3.872983   95329             0.0            0.0          1   \n",
       "396     2.000000   81035             0.0            1.0          0   \n",
       "\n",
       "     discipline_A  discipline_B  \n",
       "395             1             0  \n",
       "396             1             0  "
      ]
     },
     "execution_count": 114,
     "metadata": {},
     "output_type": "execute_result"
    }
   ],
   "source": [
    "df.tail(2)"
   ]
  },
  {
   "cell_type": "code",
   "execution_count": 115,
   "id": "ee5c80e6",
   "metadata": {},
   "outputs": [
    {
     "data": {
      "text/plain": [
       "KFold(n_splits=3, random_state=None, shuffle=True)"
      ]
     },
     "execution_count": 115,
     "metadata": {},
     "output_type": "execute_result"
    }
   ],
   "source": [
    "from sklearn.model_selection import KFold ,cross_val_score\n",
    "\n",
    "k_f = KFold(n_splits=3,shuffle=True)\n",
    "\n",
    "k_f"
   ]
  },
  {
   "cell_type": "code",
   "execution_count": 116,
   "id": "aba10387",
   "metadata": {},
   "outputs": [
    {
     "name": "stdout",
     "output_type": "stream",
     "text": [
      "train =  [0 1 2 5 7 9] test =  [3 4 6 8]\n",
      "train =  [1 2 3 4 5 6 8] test =  [0 7 9]\n",
      "train =  [0 3 4 6 7 8 9] test =  [1 2 5]\n"
     ]
    }
   ],
   "source": [
    "for train,test in k_f.split([1,2,3,4,5,6,7,8,9,10]):\n",
    "   print(\"train = \",train,\"test = \",test)"
   ]
  },
  {
   "cell_type": "code",
   "execution_count": 117,
   "id": "f012cc77",
   "metadata": {},
   "outputs": [
    {
     "data": {
      "text/plain": [
       "array([ 0.4237994 , -0.05629662,  0.60346771,  0.57936426,  0.39897843,\n",
       "        0.42650557,  0.31799394,  0.11494114,  0.24656361,  0.32153784])"
      ]
     },
     "execution_count": 117,
     "metadata": {},
     "output_type": "execute_result"
    }
   ],
   "source": [
    "cross_val_score(kn,x_scaled,y,cv=10)"
   ]
  },
  {
   "cell_type": "code",
   "execution_count": 118,
   "id": "1346d285",
   "metadata": {},
   "outputs": [
    {
     "data": {
      "text/plain": [
       "0.32960825651524284"
      ]
     },
     "execution_count": 118,
     "metadata": {},
     "output_type": "execute_result"
    }
   ],
   "source": [
    "cross_val_score(KNeighborsRegressor(),x_scaled,y,cv=5).mean()"
   ]
  },
  {
   "cell_type": "markdown",
   "id": "fcab06d3",
   "metadata": {},
   "source": [
    "conclusion gradient boosting regressor good model accuracy"
   ]
  },
  {
   "cell_type": "code",
   "execution_count": null,
   "id": "f199b8a3",
   "metadata": {},
   "outputs": [],
   "source": []
  }
 ],
 "metadata": {
  "kernelspec": {
   "display_name": "Python 3 (ipykernel)",
   "language": "python",
   "name": "python3"
  },
  "language_info": {
   "codemirror_mode": {
    "name": "ipython",
    "version": 3
   },
   "file_extension": ".py",
   "mimetype": "text/x-python",
   "name": "python",
   "nbconvert_exporter": "python",
   "pygments_lexer": "ipython3",
   "version": "3.9.7"
  }
 },
 "nbformat": 4,
 "nbformat_minor": 5
}
