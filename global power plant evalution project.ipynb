{
 "cells": [
  {
   "cell_type": "code",
   "execution_count": 1,
   "id": "db2a949b",
   "metadata": {},
   "outputs": [],
   "source": [
    "import numpy as np\n",
    "import pandas as pd\n",
    "import matplotlib.pyplot as plt\n",
    "import seaborn as sns\n",
    "import warnings\n",
    "warnings.filterwarnings('ignore')"
   ]
  },
  {
   "cell_type": "code",
   "execution_count": 2,
   "id": "729bcf45",
   "metadata": {},
   "outputs": [],
   "source": [
    "df = pd.read_csv('C:\\\\Users\\\\pc\\\\Desktop\\\\jupyter_notebook\\\\global power plant.csv')"
   ]
  },
  {
   "cell_type": "code",
   "execution_count": 3,
   "id": "40a2c9ec",
   "metadata": {},
   "outputs": [
    {
     "data": {
      "text/html": [
       "<div>\n",
       "<style scoped>\n",
       "    .dataframe tbody tr th:only-of-type {\n",
       "        vertical-align: middle;\n",
       "    }\n",
       "\n",
       "    .dataframe tbody tr th {\n",
       "        vertical-align: top;\n",
       "    }\n",
       "\n",
       "    .dataframe thead th {\n",
       "        text-align: right;\n",
       "    }\n",
       "</style>\n",
       "<table border=\"1\" class=\"dataframe\">\n",
       "  <thead>\n",
       "    <tr style=\"text-align: right;\">\n",
       "      <th></th>\n",
       "      <th>country</th>\n",
       "      <th>country_long</th>\n",
       "      <th>name</th>\n",
       "      <th>gppd_idnr</th>\n",
       "      <th>capacity_mw</th>\n",
       "      <th>latitude</th>\n",
       "      <th>longitude</th>\n",
       "      <th>primary_fuel</th>\n",
       "      <th>other_fuel1</th>\n",
       "      <th>other_fuel2</th>\n",
       "      <th>...</th>\n",
       "      <th>year_of_capacity_data</th>\n",
       "      <th>generation_gwh_2013</th>\n",
       "      <th>generation_gwh_2014</th>\n",
       "      <th>generation_gwh_2015</th>\n",
       "      <th>generation_gwh_2016</th>\n",
       "      <th>generation_gwh_2017</th>\n",
       "      <th>generation_gwh_2018</th>\n",
       "      <th>generation_gwh_2019</th>\n",
       "      <th>generation_data_source</th>\n",
       "      <th>estimated_generation_gwh</th>\n",
       "    </tr>\n",
       "  </thead>\n",
       "  <tbody>\n",
       "    <tr>\n",
       "      <th>0</th>\n",
       "      <td>IND</td>\n",
       "      <td>India</td>\n",
       "      <td>ACME Solar Tower</td>\n",
       "      <td>WRI1020239</td>\n",
       "      <td>2.5</td>\n",
       "      <td>28.1839</td>\n",
       "      <td>73.2407</td>\n",
       "      <td>Solar</td>\n",
       "      <td>NaN</td>\n",
       "      <td>NaN</td>\n",
       "      <td>...</td>\n",
       "      <td>NaN</td>\n",
       "      <td>NaN</td>\n",
       "      <td>NaN</td>\n",
       "      <td>NaN</td>\n",
       "      <td>NaN</td>\n",
       "      <td>NaN</td>\n",
       "      <td>NaN</td>\n",
       "      <td>NaN</td>\n",
       "      <td>NaN</td>\n",
       "      <td>NaN</td>\n",
       "    </tr>\n",
       "    <tr>\n",
       "      <th>1</th>\n",
       "      <td>IND</td>\n",
       "      <td>India</td>\n",
       "      <td>ADITYA CEMENT WORKS</td>\n",
       "      <td>WRI1019881</td>\n",
       "      <td>98.0</td>\n",
       "      <td>24.7663</td>\n",
       "      <td>74.6090</td>\n",
       "      <td>Coal</td>\n",
       "      <td>NaN</td>\n",
       "      <td>NaN</td>\n",
       "      <td>...</td>\n",
       "      <td>NaN</td>\n",
       "      <td>NaN</td>\n",
       "      <td>NaN</td>\n",
       "      <td>NaN</td>\n",
       "      <td>NaN</td>\n",
       "      <td>NaN</td>\n",
       "      <td>NaN</td>\n",
       "      <td>NaN</td>\n",
       "      <td>NaN</td>\n",
       "      <td>NaN</td>\n",
       "    </tr>\n",
       "    <tr>\n",
       "      <th>2</th>\n",
       "      <td>IND</td>\n",
       "      <td>India</td>\n",
       "      <td>AES Saurashtra Windfarms</td>\n",
       "      <td>WRI1026669</td>\n",
       "      <td>39.2</td>\n",
       "      <td>21.9038</td>\n",
       "      <td>69.3732</td>\n",
       "      <td>Wind</td>\n",
       "      <td>NaN</td>\n",
       "      <td>NaN</td>\n",
       "      <td>...</td>\n",
       "      <td>NaN</td>\n",
       "      <td>NaN</td>\n",
       "      <td>NaN</td>\n",
       "      <td>NaN</td>\n",
       "      <td>NaN</td>\n",
       "      <td>NaN</td>\n",
       "      <td>NaN</td>\n",
       "      <td>NaN</td>\n",
       "      <td>NaN</td>\n",
       "      <td>NaN</td>\n",
       "    </tr>\n",
       "    <tr>\n",
       "      <th>3</th>\n",
       "      <td>IND</td>\n",
       "      <td>India</td>\n",
       "      <td>AGARTALA GT</td>\n",
       "      <td>IND0000001</td>\n",
       "      <td>135.0</td>\n",
       "      <td>23.8712</td>\n",
       "      <td>91.3602</td>\n",
       "      <td>Gas</td>\n",
       "      <td>NaN</td>\n",
       "      <td>NaN</td>\n",
       "      <td>...</td>\n",
       "      <td>2019.0</td>\n",
       "      <td>NaN</td>\n",
       "      <td>617.789264</td>\n",
       "      <td>843.747</td>\n",
       "      <td>886.004428</td>\n",
       "      <td>663.774500</td>\n",
       "      <td>626.239128</td>\n",
       "      <td>NaN</td>\n",
       "      <td>Central Electricity Authority</td>\n",
       "      <td>NaN</td>\n",
       "    </tr>\n",
       "    <tr>\n",
       "      <th>4</th>\n",
       "      <td>IND</td>\n",
       "      <td>India</td>\n",
       "      <td>AKALTARA TPP</td>\n",
       "      <td>IND0000002</td>\n",
       "      <td>1800.0</td>\n",
       "      <td>21.9603</td>\n",
       "      <td>82.4091</td>\n",
       "      <td>Coal</td>\n",
       "      <td>Oil</td>\n",
       "      <td>NaN</td>\n",
       "      <td>...</td>\n",
       "      <td>2019.0</td>\n",
       "      <td>NaN</td>\n",
       "      <td>3035.550000</td>\n",
       "      <td>5916.370</td>\n",
       "      <td>6243.000000</td>\n",
       "      <td>5385.579736</td>\n",
       "      <td>7279.000000</td>\n",
       "      <td>NaN</td>\n",
       "      <td>Central Electricity Authority</td>\n",
       "      <td>NaN</td>\n",
       "    </tr>\n",
       "  </tbody>\n",
       "</table>\n",
       "<p>5 rows × 27 columns</p>\n",
       "</div>"
      ],
      "text/plain": [
       "  country country_long                      name   gppd_idnr  capacity_mw  \\\n",
       "0     IND        India          ACME Solar Tower  WRI1020239          2.5   \n",
       "1     IND        India       ADITYA CEMENT WORKS  WRI1019881         98.0   \n",
       "2     IND        India  AES Saurashtra Windfarms  WRI1026669         39.2   \n",
       "3     IND        India               AGARTALA GT  IND0000001        135.0   \n",
       "4     IND        India              AKALTARA TPP  IND0000002       1800.0   \n",
       "\n",
       "   latitude  longitude primary_fuel other_fuel1 other_fuel2  ...  \\\n",
       "0   28.1839    73.2407        Solar         NaN         NaN  ...   \n",
       "1   24.7663    74.6090         Coal         NaN         NaN  ...   \n",
       "2   21.9038    69.3732         Wind         NaN         NaN  ...   \n",
       "3   23.8712    91.3602          Gas         NaN         NaN  ...   \n",
       "4   21.9603    82.4091         Coal         Oil         NaN  ...   \n",
       "\n",
       "   year_of_capacity_data  generation_gwh_2013 generation_gwh_2014  \\\n",
       "0                    NaN                  NaN                 NaN   \n",
       "1                    NaN                  NaN                 NaN   \n",
       "2                    NaN                  NaN                 NaN   \n",
       "3                 2019.0                  NaN          617.789264   \n",
       "4                 2019.0                  NaN         3035.550000   \n",
       "\n",
       "  generation_gwh_2015 generation_gwh_2016 generation_gwh_2017  \\\n",
       "0                 NaN                 NaN                 NaN   \n",
       "1                 NaN                 NaN                 NaN   \n",
       "2                 NaN                 NaN                 NaN   \n",
       "3             843.747          886.004428          663.774500   \n",
       "4            5916.370         6243.000000         5385.579736   \n",
       "\n",
       "   generation_gwh_2018  generation_gwh_2019         generation_data_source  \\\n",
       "0                  NaN                  NaN                            NaN   \n",
       "1                  NaN                  NaN                            NaN   \n",
       "2                  NaN                  NaN                            NaN   \n",
       "3           626.239128                  NaN  Central Electricity Authority   \n",
       "4          7279.000000                  NaN  Central Electricity Authority   \n",
       "\n",
       "   estimated_generation_gwh  \n",
       "0                       NaN  \n",
       "1                       NaN  \n",
       "2                       NaN  \n",
       "3                       NaN  \n",
       "4                       NaN  \n",
       "\n",
       "[5 rows x 27 columns]"
      ]
     },
     "execution_count": 3,
     "metadata": {},
     "output_type": "execute_result"
    }
   ],
   "source": [
    "df.head()"
   ]
  },
  {
   "cell_type": "code",
   "execution_count": 4,
   "id": "4e50cdac",
   "metadata": {},
   "outputs": [
    {
     "data": {
      "text/plain": [
       "Index(['country', 'country_long', 'name', 'gppd_idnr', 'capacity_mw',\n",
       "       'latitude', 'longitude', 'primary_fuel', 'other_fuel1', 'other_fuel2',\n",
       "       'other_fuel3', 'commissioning_year', 'owner', 'source', 'url',\n",
       "       'geolocation_source', 'wepp_id', 'year_of_capacity_data',\n",
       "       'generation_gwh_2013', 'generation_gwh_2014', 'generation_gwh_2015',\n",
       "       'generation_gwh_2016', 'generation_gwh_2017', 'generation_gwh_2018',\n",
       "       'generation_gwh_2019', 'generation_data_source',\n",
       "       'estimated_generation_gwh'],\n",
       "      dtype='object')"
      ]
     },
     "execution_count": 4,
     "metadata": {},
     "output_type": "execute_result"
    }
   ],
   "source": [
    "df.columns"
   ]
  },
  {
   "cell_type": "code",
   "execution_count": 5,
   "id": "bea7d690",
   "metadata": {},
   "outputs": [
    {
     "data": {
      "text/html": [
       "<div>\n",
       "<style scoped>\n",
       "    .dataframe tbody tr th:only-of-type {\n",
       "        vertical-align: middle;\n",
       "    }\n",
       "\n",
       "    .dataframe tbody tr th {\n",
       "        vertical-align: top;\n",
       "    }\n",
       "\n",
       "    .dataframe thead th {\n",
       "        text-align: right;\n",
       "    }\n",
       "</style>\n",
       "<table border=\"1\" class=\"dataframe\">\n",
       "  <thead>\n",
       "    <tr style=\"text-align: right;\">\n",
       "      <th></th>\n",
       "      <th>capacity_mw</th>\n",
       "      <th>latitude</th>\n",
       "      <th>longitude</th>\n",
       "      <th>other_fuel3</th>\n",
       "      <th>commissioning_year</th>\n",
       "      <th>wepp_id</th>\n",
       "      <th>year_of_capacity_data</th>\n",
       "      <th>generation_gwh_2013</th>\n",
       "      <th>generation_gwh_2014</th>\n",
       "      <th>generation_gwh_2015</th>\n",
       "      <th>generation_gwh_2016</th>\n",
       "      <th>generation_gwh_2017</th>\n",
       "      <th>generation_gwh_2018</th>\n",
       "      <th>generation_gwh_2019</th>\n",
       "      <th>estimated_generation_gwh</th>\n",
       "    </tr>\n",
       "  </thead>\n",
       "  <tbody>\n",
       "    <tr>\n",
       "      <th>count</th>\n",
       "      <td>907.000000</td>\n",
       "      <td>861.000000</td>\n",
       "      <td>861.000000</td>\n",
       "      <td>0.0</td>\n",
       "      <td>527.000000</td>\n",
       "      <td>0.0</td>\n",
       "      <td>519.0</td>\n",
       "      <td>0.0</td>\n",
       "      <td>398.000000</td>\n",
       "      <td>422.000000</td>\n",
       "      <td>434.000000</td>\n",
       "      <td>440.000000</td>\n",
       "      <td>448.000000</td>\n",
       "      <td>0.0</td>\n",
       "      <td>0.0</td>\n",
       "    </tr>\n",
       "    <tr>\n",
       "      <th>mean</th>\n",
       "      <td>326.223755</td>\n",
       "      <td>21.197918</td>\n",
       "      <td>77.464907</td>\n",
       "      <td>NaN</td>\n",
       "      <td>1997.091082</td>\n",
       "      <td>NaN</td>\n",
       "      <td>2019.0</td>\n",
       "      <td>NaN</td>\n",
       "      <td>2431.823590</td>\n",
       "      <td>2428.226946</td>\n",
       "      <td>2467.936859</td>\n",
       "      <td>2547.759305</td>\n",
       "      <td>2600.804099</td>\n",
       "      <td>NaN</td>\n",
       "      <td>NaN</td>\n",
       "    </tr>\n",
       "    <tr>\n",
       "      <th>std</th>\n",
       "      <td>590.085456</td>\n",
       "      <td>6.239612</td>\n",
       "      <td>4.939316</td>\n",
       "      <td>NaN</td>\n",
       "      <td>17.082868</td>\n",
       "      <td>NaN</td>\n",
       "      <td>0.0</td>\n",
       "      <td>NaN</td>\n",
       "      <td>4026.440035</td>\n",
       "      <td>4194.596959</td>\n",
       "      <td>4162.884308</td>\n",
       "      <td>4196.991169</td>\n",
       "      <td>4314.880456</td>\n",
       "      <td>NaN</td>\n",
       "      <td>NaN</td>\n",
       "    </tr>\n",
       "    <tr>\n",
       "      <th>min</th>\n",
       "      <td>0.000000</td>\n",
       "      <td>8.168900</td>\n",
       "      <td>68.644700</td>\n",
       "      <td>NaN</td>\n",
       "      <td>1927.000000</td>\n",
       "      <td>NaN</td>\n",
       "      <td>2019.0</td>\n",
       "      <td>NaN</td>\n",
       "      <td>0.000000</td>\n",
       "      <td>0.000000</td>\n",
       "      <td>0.000000</td>\n",
       "      <td>0.000000</td>\n",
       "      <td>0.000000</td>\n",
       "      <td>NaN</td>\n",
       "      <td>NaN</td>\n",
       "    </tr>\n",
       "    <tr>\n",
       "      <th>25%</th>\n",
       "      <td>16.725000</td>\n",
       "      <td>16.773900</td>\n",
       "      <td>74.256200</td>\n",
       "      <td>NaN</td>\n",
       "      <td>1988.000000</td>\n",
       "      <td>NaN</td>\n",
       "      <td>2019.0</td>\n",
       "      <td>NaN</td>\n",
       "      <td>223.557672</td>\n",
       "      <td>176.381063</td>\n",
       "      <td>188.285252</td>\n",
       "      <td>177.874930</td>\n",
       "      <td>193.378250</td>\n",
       "      <td>NaN</td>\n",
       "      <td>NaN</td>\n",
       "    </tr>\n",
       "    <tr>\n",
       "      <th>50%</th>\n",
       "      <td>59.200000</td>\n",
       "      <td>21.780000</td>\n",
       "      <td>76.719500</td>\n",
       "      <td>NaN</td>\n",
       "      <td>2001.000000</td>\n",
       "      <td>NaN</td>\n",
       "      <td>2019.0</td>\n",
       "      <td>NaN</td>\n",
       "      <td>801.123775</td>\n",
       "      <td>711.181225</td>\n",
       "      <td>737.205450</td>\n",
       "      <td>817.977250</td>\n",
       "      <td>751.644375</td>\n",
       "      <td>NaN</td>\n",
       "      <td>NaN</td>\n",
       "    </tr>\n",
       "    <tr>\n",
       "      <th>75%</th>\n",
       "      <td>385.250000</td>\n",
       "      <td>25.512400</td>\n",
       "      <td>79.440800</td>\n",
       "      <td>NaN</td>\n",
       "      <td>2012.000000</td>\n",
       "      <td>NaN</td>\n",
       "      <td>2019.0</td>\n",
       "      <td>NaN</td>\n",
       "      <td>3035.306250</td>\n",
       "      <td>3084.121250</td>\n",
       "      <td>3282.861313</td>\n",
       "      <td>3275.690475</td>\n",
       "      <td>3143.535900</td>\n",
       "      <td>NaN</td>\n",
       "      <td>NaN</td>\n",
       "    </tr>\n",
       "    <tr>\n",
       "      <th>max</th>\n",
       "      <td>4760.000000</td>\n",
       "      <td>34.649000</td>\n",
       "      <td>95.408000</td>\n",
       "      <td>NaN</td>\n",
       "      <td>2018.000000</td>\n",
       "      <td>NaN</td>\n",
       "      <td>2019.0</td>\n",
       "      <td>NaN</td>\n",
       "      <td>28127.000000</td>\n",
       "      <td>30539.000000</td>\n",
       "      <td>30015.000000</td>\n",
       "      <td>35116.000000</td>\n",
       "      <td>35136.000000</td>\n",
       "      <td>NaN</td>\n",
       "      <td>NaN</td>\n",
       "    </tr>\n",
       "  </tbody>\n",
       "</table>\n",
       "</div>"
      ],
      "text/plain": [
       "       capacity_mw    latitude   longitude  other_fuel3  commissioning_year  \\\n",
       "count   907.000000  861.000000  861.000000          0.0          527.000000   \n",
       "mean    326.223755   21.197918   77.464907          NaN         1997.091082   \n",
       "std     590.085456    6.239612    4.939316          NaN           17.082868   \n",
       "min       0.000000    8.168900   68.644700          NaN         1927.000000   \n",
       "25%      16.725000   16.773900   74.256200          NaN         1988.000000   \n",
       "50%      59.200000   21.780000   76.719500          NaN         2001.000000   \n",
       "75%     385.250000   25.512400   79.440800          NaN         2012.000000   \n",
       "max    4760.000000   34.649000   95.408000          NaN         2018.000000   \n",
       "\n",
       "       wepp_id  year_of_capacity_data  generation_gwh_2013  \\\n",
       "count      0.0                  519.0                  0.0   \n",
       "mean       NaN                 2019.0                  NaN   \n",
       "std        NaN                    0.0                  NaN   \n",
       "min        NaN                 2019.0                  NaN   \n",
       "25%        NaN                 2019.0                  NaN   \n",
       "50%        NaN                 2019.0                  NaN   \n",
       "75%        NaN                 2019.0                  NaN   \n",
       "max        NaN                 2019.0                  NaN   \n",
       "\n",
       "       generation_gwh_2014  generation_gwh_2015  generation_gwh_2016  \\\n",
       "count           398.000000           422.000000           434.000000   \n",
       "mean           2431.823590          2428.226946          2467.936859   \n",
       "std            4026.440035          4194.596959          4162.884308   \n",
       "min               0.000000             0.000000             0.000000   \n",
       "25%             223.557672           176.381063           188.285252   \n",
       "50%             801.123775           711.181225           737.205450   \n",
       "75%            3035.306250          3084.121250          3282.861313   \n",
       "max           28127.000000         30539.000000         30015.000000   \n",
       "\n",
       "       generation_gwh_2017  generation_gwh_2018  generation_gwh_2019  \\\n",
       "count           440.000000           448.000000                  0.0   \n",
       "mean           2547.759305          2600.804099                  NaN   \n",
       "std            4196.991169          4314.880456                  NaN   \n",
       "min               0.000000             0.000000                  NaN   \n",
       "25%             177.874930           193.378250                  NaN   \n",
       "50%             817.977250           751.644375                  NaN   \n",
       "75%            3275.690475          3143.535900                  NaN   \n",
       "max           35116.000000         35136.000000                  NaN   \n",
       "\n",
       "       estimated_generation_gwh  \n",
       "count                       0.0  \n",
       "mean                        NaN  \n",
       "std                         NaN  \n",
       "min                         NaN  \n",
       "25%                         NaN  \n",
       "50%                         NaN  \n",
       "75%                         NaN  \n",
       "max                         NaN  "
      ]
     },
     "execution_count": 5,
     "metadata": {},
     "output_type": "execute_result"
    }
   ],
   "source": [
    "df.describe()"
   ]
  },
  {
   "cell_type": "code",
   "execution_count": 6,
   "id": "a9bd0754",
   "metadata": {},
   "outputs": [],
   "source": [
    "#other_fuel3,wepp_id,generation_gwh_2013,generation_gwh_2019,estimated_generation_gwh"
   ]
  },
  {
   "cell_type": "code",
   "execution_count": 7,
   "id": "1322c480",
   "metadata": {},
   "outputs": [
    {
     "name": "stdout",
     "output_type": "stream",
     "text": [
      "<class 'pandas.core.frame.DataFrame'>\n",
      "RangeIndex: 907 entries, 0 to 906\n",
      "Data columns (total 27 columns):\n",
      " #   Column                    Non-Null Count  Dtype  \n",
      "---  ------                    --------------  -----  \n",
      " 0   country                   907 non-null    object \n",
      " 1   country_long              907 non-null    object \n",
      " 2   name                      907 non-null    object \n",
      " 3   gppd_idnr                 907 non-null    object \n",
      " 4   capacity_mw               907 non-null    float64\n",
      " 5   latitude                  861 non-null    float64\n",
      " 6   longitude                 861 non-null    float64\n",
      " 7   primary_fuel              907 non-null    object \n",
      " 8   other_fuel1               198 non-null    object \n",
      " 9   other_fuel2               1 non-null      object \n",
      " 10  other_fuel3               0 non-null      float64\n",
      " 11  commissioning_year        527 non-null    float64\n",
      " 12  owner                     342 non-null    object \n",
      " 13  source                    907 non-null    object \n",
      " 14  url                       907 non-null    object \n",
      " 15  geolocation_source        888 non-null    object \n",
      " 16  wepp_id                   0 non-null      float64\n",
      " 17  year_of_capacity_data     519 non-null    float64\n",
      " 18  generation_gwh_2013       0 non-null      float64\n",
      " 19  generation_gwh_2014       398 non-null    float64\n",
      " 20  generation_gwh_2015       422 non-null    float64\n",
      " 21  generation_gwh_2016       434 non-null    float64\n",
      " 22  generation_gwh_2017       440 non-null    float64\n",
      " 23  generation_gwh_2018       448 non-null    float64\n",
      " 24  generation_gwh_2019       0 non-null      float64\n",
      " 25  generation_data_source    449 non-null    object \n",
      " 26  estimated_generation_gwh  0 non-null      float64\n",
      "dtypes: float64(15), object(12)\n",
      "memory usage: 148.9+ KB\n"
     ]
    }
   ],
   "source": [
    "df.info()"
   ]
  },
  {
   "cell_type": "code",
   "execution_count": 8,
   "id": "934598cc",
   "metadata": {},
   "outputs": [
    {
     "data": {
      "text/html": [
       "<div>\n",
       "<style scoped>\n",
       "    .dataframe tbody tr th:only-of-type {\n",
       "        vertical-align: middle;\n",
       "    }\n",
       "\n",
       "    .dataframe tbody tr th {\n",
       "        vertical-align: top;\n",
       "    }\n",
       "\n",
       "    .dataframe thead th {\n",
       "        text-align: right;\n",
       "    }\n",
       "</style>\n",
       "<table border=\"1\" class=\"dataframe\">\n",
       "  <thead>\n",
       "    <tr style=\"text-align: right;\">\n",
       "      <th></th>\n",
       "      <th>country</th>\n",
       "      <th>country_long</th>\n",
       "      <th>name</th>\n",
       "      <th>gppd_idnr</th>\n",
       "      <th>capacity_mw</th>\n",
       "      <th>latitude</th>\n",
       "      <th>longitude</th>\n",
       "      <th>primary_fuel</th>\n",
       "      <th>other_fuel1</th>\n",
       "      <th>other_fuel2</th>\n",
       "      <th>...</th>\n",
       "      <th>year_of_capacity_data</th>\n",
       "      <th>generation_gwh_2013</th>\n",
       "      <th>generation_gwh_2014</th>\n",
       "      <th>generation_gwh_2015</th>\n",
       "      <th>generation_gwh_2016</th>\n",
       "      <th>generation_gwh_2017</th>\n",
       "      <th>generation_gwh_2018</th>\n",
       "      <th>generation_gwh_2019</th>\n",
       "      <th>generation_data_source</th>\n",
       "      <th>estimated_generation_gwh</th>\n",
       "    </tr>\n",
       "  </thead>\n",
       "  <tbody>\n",
       "    <tr>\n",
       "      <th>0</th>\n",
       "      <td>IND</td>\n",
       "      <td>India</td>\n",
       "      <td>ACME Solar Tower</td>\n",
       "      <td>WRI1020239</td>\n",
       "      <td>2.5</td>\n",
       "      <td>28.1839</td>\n",
       "      <td>73.2407</td>\n",
       "      <td>Solar</td>\n",
       "      <td>NaN</td>\n",
       "      <td>NaN</td>\n",
       "      <td>...</td>\n",
       "      <td>NaN</td>\n",
       "      <td>NaN</td>\n",
       "      <td>NaN</td>\n",
       "      <td>NaN</td>\n",
       "      <td>NaN</td>\n",
       "      <td>NaN</td>\n",
       "      <td>NaN</td>\n",
       "      <td>NaN</td>\n",
       "      <td>NaN</td>\n",
       "      <td>NaN</td>\n",
       "    </tr>\n",
       "    <tr>\n",
       "      <th>1</th>\n",
       "      <td>IND</td>\n",
       "      <td>India</td>\n",
       "      <td>ADITYA CEMENT WORKS</td>\n",
       "      <td>WRI1019881</td>\n",
       "      <td>98.0</td>\n",
       "      <td>24.7663</td>\n",
       "      <td>74.6090</td>\n",
       "      <td>Coal</td>\n",
       "      <td>NaN</td>\n",
       "      <td>NaN</td>\n",
       "      <td>...</td>\n",
       "      <td>NaN</td>\n",
       "      <td>NaN</td>\n",
       "      <td>NaN</td>\n",
       "      <td>NaN</td>\n",
       "      <td>NaN</td>\n",
       "      <td>NaN</td>\n",
       "      <td>NaN</td>\n",
       "      <td>NaN</td>\n",
       "      <td>NaN</td>\n",
       "      <td>NaN</td>\n",
       "    </tr>\n",
       "    <tr>\n",
       "      <th>2</th>\n",
       "      <td>IND</td>\n",
       "      <td>India</td>\n",
       "      <td>AES Saurashtra Windfarms</td>\n",
       "      <td>WRI1026669</td>\n",
       "      <td>39.2</td>\n",
       "      <td>21.9038</td>\n",
       "      <td>69.3732</td>\n",
       "      <td>Wind</td>\n",
       "      <td>NaN</td>\n",
       "      <td>NaN</td>\n",
       "      <td>...</td>\n",
       "      <td>NaN</td>\n",
       "      <td>NaN</td>\n",
       "      <td>NaN</td>\n",
       "      <td>NaN</td>\n",
       "      <td>NaN</td>\n",
       "      <td>NaN</td>\n",
       "      <td>NaN</td>\n",
       "      <td>NaN</td>\n",
       "      <td>NaN</td>\n",
       "      <td>NaN</td>\n",
       "    </tr>\n",
       "    <tr>\n",
       "      <th>3</th>\n",
       "      <td>IND</td>\n",
       "      <td>India</td>\n",
       "      <td>AGARTALA GT</td>\n",
       "      <td>IND0000001</td>\n",
       "      <td>135.0</td>\n",
       "      <td>23.8712</td>\n",
       "      <td>91.3602</td>\n",
       "      <td>Gas</td>\n",
       "      <td>NaN</td>\n",
       "      <td>NaN</td>\n",
       "      <td>...</td>\n",
       "      <td>2019.0</td>\n",
       "      <td>NaN</td>\n",
       "      <td>617.789264</td>\n",
       "      <td>843.747</td>\n",
       "      <td>886.004428</td>\n",
       "      <td>663.774500</td>\n",
       "      <td>626.239128</td>\n",
       "      <td>NaN</td>\n",
       "      <td>Central Electricity Authority</td>\n",
       "      <td>NaN</td>\n",
       "    </tr>\n",
       "    <tr>\n",
       "      <th>4</th>\n",
       "      <td>IND</td>\n",
       "      <td>India</td>\n",
       "      <td>AKALTARA TPP</td>\n",
       "      <td>IND0000002</td>\n",
       "      <td>1800.0</td>\n",
       "      <td>21.9603</td>\n",
       "      <td>82.4091</td>\n",
       "      <td>Coal</td>\n",
       "      <td>Oil</td>\n",
       "      <td>NaN</td>\n",
       "      <td>...</td>\n",
       "      <td>2019.0</td>\n",
       "      <td>NaN</td>\n",
       "      <td>3035.550000</td>\n",
       "      <td>5916.370</td>\n",
       "      <td>6243.000000</td>\n",
       "      <td>5385.579736</td>\n",
       "      <td>7279.000000</td>\n",
       "      <td>NaN</td>\n",
       "      <td>Central Electricity Authority</td>\n",
       "      <td>NaN</td>\n",
       "    </tr>\n",
       "  </tbody>\n",
       "</table>\n",
       "<p>5 rows × 27 columns</p>\n",
       "</div>"
      ],
      "text/plain": [
       "  country country_long                      name   gppd_idnr  capacity_mw  \\\n",
       "0     IND        India          ACME Solar Tower  WRI1020239          2.5   \n",
       "1     IND        India       ADITYA CEMENT WORKS  WRI1019881         98.0   \n",
       "2     IND        India  AES Saurashtra Windfarms  WRI1026669         39.2   \n",
       "3     IND        India               AGARTALA GT  IND0000001        135.0   \n",
       "4     IND        India              AKALTARA TPP  IND0000002       1800.0   \n",
       "\n",
       "   latitude  longitude primary_fuel other_fuel1 other_fuel2  ...  \\\n",
       "0   28.1839    73.2407        Solar         NaN         NaN  ...   \n",
       "1   24.7663    74.6090         Coal         NaN         NaN  ...   \n",
       "2   21.9038    69.3732         Wind         NaN         NaN  ...   \n",
       "3   23.8712    91.3602          Gas         NaN         NaN  ...   \n",
       "4   21.9603    82.4091         Coal         Oil         NaN  ...   \n",
       "\n",
       "   year_of_capacity_data  generation_gwh_2013 generation_gwh_2014  \\\n",
       "0                    NaN                  NaN                 NaN   \n",
       "1                    NaN                  NaN                 NaN   \n",
       "2                    NaN                  NaN                 NaN   \n",
       "3                 2019.0                  NaN          617.789264   \n",
       "4                 2019.0                  NaN         3035.550000   \n",
       "\n",
       "  generation_gwh_2015 generation_gwh_2016 generation_gwh_2017  \\\n",
       "0                 NaN                 NaN                 NaN   \n",
       "1                 NaN                 NaN                 NaN   \n",
       "2                 NaN                 NaN                 NaN   \n",
       "3             843.747          886.004428          663.774500   \n",
       "4            5916.370         6243.000000         5385.579736   \n",
       "\n",
       "   generation_gwh_2018  generation_gwh_2019         generation_data_source  \\\n",
       "0                  NaN                  NaN                            NaN   \n",
       "1                  NaN                  NaN                            NaN   \n",
       "2                  NaN                  NaN                            NaN   \n",
       "3           626.239128                  NaN  Central Electricity Authority   \n",
       "4          7279.000000                  NaN  Central Electricity Authority   \n",
       "\n",
       "   estimated_generation_gwh  \n",
       "0                       NaN  \n",
       "1                       NaN  \n",
       "2                       NaN  \n",
       "3                       NaN  \n",
       "4                       NaN  \n",
       "\n",
       "[5 rows x 27 columns]"
      ]
     },
     "execution_count": 8,
     "metadata": {},
     "output_type": "execute_result"
    }
   ],
   "source": [
    "df.head()"
   ]
  },
  {
   "cell_type": "code",
   "execution_count": null,
   "id": "fcfa1e36",
   "metadata": {},
   "outputs": [],
   "source": [
    "#generation_data_source,estimated_generation_gwh,other_fuel3,wepp_id,generation_gwh_2013,\n",
    "#generation_gwh_2019,estimated_generation_gwh,country,country_long,name,gppd_idnr,"
   ]
  },
  {
   "cell_type": "code",
   "execution_count": 9,
   "id": "19ec86f9",
   "metadata": {},
   "outputs": [],
   "source": [
    " df.drop(['generation_data_source','estimated_generation_gwh','other_fuel3','wepp_id','generation_gwh_2013',\n",
    "'generation_gwh_2019','country','country_long','name','gppd_idnr'],axis=1,inplace=True)"
   ]
  },
  {
   "cell_type": "code",
   "execution_count": 10,
   "id": "a0856a7b",
   "metadata": {},
   "outputs": [
    {
     "data": {
      "text/html": [
       "<div>\n",
       "<style scoped>\n",
       "    .dataframe tbody tr th:only-of-type {\n",
       "        vertical-align: middle;\n",
       "    }\n",
       "\n",
       "    .dataframe tbody tr th {\n",
       "        vertical-align: top;\n",
       "    }\n",
       "\n",
       "    .dataframe thead th {\n",
       "        text-align: right;\n",
       "    }\n",
       "</style>\n",
       "<table border=\"1\" class=\"dataframe\">\n",
       "  <thead>\n",
       "    <tr style=\"text-align: right;\">\n",
       "      <th></th>\n",
       "      <th>capacity_mw</th>\n",
       "      <th>latitude</th>\n",
       "      <th>longitude</th>\n",
       "      <th>primary_fuel</th>\n",
       "      <th>other_fuel1</th>\n",
       "      <th>other_fuel2</th>\n",
       "      <th>commissioning_year</th>\n",
       "      <th>owner</th>\n",
       "      <th>source</th>\n",
       "      <th>url</th>\n",
       "      <th>geolocation_source</th>\n",
       "      <th>year_of_capacity_data</th>\n",
       "      <th>generation_gwh_2014</th>\n",
       "      <th>generation_gwh_2015</th>\n",
       "      <th>generation_gwh_2016</th>\n",
       "      <th>generation_gwh_2017</th>\n",
       "      <th>generation_gwh_2018</th>\n",
       "    </tr>\n",
       "  </thead>\n",
       "  <tbody>\n",
       "    <tr>\n",
       "      <th>0</th>\n",
       "      <td>2.5</td>\n",
       "      <td>28.1839</td>\n",
       "      <td>73.2407</td>\n",
       "      <td>Solar</td>\n",
       "      <td>NaN</td>\n",
       "      <td>NaN</td>\n",
       "      <td>2011.0</td>\n",
       "      <td>Solar Paces</td>\n",
       "      <td>National Renewable Energy Laboratory</td>\n",
       "      <td>http://www.nrel.gov/csp/solarpaces/project_det...</td>\n",
       "      <td>National Renewable Energy Laboratory</td>\n",
       "      <td>NaN</td>\n",
       "      <td>NaN</td>\n",
       "      <td>NaN</td>\n",
       "      <td>NaN</td>\n",
       "      <td>NaN</td>\n",
       "      <td>NaN</td>\n",
       "    </tr>\n",
       "    <tr>\n",
       "      <th>1</th>\n",
       "      <td>98.0</td>\n",
       "      <td>24.7663</td>\n",
       "      <td>74.6090</td>\n",
       "      <td>Coal</td>\n",
       "      <td>NaN</td>\n",
       "      <td>NaN</td>\n",
       "      <td>NaN</td>\n",
       "      <td>Ultratech Cement ltd</td>\n",
       "      <td>Ultratech Cement ltd</td>\n",
       "      <td>http://www.ultratechcement.com/</td>\n",
       "      <td>WRI</td>\n",
       "      <td>NaN</td>\n",
       "      <td>NaN</td>\n",
       "      <td>NaN</td>\n",
       "      <td>NaN</td>\n",
       "      <td>NaN</td>\n",
       "      <td>NaN</td>\n",
       "    </tr>\n",
       "    <tr>\n",
       "      <th>2</th>\n",
       "      <td>39.2</td>\n",
       "      <td>21.9038</td>\n",
       "      <td>69.3732</td>\n",
       "      <td>Wind</td>\n",
       "      <td>NaN</td>\n",
       "      <td>NaN</td>\n",
       "      <td>NaN</td>\n",
       "      <td>AES</td>\n",
       "      <td>CDM</td>\n",
       "      <td>https://cdm.unfccc.int/Projects/DB/DNV-CUK1328...</td>\n",
       "      <td>WRI</td>\n",
       "      <td>NaN</td>\n",
       "      <td>NaN</td>\n",
       "      <td>NaN</td>\n",
       "      <td>NaN</td>\n",
       "      <td>NaN</td>\n",
       "      <td>NaN</td>\n",
       "    </tr>\n",
       "    <tr>\n",
       "      <th>3</th>\n",
       "      <td>135.0</td>\n",
       "      <td>23.8712</td>\n",
       "      <td>91.3602</td>\n",
       "      <td>Gas</td>\n",
       "      <td>NaN</td>\n",
       "      <td>NaN</td>\n",
       "      <td>2004.0</td>\n",
       "      <td>NaN</td>\n",
       "      <td>Central Electricity Authority</td>\n",
       "      <td>http://www.cea.nic.in/</td>\n",
       "      <td>WRI</td>\n",
       "      <td>2019.0</td>\n",
       "      <td>617.789264</td>\n",
       "      <td>843.747000</td>\n",
       "      <td>886.004428</td>\n",
       "      <td>663.774500</td>\n",
       "      <td>626.239128</td>\n",
       "    </tr>\n",
       "    <tr>\n",
       "      <th>4</th>\n",
       "      <td>1800.0</td>\n",
       "      <td>21.9603</td>\n",
       "      <td>82.4091</td>\n",
       "      <td>Coal</td>\n",
       "      <td>Oil</td>\n",
       "      <td>NaN</td>\n",
       "      <td>2015.0</td>\n",
       "      <td>NaN</td>\n",
       "      <td>Central Electricity Authority</td>\n",
       "      <td>http://www.cea.nic.in/</td>\n",
       "      <td>WRI</td>\n",
       "      <td>2019.0</td>\n",
       "      <td>3035.550000</td>\n",
       "      <td>5916.370000</td>\n",
       "      <td>6243.000000</td>\n",
       "      <td>5385.579736</td>\n",
       "      <td>7279.000000</td>\n",
       "    </tr>\n",
       "    <tr>\n",
       "      <th>...</th>\n",
       "      <td>...</td>\n",
       "      <td>...</td>\n",
       "      <td>...</td>\n",
       "      <td>...</td>\n",
       "      <td>...</td>\n",
       "      <td>...</td>\n",
       "      <td>...</td>\n",
       "      <td>...</td>\n",
       "      <td>...</td>\n",
       "      <td>...</td>\n",
       "      <td>...</td>\n",
       "      <td>...</td>\n",
       "      <td>...</td>\n",
       "      <td>...</td>\n",
       "      <td>...</td>\n",
       "      <td>...</td>\n",
       "      <td>...</td>\n",
       "    </tr>\n",
       "    <tr>\n",
       "      <th>902</th>\n",
       "      <td>1600.0</td>\n",
       "      <td>16.2949</td>\n",
       "      <td>77.3568</td>\n",
       "      <td>Coal</td>\n",
       "      <td>Oil</td>\n",
       "      <td>NaN</td>\n",
       "      <td>2016.0</td>\n",
       "      <td>NaN</td>\n",
       "      <td>Central Electricity Authority</td>\n",
       "      <td>http://www.cea.nic.in/</td>\n",
       "      <td>WRI</td>\n",
       "      <td>2019.0</td>\n",
       "      <td>NaN</td>\n",
       "      <td>0.994875</td>\n",
       "      <td>233.596650</td>\n",
       "      <td>865.400000</td>\n",
       "      <td>686.500000</td>\n",
       "    </tr>\n",
       "    <tr>\n",
       "      <th>903</th>\n",
       "      <td>3.0</td>\n",
       "      <td>12.8932</td>\n",
       "      <td>78.1654</td>\n",
       "      <td>Solar</td>\n",
       "      <td>NaN</td>\n",
       "      <td>NaN</td>\n",
       "      <td>NaN</td>\n",
       "      <td>Karnataka Power Corporation Limited</td>\n",
       "      <td>Karnataka Power Corporation Limited</td>\n",
       "      <td>http://karnatakapower.com</td>\n",
       "      <td>Industry About</td>\n",
       "      <td>NaN</td>\n",
       "      <td>NaN</td>\n",
       "      <td>NaN</td>\n",
       "      <td>NaN</td>\n",
       "      <td>NaN</td>\n",
       "      <td>NaN</td>\n",
       "    </tr>\n",
       "    <tr>\n",
       "      <th>904</th>\n",
       "      <td>25.5</td>\n",
       "      <td>15.2758</td>\n",
       "      <td>75.5811</td>\n",
       "      <td>Wind</td>\n",
       "      <td>NaN</td>\n",
       "      <td>NaN</td>\n",
       "      <td>NaN</td>\n",
       "      <td>NaN</td>\n",
       "      <td>CDM</td>\n",
       "      <td>https://cdm.unfccc.int/Projects/DB/TUEV-RHEIN1...</td>\n",
       "      <td>WRI</td>\n",
       "      <td>NaN</td>\n",
       "      <td>NaN</td>\n",
       "      <td>NaN</td>\n",
       "      <td>NaN</td>\n",
       "      <td>NaN</td>\n",
       "      <td>NaN</td>\n",
       "    </tr>\n",
       "    <tr>\n",
       "      <th>905</th>\n",
       "      <td>80.0</td>\n",
       "      <td>24.3500</td>\n",
       "      <td>73.7477</td>\n",
       "      <td>Coal</td>\n",
       "      <td>NaN</td>\n",
       "      <td>NaN</td>\n",
       "      <td>NaN</td>\n",
       "      <td>Hindustan Zinc ltd</td>\n",
       "      <td>Hindustan Zinc ltd</td>\n",
       "      <td>http://www.hzlindia.com/</td>\n",
       "      <td>WRI</td>\n",
       "      <td>NaN</td>\n",
       "      <td>NaN</td>\n",
       "      <td>NaN</td>\n",
       "      <td>NaN</td>\n",
       "      <td>NaN</td>\n",
       "      <td>NaN</td>\n",
       "    </tr>\n",
       "    <tr>\n",
       "      <th>906</th>\n",
       "      <td>16.5</td>\n",
       "      <td>9.9344</td>\n",
       "      <td>77.4768</td>\n",
       "      <td>Wind</td>\n",
       "      <td>NaN</td>\n",
       "      <td>NaN</td>\n",
       "      <td>NaN</td>\n",
       "      <td>iEnergy Wind Farms</td>\n",
       "      <td>CDM</td>\n",
       "      <td>https://cdm.unfccc.int/Projects/DB/RWTUV134503...</td>\n",
       "      <td>WRI</td>\n",
       "      <td>NaN</td>\n",
       "      <td>NaN</td>\n",
       "      <td>NaN</td>\n",
       "      <td>NaN</td>\n",
       "      <td>NaN</td>\n",
       "      <td>NaN</td>\n",
       "    </tr>\n",
       "  </tbody>\n",
       "</table>\n",
       "<p>907 rows × 17 columns</p>\n",
       "</div>"
      ],
      "text/plain": [
       "     capacity_mw  latitude  longitude primary_fuel other_fuel1 other_fuel2  \\\n",
       "0            2.5   28.1839    73.2407        Solar         NaN         NaN   \n",
       "1           98.0   24.7663    74.6090         Coal         NaN         NaN   \n",
       "2           39.2   21.9038    69.3732         Wind         NaN         NaN   \n",
       "3          135.0   23.8712    91.3602          Gas         NaN         NaN   \n",
       "4         1800.0   21.9603    82.4091         Coal         Oil         NaN   \n",
       "..           ...       ...        ...          ...         ...         ...   \n",
       "902       1600.0   16.2949    77.3568         Coal         Oil         NaN   \n",
       "903          3.0   12.8932    78.1654        Solar         NaN         NaN   \n",
       "904         25.5   15.2758    75.5811         Wind         NaN         NaN   \n",
       "905         80.0   24.3500    73.7477         Coal         NaN         NaN   \n",
       "906         16.5    9.9344    77.4768         Wind         NaN         NaN   \n",
       "\n",
       "     commissioning_year                                owner  \\\n",
       "0                2011.0                          Solar Paces   \n",
       "1                   NaN                 Ultratech Cement ltd   \n",
       "2                   NaN                                  AES   \n",
       "3                2004.0                                  NaN   \n",
       "4                2015.0                                  NaN   \n",
       "..                  ...                                  ...   \n",
       "902              2016.0                                  NaN   \n",
       "903                 NaN  Karnataka Power Corporation Limited   \n",
       "904                 NaN                                  NaN   \n",
       "905                 NaN                   Hindustan Zinc ltd   \n",
       "906                 NaN                   iEnergy Wind Farms   \n",
       "\n",
       "                                   source  \\\n",
       "0    National Renewable Energy Laboratory   \n",
       "1                    Ultratech Cement ltd   \n",
       "2                                     CDM   \n",
       "3           Central Electricity Authority   \n",
       "4           Central Electricity Authority   \n",
       "..                                    ...   \n",
       "902         Central Electricity Authority   \n",
       "903   Karnataka Power Corporation Limited   \n",
       "904                                   CDM   \n",
       "905                    Hindustan Zinc ltd   \n",
       "906                                   CDM   \n",
       "\n",
       "                                                   url  \\\n",
       "0    http://www.nrel.gov/csp/solarpaces/project_det...   \n",
       "1                      http://www.ultratechcement.com/   \n",
       "2    https://cdm.unfccc.int/Projects/DB/DNV-CUK1328...   \n",
       "3                               http://www.cea.nic.in/   \n",
       "4                               http://www.cea.nic.in/   \n",
       "..                                                 ...   \n",
       "902                             http://www.cea.nic.in/   \n",
       "903                          http://karnatakapower.com   \n",
       "904  https://cdm.unfccc.int/Projects/DB/TUEV-RHEIN1...   \n",
       "905                           http://www.hzlindia.com/   \n",
       "906  https://cdm.unfccc.int/Projects/DB/RWTUV134503...   \n",
       "\n",
       "                       geolocation_source  year_of_capacity_data  \\\n",
       "0    National Renewable Energy Laboratory                    NaN   \n",
       "1                                     WRI                    NaN   \n",
       "2                                     WRI                    NaN   \n",
       "3                                     WRI                 2019.0   \n",
       "4                                     WRI                 2019.0   \n",
       "..                                    ...                    ...   \n",
       "902                                   WRI                 2019.0   \n",
       "903                        Industry About                    NaN   \n",
       "904                                   WRI                    NaN   \n",
       "905                                   WRI                    NaN   \n",
       "906                                   WRI                    NaN   \n",
       "\n",
       "     generation_gwh_2014  generation_gwh_2015  generation_gwh_2016  \\\n",
       "0                    NaN                  NaN                  NaN   \n",
       "1                    NaN                  NaN                  NaN   \n",
       "2                    NaN                  NaN                  NaN   \n",
       "3             617.789264           843.747000           886.004428   \n",
       "4            3035.550000          5916.370000          6243.000000   \n",
       "..                   ...                  ...                  ...   \n",
       "902                  NaN             0.994875           233.596650   \n",
       "903                  NaN                  NaN                  NaN   \n",
       "904                  NaN                  NaN                  NaN   \n",
       "905                  NaN                  NaN                  NaN   \n",
       "906                  NaN                  NaN                  NaN   \n",
       "\n",
       "     generation_gwh_2017  generation_gwh_2018  \n",
       "0                    NaN                  NaN  \n",
       "1                    NaN                  NaN  \n",
       "2                    NaN                  NaN  \n",
       "3             663.774500           626.239128  \n",
       "4            5385.579736          7279.000000  \n",
       "..                   ...                  ...  \n",
       "902           865.400000           686.500000  \n",
       "903                  NaN                  NaN  \n",
       "904                  NaN                  NaN  \n",
       "905                  NaN                  NaN  \n",
       "906                  NaN                  NaN  \n",
       "\n",
       "[907 rows x 17 columns]"
      ]
     },
     "execution_count": 10,
     "metadata": {},
     "output_type": "execute_result"
    }
   ],
   "source": [
    "df"
   ]
  },
  {
   "cell_type": "code",
   "execution_count": 11,
   "id": "0cf2547f",
   "metadata": {},
   "outputs": [
    {
     "data": {
      "text/html": [
       "<div>\n",
       "<style scoped>\n",
       "    .dataframe tbody tr th:only-of-type {\n",
       "        vertical-align: middle;\n",
       "    }\n",
       "\n",
       "    .dataframe tbody tr th {\n",
       "        vertical-align: top;\n",
       "    }\n",
       "\n",
       "    .dataframe thead th {\n",
       "        text-align: right;\n",
       "    }\n",
       "</style>\n",
       "<table border=\"1\" class=\"dataframe\">\n",
       "  <thead>\n",
       "    <tr style=\"text-align: right;\">\n",
       "      <th></th>\n",
       "      <th>capacity_mw</th>\n",
       "      <th>latitude</th>\n",
       "      <th>longitude</th>\n",
       "      <th>primary_fuel</th>\n",
       "      <th>other_fuel1</th>\n",
       "      <th>other_fuel2</th>\n",
       "      <th>commissioning_year</th>\n",
       "      <th>owner</th>\n",
       "      <th>source</th>\n",
       "      <th>url</th>\n",
       "      <th>geolocation_source</th>\n",
       "      <th>year_of_capacity_data</th>\n",
       "      <th>generation_gwh_2014</th>\n",
       "      <th>generation_gwh_2015</th>\n",
       "      <th>generation_gwh_2016</th>\n",
       "      <th>generation_gwh_2017</th>\n",
       "      <th>generation_gwh_2018</th>\n",
       "    </tr>\n",
       "  </thead>\n",
       "  <tbody>\n",
       "    <tr>\n",
       "      <th>0</th>\n",
       "      <td>2.5</td>\n",
       "      <td>28.1839</td>\n",
       "      <td>73.2407</td>\n",
       "      <td>Solar</td>\n",
       "      <td>NaN</td>\n",
       "      <td>NaN</td>\n",
       "      <td>2011.0</td>\n",
       "      <td>Solar Paces</td>\n",
       "      <td>National Renewable Energy Laboratory</td>\n",
       "      <td>http://www.nrel.gov/csp/solarpaces/project_det...</td>\n",
       "      <td>National Renewable Energy Laboratory</td>\n",
       "      <td>NaN</td>\n",
       "      <td>NaN</td>\n",
       "      <td>NaN</td>\n",
       "      <td>NaN</td>\n",
       "      <td>NaN</td>\n",
       "      <td>NaN</td>\n",
       "    </tr>\n",
       "    <tr>\n",
       "      <th>1</th>\n",
       "      <td>98.0</td>\n",
       "      <td>24.7663</td>\n",
       "      <td>74.6090</td>\n",
       "      <td>Coal</td>\n",
       "      <td>NaN</td>\n",
       "      <td>NaN</td>\n",
       "      <td>NaN</td>\n",
       "      <td>Ultratech Cement ltd</td>\n",
       "      <td>Ultratech Cement ltd</td>\n",
       "      <td>http://www.ultratechcement.com/</td>\n",
       "      <td>WRI</td>\n",
       "      <td>NaN</td>\n",
       "      <td>NaN</td>\n",
       "      <td>NaN</td>\n",
       "      <td>NaN</td>\n",
       "      <td>NaN</td>\n",
       "      <td>NaN</td>\n",
       "    </tr>\n",
       "    <tr>\n",
       "      <th>2</th>\n",
       "      <td>39.2</td>\n",
       "      <td>21.9038</td>\n",
       "      <td>69.3732</td>\n",
       "      <td>Wind</td>\n",
       "      <td>NaN</td>\n",
       "      <td>NaN</td>\n",
       "      <td>NaN</td>\n",
       "      <td>AES</td>\n",
       "      <td>CDM</td>\n",
       "      <td>https://cdm.unfccc.int/Projects/DB/DNV-CUK1328...</td>\n",
       "      <td>WRI</td>\n",
       "      <td>NaN</td>\n",
       "      <td>NaN</td>\n",
       "      <td>NaN</td>\n",
       "      <td>NaN</td>\n",
       "      <td>NaN</td>\n",
       "      <td>NaN</td>\n",
       "    </tr>\n",
       "    <tr>\n",
       "      <th>3</th>\n",
       "      <td>135.0</td>\n",
       "      <td>23.8712</td>\n",
       "      <td>91.3602</td>\n",
       "      <td>Gas</td>\n",
       "      <td>NaN</td>\n",
       "      <td>NaN</td>\n",
       "      <td>2004.0</td>\n",
       "      <td>NaN</td>\n",
       "      <td>Central Electricity Authority</td>\n",
       "      <td>http://www.cea.nic.in/</td>\n",
       "      <td>WRI</td>\n",
       "      <td>2019.0</td>\n",
       "      <td>617.789264</td>\n",
       "      <td>843.747</td>\n",
       "      <td>886.004428</td>\n",
       "      <td>663.774500</td>\n",
       "      <td>626.239128</td>\n",
       "    </tr>\n",
       "    <tr>\n",
       "      <th>4</th>\n",
       "      <td>1800.0</td>\n",
       "      <td>21.9603</td>\n",
       "      <td>82.4091</td>\n",
       "      <td>Coal</td>\n",
       "      <td>Oil</td>\n",
       "      <td>NaN</td>\n",
       "      <td>2015.0</td>\n",
       "      <td>NaN</td>\n",
       "      <td>Central Electricity Authority</td>\n",
       "      <td>http://www.cea.nic.in/</td>\n",
       "      <td>WRI</td>\n",
       "      <td>2019.0</td>\n",
       "      <td>3035.550000</td>\n",
       "      <td>5916.370</td>\n",
       "      <td>6243.000000</td>\n",
       "      <td>5385.579736</td>\n",
       "      <td>7279.000000</td>\n",
       "    </tr>\n",
       "  </tbody>\n",
       "</table>\n",
       "</div>"
      ],
      "text/plain": [
       "   capacity_mw  latitude  longitude primary_fuel other_fuel1 other_fuel2  \\\n",
       "0          2.5   28.1839    73.2407        Solar         NaN         NaN   \n",
       "1         98.0   24.7663    74.6090         Coal         NaN         NaN   \n",
       "2         39.2   21.9038    69.3732         Wind         NaN         NaN   \n",
       "3        135.0   23.8712    91.3602          Gas         NaN         NaN   \n",
       "4       1800.0   21.9603    82.4091         Coal         Oil         NaN   \n",
       "\n",
       "   commissioning_year                 owner  \\\n",
       "0              2011.0           Solar Paces   \n",
       "1                 NaN  Ultratech Cement ltd   \n",
       "2                 NaN                   AES   \n",
       "3              2004.0                   NaN   \n",
       "4              2015.0                   NaN   \n",
       "\n",
       "                                 source  \\\n",
       "0  National Renewable Energy Laboratory   \n",
       "1                  Ultratech Cement ltd   \n",
       "2                                   CDM   \n",
       "3         Central Electricity Authority   \n",
       "4         Central Electricity Authority   \n",
       "\n",
       "                                                 url  \\\n",
       "0  http://www.nrel.gov/csp/solarpaces/project_det...   \n",
       "1                    http://www.ultratechcement.com/   \n",
       "2  https://cdm.unfccc.int/Projects/DB/DNV-CUK1328...   \n",
       "3                             http://www.cea.nic.in/   \n",
       "4                             http://www.cea.nic.in/   \n",
       "\n",
       "                     geolocation_source  year_of_capacity_data  \\\n",
       "0  National Renewable Energy Laboratory                    NaN   \n",
       "1                                   WRI                    NaN   \n",
       "2                                   WRI                    NaN   \n",
       "3                                   WRI                 2019.0   \n",
       "4                                   WRI                 2019.0   \n",
       "\n",
       "   generation_gwh_2014  generation_gwh_2015  generation_gwh_2016  \\\n",
       "0                  NaN                  NaN                  NaN   \n",
       "1                  NaN                  NaN                  NaN   \n",
       "2                  NaN                  NaN                  NaN   \n",
       "3           617.789264              843.747           886.004428   \n",
       "4          3035.550000             5916.370          6243.000000   \n",
       "\n",
       "   generation_gwh_2017  generation_gwh_2018  \n",
       "0                  NaN                  NaN  \n",
       "1                  NaN                  NaN  \n",
       "2                  NaN                  NaN  \n",
       "3           663.774500           626.239128  \n",
       "4          5385.579736          7279.000000  "
      ]
     },
     "execution_count": 11,
     "metadata": {},
     "output_type": "execute_result"
    }
   ],
   "source": [
    "df.head()"
   ]
  },
  {
   "cell_type": "code",
   "execution_count": 12,
   "id": "84305528",
   "metadata": {},
   "outputs": [],
   "source": [
    "df.drop(['owner','source','url','geolocation_source'],axis=1,inplace=True)"
   ]
  },
  {
   "cell_type": "code",
   "execution_count": 13,
   "id": "2ce03fe4",
   "metadata": {},
   "outputs": [
    {
     "data": {
      "text/html": [
       "<div>\n",
       "<style scoped>\n",
       "    .dataframe tbody tr th:only-of-type {\n",
       "        vertical-align: middle;\n",
       "    }\n",
       "\n",
       "    .dataframe tbody tr th {\n",
       "        vertical-align: top;\n",
       "    }\n",
       "\n",
       "    .dataframe thead th {\n",
       "        text-align: right;\n",
       "    }\n",
       "</style>\n",
       "<table border=\"1\" class=\"dataframe\">\n",
       "  <thead>\n",
       "    <tr style=\"text-align: right;\">\n",
       "      <th></th>\n",
       "      <th>capacity_mw</th>\n",
       "      <th>latitude</th>\n",
       "      <th>longitude</th>\n",
       "      <th>primary_fuel</th>\n",
       "      <th>other_fuel1</th>\n",
       "      <th>other_fuel2</th>\n",
       "      <th>commissioning_year</th>\n",
       "      <th>year_of_capacity_data</th>\n",
       "      <th>generation_gwh_2014</th>\n",
       "      <th>generation_gwh_2015</th>\n",
       "      <th>generation_gwh_2016</th>\n",
       "      <th>generation_gwh_2017</th>\n",
       "      <th>generation_gwh_2018</th>\n",
       "    </tr>\n",
       "  </thead>\n",
       "  <tbody>\n",
       "    <tr>\n",
       "      <th>0</th>\n",
       "      <td>2.5</td>\n",
       "      <td>28.1839</td>\n",
       "      <td>73.2407</td>\n",
       "      <td>Solar</td>\n",
       "      <td>NaN</td>\n",
       "      <td>NaN</td>\n",
       "      <td>2011.0</td>\n",
       "      <td>NaN</td>\n",
       "      <td>NaN</td>\n",
       "      <td>NaN</td>\n",
       "      <td>NaN</td>\n",
       "      <td>NaN</td>\n",
       "      <td>NaN</td>\n",
       "    </tr>\n",
       "    <tr>\n",
       "      <th>1</th>\n",
       "      <td>98.0</td>\n",
       "      <td>24.7663</td>\n",
       "      <td>74.6090</td>\n",
       "      <td>Coal</td>\n",
       "      <td>NaN</td>\n",
       "      <td>NaN</td>\n",
       "      <td>NaN</td>\n",
       "      <td>NaN</td>\n",
       "      <td>NaN</td>\n",
       "      <td>NaN</td>\n",
       "      <td>NaN</td>\n",
       "      <td>NaN</td>\n",
       "      <td>NaN</td>\n",
       "    </tr>\n",
       "    <tr>\n",
       "      <th>2</th>\n",
       "      <td>39.2</td>\n",
       "      <td>21.9038</td>\n",
       "      <td>69.3732</td>\n",
       "      <td>Wind</td>\n",
       "      <td>NaN</td>\n",
       "      <td>NaN</td>\n",
       "      <td>NaN</td>\n",
       "      <td>NaN</td>\n",
       "      <td>NaN</td>\n",
       "      <td>NaN</td>\n",
       "      <td>NaN</td>\n",
       "      <td>NaN</td>\n",
       "      <td>NaN</td>\n",
       "    </tr>\n",
       "    <tr>\n",
       "      <th>3</th>\n",
       "      <td>135.0</td>\n",
       "      <td>23.8712</td>\n",
       "      <td>91.3602</td>\n",
       "      <td>Gas</td>\n",
       "      <td>NaN</td>\n",
       "      <td>NaN</td>\n",
       "      <td>2004.0</td>\n",
       "      <td>2019.0</td>\n",
       "      <td>617.789264</td>\n",
       "      <td>843.747000</td>\n",
       "      <td>886.004428</td>\n",
       "      <td>663.774500</td>\n",
       "      <td>626.239128</td>\n",
       "    </tr>\n",
       "    <tr>\n",
       "      <th>4</th>\n",
       "      <td>1800.0</td>\n",
       "      <td>21.9603</td>\n",
       "      <td>82.4091</td>\n",
       "      <td>Coal</td>\n",
       "      <td>Oil</td>\n",
       "      <td>NaN</td>\n",
       "      <td>2015.0</td>\n",
       "      <td>2019.0</td>\n",
       "      <td>3035.550000</td>\n",
       "      <td>5916.370000</td>\n",
       "      <td>6243.000000</td>\n",
       "      <td>5385.579736</td>\n",
       "      <td>7279.000000</td>\n",
       "    </tr>\n",
       "    <tr>\n",
       "      <th>...</th>\n",
       "      <td>...</td>\n",
       "      <td>...</td>\n",
       "      <td>...</td>\n",
       "      <td>...</td>\n",
       "      <td>...</td>\n",
       "      <td>...</td>\n",
       "      <td>...</td>\n",
       "      <td>...</td>\n",
       "      <td>...</td>\n",
       "      <td>...</td>\n",
       "      <td>...</td>\n",
       "      <td>...</td>\n",
       "      <td>...</td>\n",
       "    </tr>\n",
       "    <tr>\n",
       "      <th>902</th>\n",
       "      <td>1600.0</td>\n",
       "      <td>16.2949</td>\n",
       "      <td>77.3568</td>\n",
       "      <td>Coal</td>\n",
       "      <td>Oil</td>\n",
       "      <td>NaN</td>\n",
       "      <td>2016.0</td>\n",
       "      <td>2019.0</td>\n",
       "      <td>NaN</td>\n",
       "      <td>0.994875</td>\n",
       "      <td>233.596650</td>\n",
       "      <td>865.400000</td>\n",
       "      <td>686.500000</td>\n",
       "    </tr>\n",
       "    <tr>\n",
       "      <th>903</th>\n",
       "      <td>3.0</td>\n",
       "      <td>12.8932</td>\n",
       "      <td>78.1654</td>\n",
       "      <td>Solar</td>\n",
       "      <td>NaN</td>\n",
       "      <td>NaN</td>\n",
       "      <td>NaN</td>\n",
       "      <td>NaN</td>\n",
       "      <td>NaN</td>\n",
       "      <td>NaN</td>\n",
       "      <td>NaN</td>\n",
       "      <td>NaN</td>\n",
       "      <td>NaN</td>\n",
       "    </tr>\n",
       "    <tr>\n",
       "      <th>904</th>\n",
       "      <td>25.5</td>\n",
       "      <td>15.2758</td>\n",
       "      <td>75.5811</td>\n",
       "      <td>Wind</td>\n",
       "      <td>NaN</td>\n",
       "      <td>NaN</td>\n",
       "      <td>NaN</td>\n",
       "      <td>NaN</td>\n",
       "      <td>NaN</td>\n",
       "      <td>NaN</td>\n",
       "      <td>NaN</td>\n",
       "      <td>NaN</td>\n",
       "      <td>NaN</td>\n",
       "    </tr>\n",
       "    <tr>\n",
       "      <th>905</th>\n",
       "      <td>80.0</td>\n",
       "      <td>24.3500</td>\n",
       "      <td>73.7477</td>\n",
       "      <td>Coal</td>\n",
       "      <td>NaN</td>\n",
       "      <td>NaN</td>\n",
       "      <td>NaN</td>\n",
       "      <td>NaN</td>\n",
       "      <td>NaN</td>\n",
       "      <td>NaN</td>\n",
       "      <td>NaN</td>\n",
       "      <td>NaN</td>\n",
       "      <td>NaN</td>\n",
       "    </tr>\n",
       "    <tr>\n",
       "      <th>906</th>\n",
       "      <td>16.5</td>\n",
       "      <td>9.9344</td>\n",
       "      <td>77.4768</td>\n",
       "      <td>Wind</td>\n",
       "      <td>NaN</td>\n",
       "      <td>NaN</td>\n",
       "      <td>NaN</td>\n",
       "      <td>NaN</td>\n",
       "      <td>NaN</td>\n",
       "      <td>NaN</td>\n",
       "      <td>NaN</td>\n",
       "      <td>NaN</td>\n",
       "      <td>NaN</td>\n",
       "    </tr>\n",
       "  </tbody>\n",
       "</table>\n",
       "<p>907 rows × 13 columns</p>\n",
       "</div>"
      ],
      "text/plain": [
       "     capacity_mw  latitude  longitude primary_fuel other_fuel1 other_fuel2  \\\n",
       "0            2.5   28.1839    73.2407        Solar         NaN         NaN   \n",
       "1           98.0   24.7663    74.6090         Coal         NaN         NaN   \n",
       "2           39.2   21.9038    69.3732         Wind         NaN         NaN   \n",
       "3          135.0   23.8712    91.3602          Gas         NaN         NaN   \n",
       "4         1800.0   21.9603    82.4091         Coal         Oil         NaN   \n",
       "..           ...       ...        ...          ...         ...         ...   \n",
       "902       1600.0   16.2949    77.3568         Coal         Oil         NaN   \n",
       "903          3.0   12.8932    78.1654        Solar         NaN         NaN   \n",
       "904         25.5   15.2758    75.5811         Wind         NaN         NaN   \n",
       "905         80.0   24.3500    73.7477         Coal         NaN         NaN   \n",
       "906         16.5    9.9344    77.4768         Wind         NaN         NaN   \n",
       "\n",
       "     commissioning_year  year_of_capacity_data  generation_gwh_2014  \\\n",
       "0                2011.0                    NaN                  NaN   \n",
       "1                   NaN                    NaN                  NaN   \n",
       "2                   NaN                    NaN                  NaN   \n",
       "3                2004.0                 2019.0           617.789264   \n",
       "4                2015.0                 2019.0          3035.550000   \n",
       "..                  ...                    ...                  ...   \n",
       "902              2016.0                 2019.0                  NaN   \n",
       "903                 NaN                    NaN                  NaN   \n",
       "904                 NaN                    NaN                  NaN   \n",
       "905                 NaN                    NaN                  NaN   \n",
       "906                 NaN                    NaN                  NaN   \n",
       "\n",
       "     generation_gwh_2015  generation_gwh_2016  generation_gwh_2017  \\\n",
       "0                    NaN                  NaN                  NaN   \n",
       "1                    NaN                  NaN                  NaN   \n",
       "2                    NaN                  NaN                  NaN   \n",
       "3             843.747000           886.004428           663.774500   \n",
       "4            5916.370000          6243.000000          5385.579736   \n",
       "..                   ...                  ...                  ...   \n",
       "902             0.994875           233.596650           865.400000   \n",
       "903                  NaN                  NaN                  NaN   \n",
       "904                  NaN                  NaN                  NaN   \n",
       "905                  NaN                  NaN                  NaN   \n",
       "906                  NaN                  NaN                  NaN   \n",
       "\n",
       "     generation_gwh_2018  \n",
       "0                    NaN  \n",
       "1                    NaN  \n",
       "2                    NaN  \n",
       "3             626.239128  \n",
       "4            7279.000000  \n",
       "..                   ...  \n",
       "902           686.500000  \n",
       "903                  NaN  \n",
       "904                  NaN  \n",
       "905                  NaN  \n",
       "906                  NaN  \n",
       "\n",
       "[907 rows x 13 columns]"
      ]
     },
     "execution_count": 13,
     "metadata": {},
     "output_type": "execute_result"
    }
   ],
   "source": [
    "df"
   ]
  },
  {
   "cell_type": "code",
   "execution_count": 14,
   "id": "19b5d790",
   "metadata": {},
   "outputs": [
    {
     "data": {
      "text/html": [
       "<div>\n",
       "<style scoped>\n",
       "    .dataframe tbody tr th:only-of-type {\n",
       "        vertical-align: middle;\n",
       "    }\n",
       "\n",
       "    .dataframe tbody tr th {\n",
       "        vertical-align: top;\n",
       "    }\n",
       "\n",
       "    .dataframe thead th {\n",
       "        text-align: right;\n",
       "    }\n",
       "</style>\n",
       "<table border=\"1\" class=\"dataframe\">\n",
       "  <thead>\n",
       "    <tr style=\"text-align: right;\">\n",
       "      <th></th>\n",
       "      <th>capacity_mw</th>\n",
       "      <th>latitude</th>\n",
       "      <th>longitude</th>\n",
       "      <th>primary_fuel</th>\n",
       "      <th>other_fuel1</th>\n",
       "      <th>other_fuel2</th>\n",
       "      <th>commissioning_year</th>\n",
       "      <th>year_of_capacity_data</th>\n",
       "      <th>generation_gwh_2014</th>\n",
       "      <th>generation_gwh_2015</th>\n",
       "      <th>generation_gwh_2016</th>\n",
       "      <th>generation_gwh_2017</th>\n",
       "      <th>generation_gwh_2018</th>\n",
       "    </tr>\n",
       "  </thead>\n",
       "  <tbody>\n",
       "    <tr>\n",
       "      <th>0</th>\n",
       "      <td>2.5</td>\n",
       "      <td>28.1839</td>\n",
       "      <td>73.2407</td>\n",
       "      <td>Solar</td>\n",
       "      <td>NaN</td>\n",
       "      <td>NaN</td>\n",
       "      <td>2011.0</td>\n",
       "      <td>NaN</td>\n",
       "      <td>NaN</td>\n",
       "      <td>NaN</td>\n",
       "      <td>NaN</td>\n",
       "      <td>NaN</td>\n",
       "      <td>NaN</td>\n",
       "    </tr>\n",
       "    <tr>\n",
       "      <th>1</th>\n",
       "      <td>98.0</td>\n",
       "      <td>24.7663</td>\n",
       "      <td>74.6090</td>\n",
       "      <td>Coal</td>\n",
       "      <td>NaN</td>\n",
       "      <td>NaN</td>\n",
       "      <td>NaN</td>\n",
       "      <td>NaN</td>\n",
       "      <td>NaN</td>\n",
       "      <td>NaN</td>\n",
       "      <td>NaN</td>\n",
       "      <td>NaN</td>\n",
       "      <td>NaN</td>\n",
       "    </tr>\n",
       "    <tr>\n",
       "      <th>2</th>\n",
       "      <td>39.2</td>\n",
       "      <td>21.9038</td>\n",
       "      <td>69.3732</td>\n",
       "      <td>Wind</td>\n",
       "      <td>NaN</td>\n",
       "      <td>NaN</td>\n",
       "      <td>NaN</td>\n",
       "      <td>NaN</td>\n",
       "      <td>NaN</td>\n",
       "      <td>NaN</td>\n",
       "      <td>NaN</td>\n",
       "      <td>NaN</td>\n",
       "      <td>NaN</td>\n",
       "    </tr>\n",
       "    <tr>\n",
       "      <th>3</th>\n",
       "      <td>135.0</td>\n",
       "      <td>23.8712</td>\n",
       "      <td>91.3602</td>\n",
       "      <td>Gas</td>\n",
       "      <td>NaN</td>\n",
       "      <td>NaN</td>\n",
       "      <td>2004.0</td>\n",
       "      <td>2019.0</td>\n",
       "      <td>617.789264</td>\n",
       "      <td>843.747</td>\n",
       "      <td>886.004428</td>\n",
       "      <td>663.774500</td>\n",
       "      <td>626.239128</td>\n",
       "    </tr>\n",
       "    <tr>\n",
       "      <th>4</th>\n",
       "      <td>1800.0</td>\n",
       "      <td>21.9603</td>\n",
       "      <td>82.4091</td>\n",
       "      <td>Coal</td>\n",
       "      <td>Oil</td>\n",
       "      <td>NaN</td>\n",
       "      <td>2015.0</td>\n",
       "      <td>2019.0</td>\n",
       "      <td>3035.550000</td>\n",
       "      <td>5916.370</td>\n",
       "      <td>6243.000000</td>\n",
       "      <td>5385.579736</td>\n",
       "      <td>7279.000000</td>\n",
       "    </tr>\n",
       "  </tbody>\n",
       "</table>\n",
       "</div>"
      ],
      "text/plain": [
       "   capacity_mw  latitude  longitude primary_fuel other_fuel1 other_fuel2  \\\n",
       "0          2.5   28.1839    73.2407        Solar         NaN         NaN   \n",
       "1         98.0   24.7663    74.6090         Coal         NaN         NaN   \n",
       "2         39.2   21.9038    69.3732         Wind         NaN         NaN   \n",
       "3        135.0   23.8712    91.3602          Gas         NaN         NaN   \n",
       "4       1800.0   21.9603    82.4091         Coal         Oil         NaN   \n",
       "\n",
       "   commissioning_year  year_of_capacity_data  generation_gwh_2014  \\\n",
       "0              2011.0                    NaN                  NaN   \n",
       "1                 NaN                    NaN                  NaN   \n",
       "2                 NaN                    NaN                  NaN   \n",
       "3              2004.0                 2019.0           617.789264   \n",
       "4              2015.0                 2019.0          3035.550000   \n",
       "\n",
       "   generation_gwh_2015  generation_gwh_2016  generation_gwh_2017  \\\n",
       "0                  NaN                  NaN                  NaN   \n",
       "1                  NaN                  NaN                  NaN   \n",
       "2                  NaN                  NaN                  NaN   \n",
       "3              843.747           886.004428           663.774500   \n",
       "4             5916.370          6243.000000          5385.579736   \n",
       "\n",
       "   generation_gwh_2018  \n",
       "0                  NaN  \n",
       "1                  NaN  \n",
       "2                  NaN  \n",
       "3           626.239128  \n",
       "4          7279.000000  "
      ]
     },
     "execution_count": 14,
     "metadata": {},
     "output_type": "execute_result"
    }
   ],
   "source": [
    "df.head()"
   ]
  },
  {
   "cell_type": "code",
   "execution_count": 15,
   "id": "3fea5ebe",
   "metadata": {},
   "outputs": [
    {
     "data": {
      "text/plain": [
       "capacity_mw                0\n",
       "latitude                  46\n",
       "longitude                 46\n",
       "primary_fuel               0\n",
       "other_fuel1              709\n",
       "other_fuel2              906\n",
       "commissioning_year       380\n",
       "year_of_capacity_data    388\n",
       "generation_gwh_2014      509\n",
       "generation_gwh_2015      485\n",
       "generation_gwh_2016      473\n",
       "generation_gwh_2017      467\n",
       "generation_gwh_2018      459\n",
       "dtype: int64"
      ]
     },
     "execution_count": 15,
     "metadata": {},
     "output_type": "execute_result"
    }
   ],
   "source": [
    "df.isnull().sum()"
   ]
  },
  {
   "cell_type": "code",
   "execution_count": 16,
   "id": "45702617",
   "metadata": {},
   "outputs": [
    {
     "data": {
      "text/html": [
       "<div>\n",
       "<style scoped>\n",
       "    .dataframe tbody tr th:only-of-type {\n",
       "        vertical-align: middle;\n",
       "    }\n",
       "\n",
       "    .dataframe tbody tr th {\n",
       "        vertical-align: top;\n",
       "    }\n",
       "\n",
       "    .dataframe thead th {\n",
       "        text-align: right;\n",
       "    }\n",
       "</style>\n",
       "<table border=\"1\" class=\"dataframe\">\n",
       "  <thead>\n",
       "    <tr style=\"text-align: right;\">\n",
       "      <th></th>\n",
       "      <th>capacity_mw</th>\n",
       "      <th>latitude</th>\n",
       "      <th>longitude</th>\n",
       "      <th>commissioning_year</th>\n",
       "      <th>year_of_capacity_data</th>\n",
       "      <th>generation_gwh_2014</th>\n",
       "      <th>generation_gwh_2015</th>\n",
       "      <th>generation_gwh_2016</th>\n",
       "      <th>generation_gwh_2017</th>\n",
       "      <th>generation_gwh_2018</th>\n",
       "    </tr>\n",
       "  </thead>\n",
       "  <tbody>\n",
       "    <tr>\n",
       "      <th>count</th>\n",
       "      <td>907.000000</td>\n",
       "      <td>861.000000</td>\n",
       "      <td>861.000000</td>\n",
       "      <td>527.000000</td>\n",
       "      <td>519.0</td>\n",
       "      <td>398.000000</td>\n",
       "      <td>422.000000</td>\n",
       "      <td>434.000000</td>\n",
       "      <td>440.000000</td>\n",
       "      <td>448.000000</td>\n",
       "    </tr>\n",
       "    <tr>\n",
       "      <th>mean</th>\n",
       "      <td>326.223755</td>\n",
       "      <td>21.197918</td>\n",
       "      <td>77.464907</td>\n",
       "      <td>1997.091082</td>\n",
       "      <td>2019.0</td>\n",
       "      <td>2431.823590</td>\n",
       "      <td>2428.226946</td>\n",
       "      <td>2467.936859</td>\n",
       "      <td>2547.759305</td>\n",
       "      <td>2600.804099</td>\n",
       "    </tr>\n",
       "    <tr>\n",
       "      <th>std</th>\n",
       "      <td>590.085456</td>\n",
       "      <td>6.239612</td>\n",
       "      <td>4.939316</td>\n",
       "      <td>17.082868</td>\n",
       "      <td>0.0</td>\n",
       "      <td>4026.440035</td>\n",
       "      <td>4194.596959</td>\n",
       "      <td>4162.884308</td>\n",
       "      <td>4196.991169</td>\n",
       "      <td>4314.880456</td>\n",
       "    </tr>\n",
       "    <tr>\n",
       "      <th>min</th>\n",
       "      <td>0.000000</td>\n",
       "      <td>8.168900</td>\n",
       "      <td>68.644700</td>\n",
       "      <td>1927.000000</td>\n",
       "      <td>2019.0</td>\n",
       "      <td>0.000000</td>\n",
       "      <td>0.000000</td>\n",
       "      <td>0.000000</td>\n",
       "      <td>0.000000</td>\n",
       "      <td>0.000000</td>\n",
       "    </tr>\n",
       "    <tr>\n",
       "      <th>25%</th>\n",
       "      <td>16.725000</td>\n",
       "      <td>16.773900</td>\n",
       "      <td>74.256200</td>\n",
       "      <td>1988.000000</td>\n",
       "      <td>2019.0</td>\n",
       "      <td>223.557672</td>\n",
       "      <td>176.381063</td>\n",
       "      <td>188.285252</td>\n",
       "      <td>177.874930</td>\n",
       "      <td>193.378250</td>\n",
       "    </tr>\n",
       "    <tr>\n",
       "      <th>50%</th>\n",
       "      <td>59.200000</td>\n",
       "      <td>21.780000</td>\n",
       "      <td>76.719500</td>\n",
       "      <td>2001.000000</td>\n",
       "      <td>2019.0</td>\n",
       "      <td>801.123775</td>\n",
       "      <td>711.181225</td>\n",
       "      <td>737.205450</td>\n",
       "      <td>817.977250</td>\n",
       "      <td>751.644375</td>\n",
       "    </tr>\n",
       "    <tr>\n",
       "      <th>75%</th>\n",
       "      <td>385.250000</td>\n",
       "      <td>25.512400</td>\n",
       "      <td>79.440800</td>\n",
       "      <td>2012.000000</td>\n",
       "      <td>2019.0</td>\n",
       "      <td>3035.306250</td>\n",
       "      <td>3084.121250</td>\n",
       "      <td>3282.861313</td>\n",
       "      <td>3275.690475</td>\n",
       "      <td>3143.535900</td>\n",
       "    </tr>\n",
       "    <tr>\n",
       "      <th>max</th>\n",
       "      <td>4760.000000</td>\n",
       "      <td>34.649000</td>\n",
       "      <td>95.408000</td>\n",
       "      <td>2018.000000</td>\n",
       "      <td>2019.0</td>\n",
       "      <td>28127.000000</td>\n",
       "      <td>30539.000000</td>\n",
       "      <td>30015.000000</td>\n",
       "      <td>35116.000000</td>\n",
       "      <td>35136.000000</td>\n",
       "    </tr>\n",
       "  </tbody>\n",
       "</table>\n",
       "</div>"
      ],
      "text/plain": [
       "       capacity_mw    latitude   longitude  commissioning_year  \\\n",
       "count   907.000000  861.000000  861.000000          527.000000   \n",
       "mean    326.223755   21.197918   77.464907         1997.091082   \n",
       "std     590.085456    6.239612    4.939316           17.082868   \n",
       "min       0.000000    8.168900   68.644700         1927.000000   \n",
       "25%      16.725000   16.773900   74.256200         1988.000000   \n",
       "50%      59.200000   21.780000   76.719500         2001.000000   \n",
       "75%     385.250000   25.512400   79.440800         2012.000000   \n",
       "max    4760.000000   34.649000   95.408000         2018.000000   \n",
       "\n",
       "       year_of_capacity_data  generation_gwh_2014  generation_gwh_2015  \\\n",
       "count                  519.0           398.000000           422.000000   \n",
       "mean                  2019.0          2431.823590          2428.226946   \n",
       "std                      0.0          4026.440035          4194.596959   \n",
       "min                   2019.0             0.000000             0.000000   \n",
       "25%                   2019.0           223.557672           176.381063   \n",
       "50%                   2019.0           801.123775           711.181225   \n",
       "75%                   2019.0          3035.306250          3084.121250   \n",
       "max                   2019.0         28127.000000         30539.000000   \n",
       "\n",
       "       generation_gwh_2016  generation_gwh_2017  generation_gwh_2018  \n",
       "count           434.000000           440.000000           448.000000  \n",
       "mean           2467.936859          2547.759305          2600.804099  \n",
       "std            4162.884308          4196.991169          4314.880456  \n",
       "min               0.000000             0.000000             0.000000  \n",
       "25%             188.285252           177.874930           193.378250  \n",
       "50%             737.205450           817.977250           751.644375  \n",
       "75%            3282.861313          3275.690475          3143.535900  \n",
       "max           30015.000000         35116.000000         35136.000000  "
      ]
     },
     "execution_count": 16,
     "metadata": {},
     "output_type": "execute_result"
    }
   ],
   "source": [
    "df.describe()"
   ]
  },
  {
   "cell_type": "code",
   "execution_count": 17,
   "id": "32c006ca",
   "metadata": {},
   "outputs": [
    {
     "data": {
      "text/plain": [
       "Index(['capacity_mw', 'latitude', 'longitude', 'primary_fuel', 'other_fuel1',\n",
       "       'other_fuel2', 'commissioning_year', 'year_of_capacity_data',\n",
       "       'generation_gwh_2014', 'generation_gwh_2015', 'generation_gwh_2016',\n",
       "       'generation_gwh_2017', 'generation_gwh_2018'],\n",
       "      dtype='object')"
      ]
     },
     "execution_count": 17,
     "metadata": {},
     "output_type": "execute_result"
    }
   ],
   "source": [
    "df.columns"
   ]
  },
  {
   "cell_type": "code",
   "execution_count": 18,
   "id": "4a8e1fe2",
   "metadata": {},
   "outputs": [],
   "source": [
    "df.drop(['other_fuel1','other_fuel2'],axis=1,inplace=True)"
   ]
  },
  {
   "cell_type": "code",
   "execution_count": 19,
   "id": "9f385d9d",
   "metadata": {},
   "outputs": [
    {
     "data": {
      "text/html": [
       "<div>\n",
       "<style scoped>\n",
       "    .dataframe tbody tr th:only-of-type {\n",
       "        vertical-align: middle;\n",
       "    }\n",
       "\n",
       "    .dataframe tbody tr th {\n",
       "        vertical-align: top;\n",
       "    }\n",
       "\n",
       "    .dataframe thead th {\n",
       "        text-align: right;\n",
       "    }\n",
       "</style>\n",
       "<table border=\"1\" class=\"dataframe\">\n",
       "  <thead>\n",
       "    <tr style=\"text-align: right;\">\n",
       "      <th></th>\n",
       "      <th>capacity_mw</th>\n",
       "      <th>latitude</th>\n",
       "      <th>longitude</th>\n",
       "      <th>primary_fuel</th>\n",
       "      <th>commissioning_year</th>\n",
       "      <th>year_of_capacity_data</th>\n",
       "      <th>generation_gwh_2014</th>\n",
       "      <th>generation_gwh_2015</th>\n",
       "      <th>generation_gwh_2016</th>\n",
       "      <th>generation_gwh_2017</th>\n",
       "      <th>generation_gwh_2018</th>\n",
       "    </tr>\n",
       "  </thead>\n",
       "  <tbody>\n",
       "    <tr>\n",
       "      <th>0</th>\n",
       "      <td>2.5</td>\n",
       "      <td>28.1839</td>\n",
       "      <td>73.2407</td>\n",
       "      <td>Solar</td>\n",
       "      <td>2011.0</td>\n",
       "      <td>NaN</td>\n",
       "      <td>NaN</td>\n",
       "      <td>NaN</td>\n",
       "      <td>NaN</td>\n",
       "      <td>NaN</td>\n",
       "      <td>NaN</td>\n",
       "    </tr>\n",
       "    <tr>\n",
       "      <th>1</th>\n",
       "      <td>98.0</td>\n",
       "      <td>24.7663</td>\n",
       "      <td>74.6090</td>\n",
       "      <td>Coal</td>\n",
       "      <td>NaN</td>\n",
       "      <td>NaN</td>\n",
       "      <td>NaN</td>\n",
       "      <td>NaN</td>\n",
       "      <td>NaN</td>\n",
       "      <td>NaN</td>\n",
       "      <td>NaN</td>\n",
       "    </tr>\n",
       "    <tr>\n",
       "      <th>2</th>\n",
       "      <td>39.2</td>\n",
       "      <td>21.9038</td>\n",
       "      <td>69.3732</td>\n",
       "      <td>Wind</td>\n",
       "      <td>NaN</td>\n",
       "      <td>NaN</td>\n",
       "      <td>NaN</td>\n",
       "      <td>NaN</td>\n",
       "      <td>NaN</td>\n",
       "      <td>NaN</td>\n",
       "      <td>NaN</td>\n",
       "    </tr>\n",
       "    <tr>\n",
       "      <th>3</th>\n",
       "      <td>135.0</td>\n",
       "      <td>23.8712</td>\n",
       "      <td>91.3602</td>\n",
       "      <td>Gas</td>\n",
       "      <td>2004.0</td>\n",
       "      <td>2019.0</td>\n",
       "      <td>617.789264</td>\n",
       "      <td>843.747000</td>\n",
       "      <td>886.004428</td>\n",
       "      <td>663.774500</td>\n",
       "      <td>626.239128</td>\n",
       "    </tr>\n",
       "    <tr>\n",
       "      <th>4</th>\n",
       "      <td>1800.0</td>\n",
       "      <td>21.9603</td>\n",
       "      <td>82.4091</td>\n",
       "      <td>Coal</td>\n",
       "      <td>2015.0</td>\n",
       "      <td>2019.0</td>\n",
       "      <td>3035.550000</td>\n",
       "      <td>5916.370000</td>\n",
       "      <td>6243.000000</td>\n",
       "      <td>5385.579736</td>\n",
       "      <td>7279.000000</td>\n",
       "    </tr>\n",
       "    <tr>\n",
       "      <th>...</th>\n",
       "      <td>...</td>\n",
       "      <td>...</td>\n",
       "      <td>...</td>\n",
       "      <td>...</td>\n",
       "      <td>...</td>\n",
       "      <td>...</td>\n",
       "      <td>...</td>\n",
       "      <td>...</td>\n",
       "      <td>...</td>\n",
       "      <td>...</td>\n",
       "      <td>...</td>\n",
       "    </tr>\n",
       "    <tr>\n",
       "      <th>902</th>\n",
       "      <td>1600.0</td>\n",
       "      <td>16.2949</td>\n",
       "      <td>77.3568</td>\n",
       "      <td>Coal</td>\n",
       "      <td>2016.0</td>\n",
       "      <td>2019.0</td>\n",
       "      <td>NaN</td>\n",
       "      <td>0.994875</td>\n",
       "      <td>233.596650</td>\n",
       "      <td>865.400000</td>\n",
       "      <td>686.500000</td>\n",
       "    </tr>\n",
       "    <tr>\n",
       "      <th>903</th>\n",
       "      <td>3.0</td>\n",
       "      <td>12.8932</td>\n",
       "      <td>78.1654</td>\n",
       "      <td>Solar</td>\n",
       "      <td>NaN</td>\n",
       "      <td>NaN</td>\n",
       "      <td>NaN</td>\n",
       "      <td>NaN</td>\n",
       "      <td>NaN</td>\n",
       "      <td>NaN</td>\n",
       "      <td>NaN</td>\n",
       "    </tr>\n",
       "    <tr>\n",
       "      <th>904</th>\n",
       "      <td>25.5</td>\n",
       "      <td>15.2758</td>\n",
       "      <td>75.5811</td>\n",
       "      <td>Wind</td>\n",
       "      <td>NaN</td>\n",
       "      <td>NaN</td>\n",
       "      <td>NaN</td>\n",
       "      <td>NaN</td>\n",
       "      <td>NaN</td>\n",
       "      <td>NaN</td>\n",
       "      <td>NaN</td>\n",
       "    </tr>\n",
       "    <tr>\n",
       "      <th>905</th>\n",
       "      <td>80.0</td>\n",
       "      <td>24.3500</td>\n",
       "      <td>73.7477</td>\n",
       "      <td>Coal</td>\n",
       "      <td>NaN</td>\n",
       "      <td>NaN</td>\n",
       "      <td>NaN</td>\n",
       "      <td>NaN</td>\n",
       "      <td>NaN</td>\n",
       "      <td>NaN</td>\n",
       "      <td>NaN</td>\n",
       "    </tr>\n",
       "    <tr>\n",
       "      <th>906</th>\n",
       "      <td>16.5</td>\n",
       "      <td>9.9344</td>\n",
       "      <td>77.4768</td>\n",
       "      <td>Wind</td>\n",
       "      <td>NaN</td>\n",
       "      <td>NaN</td>\n",
       "      <td>NaN</td>\n",
       "      <td>NaN</td>\n",
       "      <td>NaN</td>\n",
       "      <td>NaN</td>\n",
       "      <td>NaN</td>\n",
       "    </tr>\n",
       "  </tbody>\n",
       "</table>\n",
       "<p>907 rows × 11 columns</p>\n",
       "</div>"
      ],
      "text/plain": [
       "     capacity_mw  latitude  longitude primary_fuel  commissioning_year  \\\n",
       "0            2.5   28.1839    73.2407        Solar              2011.0   \n",
       "1           98.0   24.7663    74.6090         Coal                 NaN   \n",
       "2           39.2   21.9038    69.3732         Wind                 NaN   \n",
       "3          135.0   23.8712    91.3602          Gas              2004.0   \n",
       "4         1800.0   21.9603    82.4091         Coal              2015.0   \n",
       "..           ...       ...        ...          ...                 ...   \n",
       "902       1600.0   16.2949    77.3568         Coal              2016.0   \n",
       "903          3.0   12.8932    78.1654        Solar                 NaN   \n",
       "904         25.5   15.2758    75.5811         Wind                 NaN   \n",
       "905         80.0   24.3500    73.7477         Coal                 NaN   \n",
       "906         16.5    9.9344    77.4768         Wind                 NaN   \n",
       "\n",
       "     year_of_capacity_data  generation_gwh_2014  generation_gwh_2015  \\\n",
       "0                      NaN                  NaN                  NaN   \n",
       "1                      NaN                  NaN                  NaN   \n",
       "2                      NaN                  NaN                  NaN   \n",
       "3                   2019.0           617.789264           843.747000   \n",
       "4                   2019.0          3035.550000          5916.370000   \n",
       "..                     ...                  ...                  ...   \n",
       "902                 2019.0                  NaN             0.994875   \n",
       "903                    NaN                  NaN                  NaN   \n",
       "904                    NaN                  NaN                  NaN   \n",
       "905                    NaN                  NaN                  NaN   \n",
       "906                    NaN                  NaN                  NaN   \n",
       "\n",
       "     generation_gwh_2016  generation_gwh_2017  generation_gwh_2018  \n",
       "0                    NaN                  NaN                  NaN  \n",
       "1                    NaN                  NaN                  NaN  \n",
       "2                    NaN                  NaN                  NaN  \n",
       "3             886.004428           663.774500           626.239128  \n",
       "4            6243.000000          5385.579736          7279.000000  \n",
       "..                   ...                  ...                  ...  \n",
       "902           233.596650           865.400000           686.500000  \n",
       "903                  NaN                  NaN                  NaN  \n",
       "904                  NaN                  NaN                  NaN  \n",
       "905                  NaN                  NaN                  NaN  \n",
       "906                  NaN                  NaN                  NaN  \n",
       "\n",
       "[907 rows x 11 columns]"
      ]
     },
     "execution_count": 19,
     "metadata": {},
     "output_type": "execute_result"
    }
   ],
   "source": [
    "df"
   ]
  },
  {
   "cell_type": "code",
   "execution_count": 20,
   "id": "356beb71",
   "metadata": {},
   "outputs": [
    {
     "data": {
      "text/html": [
       "<div>\n",
       "<style scoped>\n",
       "    .dataframe tbody tr th:only-of-type {\n",
       "        vertical-align: middle;\n",
       "    }\n",
       "\n",
       "    .dataframe tbody tr th {\n",
       "        vertical-align: top;\n",
       "    }\n",
       "\n",
       "    .dataframe thead th {\n",
       "        text-align: right;\n",
       "    }\n",
       "</style>\n",
       "<table border=\"1\" class=\"dataframe\">\n",
       "  <thead>\n",
       "    <tr style=\"text-align: right;\">\n",
       "      <th></th>\n",
       "      <th>capacity_mw</th>\n",
       "      <th>latitude</th>\n",
       "      <th>longitude</th>\n",
       "      <th>primary_fuel</th>\n",
       "      <th>commissioning_year</th>\n",
       "      <th>year_of_capacity_data</th>\n",
       "      <th>generation_gwh_2014</th>\n",
       "      <th>generation_gwh_2015</th>\n",
       "      <th>generation_gwh_2016</th>\n",
       "      <th>generation_gwh_2017</th>\n",
       "      <th>generation_gwh_2018</th>\n",
       "    </tr>\n",
       "  </thead>\n",
       "  <tbody>\n",
       "    <tr>\n",
       "      <th>0</th>\n",
       "      <td>2.5</td>\n",
       "      <td>28.1839</td>\n",
       "      <td>73.2407</td>\n",
       "      <td>Solar</td>\n",
       "      <td>2011.0</td>\n",
       "      <td>NaN</td>\n",
       "      <td>NaN</td>\n",
       "      <td>NaN</td>\n",
       "      <td>NaN</td>\n",
       "      <td>NaN</td>\n",
       "      <td>NaN</td>\n",
       "    </tr>\n",
       "    <tr>\n",
       "      <th>1</th>\n",
       "      <td>98.0</td>\n",
       "      <td>24.7663</td>\n",
       "      <td>74.6090</td>\n",
       "      <td>Coal</td>\n",
       "      <td>NaN</td>\n",
       "      <td>NaN</td>\n",
       "      <td>NaN</td>\n",
       "      <td>NaN</td>\n",
       "      <td>NaN</td>\n",
       "      <td>NaN</td>\n",
       "      <td>NaN</td>\n",
       "    </tr>\n",
       "    <tr>\n",
       "      <th>2</th>\n",
       "      <td>39.2</td>\n",
       "      <td>21.9038</td>\n",
       "      <td>69.3732</td>\n",
       "      <td>Wind</td>\n",
       "      <td>NaN</td>\n",
       "      <td>NaN</td>\n",
       "      <td>NaN</td>\n",
       "      <td>NaN</td>\n",
       "      <td>NaN</td>\n",
       "      <td>NaN</td>\n",
       "      <td>NaN</td>\n",
       "    </tr>\n",
       "    <tr>\n",
       "      <th>3</th>\n",
       "      <td>135.0</td>\n",
       "      <td>23.8712</td>\n",
       "      <td>91.3602</td>\n",
       "      <td>Gas</td>\n",
       "      <td>2004.0</td>\n",
       "      <td>2019.0</td>\n",
       "      <td>617.789264</td>\n",
       "      <td>843.747</td>\n",
       "      <td>886.004428</td>\n",
       "      <td>663.774500</td>\n",
       "      <td>626.239128</td>\n",
       "    </tr>\n",
       "    <tr>\n",
       "      <th>4</th>\n",
       "      <td>1800.0</td>\n",
       "      <td>21.9603</td>\n",
       "      <td>82.4091</td>\n",
       "      <td>Coal</td>\n",
       "      <td>2015.0</td>\n",
       "      <td>2019.0</td>\n",
       "      <td>3035.550000</td>\n",
       "      <td>5916.370</td>\n",
       "      <td>6243.000000</td>\n",
       "      <td>5385.579736</td>\n",
       "      <td>7279.000000</td>\n",
       "    </tr>\n",
       "  </tbody>\n",
       "</table>\n",
       "</div>"
      ],
      "text/plain": [
       "   capacity_mw  latitude  longitude primary_fuel  commissioning_year  \\\n",
       "0          2.5   28.1839    73.2407        Solar              2011.0   \n",
       "1         98.0   24.7663    74.6090         Coal                 NaN   \n",
       "2         39.2   21.9038    69.3732         Wind                 NaN   \n",
       "3        135.0   23.8712    91.3602          Gas              2004.0   \n",
       "4       1800.0   21.9603    82.4091         Coal              2015.0   \n",
       "\n",
       "   year_of_capacity_data  generation_gwh_2014  generation_gwh_2015  \\\n",
       "0                    NaN                  NaN                  NaN   \n",
       "1                    NaN                  NaN                  NaN   \n",
       "2                    NaN                  NaN                  NaN   \n",
       "3                 2019.0           617.789264              843.747   \n",
       "4                 2019.0          3035.550000             5916.370   \n",
       "\n",
       "   generation_gwh_2016  generation_gwh_2017  generation_gwh_2018  \n",
       "0                  NaN                  NaN                  NaN  \n",
       "1                  NaN                  NaN                  NaN  \n",
       "2                  NaN                  NaN                  NaN  \n",
       "3           886.004428           663.774500           626.239128  \n",
       "4          6243.000000          5385.579736          7279.000000  "
      ]
     },
     "execution_count": 20,
     "metadata": {},
     "output_type": "execute_result"
    }
   ],
   "source": [
    "df.head()"
   ]
  },
  {
   "cell_type": "code",
   "execution_count": 21,
   "id": "2454e42f",
   "metadata": {},
   "outputs": [],
   "source": [
    "from sklearn.preprocessing import LabelEncoder\n",
    "le = LabelEncoder()"
   ]
  },
  {
   "cell_type": "code",
   "execution_count": 22,
   "id": "ba5ca869",
   "metadata": {},
   "outputs": [],
   "source": [
    "df['primary_fuel'] = le.fit_transform(df['primary_fuel'])"
   ]
  },
  {
   "cell_type": "code",
   "execution_count": 23,
   "id": "c7206293",
   "metadata": {},
   "outputs": [
    {
     "data": {
      "text/plain": [
       "array(['Biomass', 'Coal', 'Gas', 'Hydro', 'Nuclear', 'Oil', 'Solar',\n",
       "       'Wind'], dtype=object)"
      ]
     },
     "execution_count": 23,
     "metadata": {},
     "output_type": "execute_result"
    }
   ],
   "source": [
    "le.inverse_transform([0,1,2,3,4,5,6,7])"
   ]
  },
  {
   "cell_type": "code",
   "execution_count": 24,
   "id": "c4a3100f",
   "metadata": {},
   "outputs": [
    {
     "data": {
      "text/html": [
       "<div>\n",
       "<style scoped>\n",
       "    .dataframe tbody tr th:only-of-type {\n",
       "        vertical-align: middle;\n",
       "    }\n",
       "\n",
       "    .dataframe tbody tr th {\n",
       "        vertical-align: top;\n",
       "    }\n",
       "\n",
       "    .dataframe thead th {\n",
       "        text-align: right;\n",
       "    }\n",
       "</style>\n",
       "<table border=\"1\" class=\"dataframe\">\n",
       "  <thead>\n",
       "    <tr style=\"text-align: right;\">\n",
       "      <th></th>\n",
       "      <th>capacity_mw</th>\n",
       "      <th>latitude</th>\n",
       "      <th>longitude</th>\n",
       "      <th>primary_fuel</th>\n",
       "      <th>commissioning_year</th>\n",
       "      <th>year_of_capacity_data</th>\n",
       "      <th>generation_gwh_2014</th>\n",
       "      <th>generation_gwh_2015</th>\n",
       "      <th>generation_gwh_2016</th>\n",
       "      <th>generation_gwh_2017</th>\n",
       "      <th>generation_gwh_2018</th>\n",
       "    </tr>\n",
       "  </thead>\n",
       "  <tbody>\n",
       "    <tr>\n",
       "      <th>0</th>\n",
       "      <td>2.5</td>\n",
       "      <td>28.1839</td>\n",
       "      <td>73.2407</td>\n",
       "      <td>6</td>\n",
       "      <td>2011.0</td>\n",
       "      <td>NaN</td>\n",
       "      <td>NaN</td>\n",
       "      <td>NaN</td>\n",
       "      <td>NaN</td>\n",
       "      <td>NaN</td>\n",
       "      <td>NaN</td>\n",
       "    </tr>\n",
       "    <tr>\n",
       "      <th>1</th>\n",
       "      <td>98.0</td>\n",
       "      <td>24.7663</td>\n",
       "      <td>74.6090</td>\n",
       "      <td>1</td>\n",
       "      <td>NaN</td>\n",
       "      <td>NaN</td>\n",
       "      <td>NaN</td>\n",
       "      <td>NaN</td>\n",
       "      <td>NaN</td>\n",
       "      <td>NaN</td>\n",
       "      <td>NaN</td>\n",
       "    </tr>\n",
       "    <tr>\n",
       "      <th>2</th>\n",
       "      <td>39.2</td>\n",
       "      <td>21.9038</td>\n",
       "      <td>69.3732</td>\n",
       "      <td>7</td>\n",
       "      <td>NaN</td>\n",
       "      <td>NaN</td>\n",
       "      <td>NaN</td>\n",
       "      <td>NaN</td>\n",
       "      <td>NaN</td>\n",
       "      <td>NaN</td>\n",
       "      <td>NaN</td>\n",
       "    </tr>\n",
       "    <tr>\n",
       "      <th>3</th>\n",
       "      <td>135.0</td>\n",
       "      <td>23.8712</td>\n",
       "      <td>91.3602</td>\n",
       "      <td>2</td>\n",
       "      <td>2004.0</td>\n",
       "      <td>2019.0</td>\n",
       "      <td>617.789264</td>\n",
       "      <td>843.747</td>\n",
       "      <td>886.004428</td>\n",
       "      <td>663.774500</td>\n",
       "      <td>626.239128</td>\n",
       "    </tr>\n",
       "    <tr>\n",
       "      <th>4</th>\n",
       "      <td>1800.0</td>\n",
       "      <td>21.9603</td>\n",
       "      <td>82.4091</td>\n",
       "      <td>1</td>\n",
       "      <td>2015.0</td>\n",
       "      <td>2019.0</td>\n",
       "      <td>3035.550000</td>\n",
       "      <td>5916.370</td>\n",
       "      <td>6243.000000</td>\n",
       "      <td>5385.579736</td>\n",
       "      <td>7279.000000</td>\n",
       "    </tr>\n",
       "  </tbody>\n",
       "</table>\n",
       "</div>"
      ],
      "text/plain": [
       "   capacity_mw  latitude  longitude  primary_fuel  commissioning_year  \\\n",
       "0          2.5   28.1839    73.2407             6              2011.0   \n",
       "1         98.0   24.7663    74.6090             1                 NaN   \n",
       "2         39.2   21.9038    69.3732             7                 NaN   \n",
       "3        135.0   23.8712    91.3602             2              2004.0   \n",
       "4       1800.0   21.9603    82.4091             1              2015.0   \n",
       "\n",
       "   year_of_capacity_data  generation_gwh_2014  generation_gwh_2015  \\\n",
       "0                    NaN                  NaN                  NaN   \n",
       "1                    NaN                  NaN                  NaN   \n",
       "2                    NaN                  NaN                  NaN   \n",
       "3                 2019.0           617.789264              843.747   \n",
       "4                 2019.0          3035.550000             5916.370   \n",
       "\n",
       "   generation_gwh_2016  generation_gwh_2017  generation_gwh_2018  \n",
       "0                  NaN                  NaN                  NaN  \n",
       "1                  NaN                  NaN                  NaN  \n",
       "2                  NaN                  NaN                  NaN  \n",
       "3           886.004428           663.774500           626.239128  \n",
       "4          6243.000000          5385.579736          7279.000000  "
      ]
     },
     "execution_count": 24,
     "metadata": {},
     "output_type": "execute_result"
    }
   ],
   "source": [
    "df.head()"
   ]
  },
  {
   "cell_type": "code",
   "execution_count": 25,
   "id": "3181cd68",
   "metadata": {},
   "outputs": [
    {
     "data": {
      "text/plain": [
       "Index(['capacity_mw', 'latitude', 'longitude', 'primary_fuel',\n",
       "       'commissioning_year', 'year_of_capacity_data', 'generation_gwh_2014',\n",
       "       'generation_gwh_2015', 'generation_gwh_2016', 'generation_gwh_2017',\n",
       "       'generation_gwh_2018'],\n",
       "      dtype='object')"
      ]
     },
     "execution_count": 25,
     "metadata": {},
     "output_type": "execute_result"
    }
   ],
   "source": [
    "df.columns"
   ]
  },
  {
   "cell_type": "code",
   "execution_count": 26,
   "id": "9ad5b72f",
   "metadata": {},
   "outputs": [],
   "source": [
    "from sklearn.impute import SimpleImputer"
   ]
  },
  {
   "cell_type": "code",
   "execution_count": 27,
   "id": "1638a720",
   "metadata": {},
   "outputs": [],
   "source": [
    "imputer = SimpleImputer(missing_values = np.nan,\n",
    "                        strategy ='mean')"
   ]
  },
  {
   "cell_type": "code",
   "execution_count": 28,
   "id": "fe860f41",
   "metadata": {},
   "outputs": [],
   "source": [
    "imputer = imputer.fit(df)\n",
    " "
   ]
  },
  {
   "cell_type": "code",
   "execution_count": 29,
   "id": "d0d4de29",
   "metadata": {},
   "outputs": [],
   "source": [
    "df = imputer.transform(df)"
   ]
  },
  {
   "cell_type": "code",
   "execution_count": 30,
   "id": "c3012b68",
   "metadata": {},
   "outputs": [],
   "source": [
    "df = pd.DataFrame(df)"
   ]
  },
  {
   "cell_type": "code",
   "execution_count": 31,
   "id": "30225441",
   "metadata": {},
   "outputs": [
    {
     "data": {
      "text/html": [
       "<div>\n",
       "<style scoped>\n",
       "    .dataframe tbody tr th:only-of-type {\n",
       "        vertical-align: middle;\n",
       "    }\n",
       "\n",
       "    .dataframe tbody tr th {\n",
       "        vertical-align: top;\n",
       "    }\n",
       "\n",
       "    .dataframe thead th {\n",
       "        text-align: right;\n",
       "    }\n",
       "</style>\n",
       "<table border=\"1\" class=\"dataframe\">\n",
       "  <thead>\n",
       "    <tr style=\"text-align: right;\">\n",
       "      <th></th>\n",
       "      <th>0</th>\n",
       "      <th>1</th>\n",
       "      <th>2</th>\n",
       "      <th>3</th>\n",
       "      <th>4</th>\n",
       "      <th>5</th>\n",
       "      <th>6</th>\n",
       "      <th>7</th>\n",
       "      <th>8</th>\n",
       "      <th>9</th>\n",
       "      <th>10</th>\n",
       "    </tr>\n",
       "  </thead>\n",
       "  <tbody>\n",
       "    <tr>\n",
       "      <th>0</th>\n",
       "      <td>2.5</td>\n",
       "      <td>28.1839</td>\n",
       "      <td>73.2407</td>\n",
       "      <td>6.0</td>\n",
       "      <td>2011.000000</td>\n",
       "      <td>2019.0</td>\n",
       "      <td>2431.823590</td>\n",
       "      <td>2428.226946</td>\n",
       "      <td>2467.936859</td>\n",
       "      <td>2547.759305</td>\n",
       "      <td>2600.804099</td>\n",
       "    </tr>\n",
       "    <tr>\n",
       "      <th>1</th>\n",
       "      <td>98.0</td>\n",
       "      <td>24.7663</td>\n",
       "      <td>74.6090</td>\n",
       "      <td>1.0</td>\n",
       "      <td>1997.091082</td>\n",
       "      <td>2019.0</td>\n",
       "      <td>2431.823590</td>\n",
       "      <td>2428.226946</td>\n",
       "      <td>2467.936859</td>\n",
       "      <td>2547.759305</td>\n",
       "      <td>2600.804099</td>\n",
       "    </tr>\n",
       "    <tr>\n",
       "      <th>2</th>\n",
       "      <td>39.2</td>\n",
       "      <td>21.9038</td>\n",
       "      <td>69.3732</td>\n",
       "      <td>7.0</td>\n",
       "      <td>1997.091082</td>\n",
       "      <td>2019.0</td>\n",
       "      <td>2431.823590</td>\n",
       "      <td>2428.226946</td>\n",
       "      <td>2467.936859</td>\n",
       "      <td>2547.759305</td>\n",
       "      <td>2600.804099</td>\n",
       "    </tr>\n",
       "    <tr>\n",
       "      <th>3</th>\n",
       "      <td>135.0</td>\n",
       "      <td>23.8712</td>\n",
       "      <td>91.3602</td>\n",
       "      <td>2.0</td>\n",
       "      <td>2004.000000</td>\n",
       "      <td>2019.0</td>\n",
       "      <td>617.789264</td>\n",
       "      <td>843.747000</td>\n",
       "      <td>886.004428</td>\n",
       "      <td>663.774500</td>\n",
       "      <td>626.239128</td>\n",
       "    </tr>\n",
       "    <tr>\n",
       "      <th>4</th>\n",
       "      <td>1800.0</td>\n",
       "      <td>21.9603</td>\n",
       "      <td>82.4091</td>\n",
       "      <td>1.0</td>\n",
       "      <td>2015.000000</td>\n",
       "      <td>2019.0</td>\n",
       "      <td>3035.550000</td>\n",
       "      <td>5916.370000</td>\n",
       "      <td>6243.000000</td>\n",
       "      <td>5385.579736</td>\n",
       "      <td>7279.000000</td>\n",
       "    </tr>\n",
       "  </tbody>\n",
       "</table>\n",
       "</div>"
      ],
      "text/plain": [
       "       0        1        2    3            4       5            6   \\\n",
       "0     2.5  28.1839  73.2407  6.0  2011.000000  2019.0  2431.823590   \n",
       "1    98.0  24.7663  74.6090  1.0  1997.091082  2019.0  2431.823590   \n",
       "2    39.2  21.9038  69.3732  7.0  1997.091082  2019.0  2431.823590   \n",
       "3   135.0  23.8712  91.3602  2.0  2004.000000  2019.0   617.789264   \n",
       "4  1800.0  21.9603  82.4091  1.0  2015.000000  2019.0  3035.550000   \n",
       "\n",
       "            7            8            9            10  \n",
       "0  2428.226946  2467.936859  2547.759305  2600.804099  \n",
       "1  2428.226946  2467.936859  2547.759305  2600.804099  \n",
       "2  2428.226946  2467.936859  2547.759305  2600.804099  \n",
       "3   843.747000   886.004428   663.774500   626.239128  \n",
       "4  5916.370000  6243.000000  5385.579736  7279.000000  "
      ]
     },
     "execution_count": 31,
     "metadata": {},
     "output_type": "execute_result"
    }
   ],
   "source": [
    "df.head()"
   ]
  },
  {
   "cell_type": "code",
   "execution_count": 32,
   "id": "8c9b2bb1",
   "metadata": {},
   "outputs": [],
   "source": [
    "df.set_axis(['capacity_mw', 'latitude', 'longitude', 'primary_fuel',\n",
    "       'commissioning_year', 'year_of_capacity_data', 'generation_gwh_2014',\n",
    "       'generation_gwh_2015', 'generation_gwh_2016', 'generation_gwh_2017',\n",
    "       'generation_gwh_2018'], axis='columns', inplace=True)\n",
    "  "
   ]
  },
  {
   "cell_type": "code",
   "execution_count": 33,
   "id": "de948639",
   "metadata": {},
   "outputs": [
    {
     "data": {
      "text/html": [
       "<div>\n",
       "<style scoped>\n",
       "    .dataframe tbody tr th:only-of-type {\n",
       "        vertical-align: middle;\n",
       "    }\n",
       "\n",
       "    .dataframe tbody tr th {\n",
       "        vertical-align: top;\n",
       "    }\n",
       "\n",
       "    .dataframe thead th {\n",
       "        text-align: right;\n",
       "    }\n",
       "</style>\n",
       "<table border=\"1\" class=\"dataframe\">\n",
       "  <thead>\n",
       "    <tr style=\"text-align: right;\">\n",
       "      <th></th>\n",
       "      <th>capacity_mw</th>\n",
       "      <th>latitude</th>\n",
       "      <th>longitude</th>\n",
       "      <th>primary_fuel</th>\n",
       "      <th>commissioning_year</th>\n",
       "      <th>year_of_capacity_data</th>\n",
       "      <th>generation_gwh_2014</th>\n",
       "      <th>generation_gwh_2015</th>\n",
       "      <th>generation_gwh_2016</th>\n",
       "      <th>generation_gwh_2017</th>\n",
       "      <th>generation_gwh_2018</th>\n",
       "    </tr>\n",
       "  </thead>\n",
       "  <tbody>\n",
       "    <tr>\n",
       "      <th>0</th>\n",
       "      <td>2.5</td>\n",
       "      <td>28.1839</td>\n",
       "      <td>73.2407</td>\n",
       "      <td>6.0</td>\n",
       "      <td>2011.000000</td>\n",
       "      <td>2019.0</td>\n",
       "      <td>2431.823590</td>\n",
       "      <td>2428.226946</td>\n",
       "      <td>2467.936859</td>\n",
       "      <td>2547.759305</td>\n",
       "      <td>2600.804099</td>\n",
       "    </tr>\n",
       "    <tr>\n",
       "      <th>1</th>\n",
       "      <td>98.0</td>\n",
       "      <td>24.7663</td>\n",
       "      <td>74.6090</td>\n",
       "      <td>1.0</td>\n",
       "      <td>1997.091082</td>\n",
       "      <td>2019.0</td>\n",
       "      <td>2431.823590</td>\n",
       "      <td>2428.226946</td>\n",
       "      <td>2467.936859</td>\n",
       "      <td>2547.759305</td>\n",
       "      <td>2600.804099</td>\n",
       "    </tr>\n",
       "    <tr>\n",
       "      <th>2</th>\n",
       "      <td>39.2</td>\n",
       "      <td>21.9038</td>\n",
       "      <td>69.3732</td>\n",
       "      <td>7.0</td>\n",
       "      <td>1997.091082</td>\n",
       "      <td>2019.0</td>\n",
       "      <td>2431.823590</td>\n",
       "      <td>2428.226946</td>\n",
       "      <td>2467.936859</td>\n",
       "      <td>2547.759305</td>\n",
       "      <td>2600.804099</td>\n",
       "    </tr>\n",
       "    <tr>\n",
       "      <th>3</th>\n",
       "      <td>135.0</td>\n",
       "      <td>23.8712</td>\n",
       "      <td>91.3602</td>\n",
       "      <td>2.0</td>\n",
       "      <td>2004.000000</td>\n",
       "      <td>2019.0</td>\n",
       "      <td>617.789264</td>\n",
       "      <td>843.747000</td>\n",
       "      <td>886.004428</td>\n",
       "      <td>663.774500</td>\n",
       "      <td>626.239128</td>\n",
       "    </tr>\n",
       "    <tr>\n",
       "      <th>4</th>\n",
       "      <td>1800.0</td>\n",
       "      <td>21.9603</td>\n",
       "      <td>82.4091</td>\n",
       "      <td>1.0</td>\n",
       "      <td>2015.000000</td>\n",
       "      <td>2019.0</td>\n",
       "      <td>3035.550000</td>\n",
       "      <td>5916.370000</td>\n",
       "      <td>6243.000000</td>\n",
       "      <td>5385.579736</td>\n",
       "      <td>7279.000000</td>\n",
       "    </tr>\n",
       "  </tbody>\n",
       "</table>\n",
       "</div>"
      ],
      "text/plain": [
       "   capacity_mw  latitude  longitude  primary_fuel  commissioning_year  \\\n",
       "0          2.5   28.1839    73.2407           6.0         2011.000000   \n",
       "1         98.0   24.7663    74.6090           1.0         1997.091082   \n",
       "2         39.2   21.9038    69.3732           7.0         1997.091082   \n",
       "3        135.0   23.8712    91.3602           2.0         2004.000000   \n",
       "4       1800.0   21.9603    82.4091           1.0         2015.000000   \n",
       "\n",
       "   year_of_capacity_data  generation_gwh_2014  generation_gwh_2015  \\\n",
       "0                 2019.0          2431.823590          2428.226946   \n",
       "1                 2019.0          2431.823590          2428.226946   \n",
       "2                 2019.0          2431.823590          2428.226946   \n",
       "3                 2019.0           617.789264           843.747000   \n",
       "4                 2019.0          3035.550000          5916.370000   \n",
       "\n",
       "   generation_gwh_2016  generation_gwh_2017  generation_gwh_2018  \n",
       "0          2467.936859          2547.759305          2600.804099  \n",
       "1          2467.936859          2547.759305          2600.804099  \n",
       "2          2467.936859          2547.759305          2600.804099  \n",
       "3           886.004428           663.774500           626.239128  \n",
       "4          6243.000000          5385.579736          7279.000000  "
      ]
     },
     "execution_count": 33,
     "metadata": {},
     "output_type": "execute_result"
    }
   ],
   "source": [
    "df.head()"
   ]
  },
  {
   "cell_type": "code",
   "execution_count": 34,
   "id": "a25d2181",
   "metadata": {},
   "outputs": [
    {
     "data": {
      "text/html": [
       "<div>\n",
       "<style scoped>\n",
       "    .dataframe tbody tr th:only-of-type {\n",
       "        vertical-align: middle;\n",
       "    }\n",
       "\n",
       "    .dataframe tbody tr th {\n",
       "        vertical-align: top;\n",
       "    }\n",
       "\n",
       "    .dataframe thead th {\n",
       "        text-align: right;\n",
       "    }\n",
       "</style>\n",
       "<table border=\"1\" class=\"dataframe\">\n",
       "  <thead>\n",
       "    <tr style=\"text-align: right;\">\n",
       "      <th></th>\n",
       "      <th>capacity_mw</th>\n",
       "      <th>latitude</th>\n",
       "      <th>longitude</th>\n",
       "      <th>primary_fuel</th>\n",
       "      <th>commissioning_year</th>\n",
       "      <th>year_of_capacity_data</th>\n",
       "      <th>generation_gwh_2014</th>\n",
       "      <th>generation_gwh_2015</th>\n",
       "      <th>generation_gwh_2016</th>\n",
       "      <th>generation_gwh_2017</th>\n",
       "      <th>generation_gwh_2018</th>\n",
       "    </tr>\n",
       "  </thead>\n",
       "  <tbody>\n",
       "    <tr>\n",
       "      <th>count</th>\n",
       "      <td>907.000000</td>\n",
       "      <td>907.000000</td>\n",
       "      <td>907.000000</td>\n",
       "      <td>907.000000</td>\n",
       "      <td>907.000000</td>\n",
       "      <td>907.0</td>\n",
       "      <td>907.000000</td>\n",
       "      <td>907.000000</td>\n",
       "      <td>907.000000</td>\n",
       "      <td>907.000000</td>\n",
       "      <td>907.000000</td>\n",
       "    </tr>\n",
       "    <tr>\n",
       "      <th>mean</th>\n",
       "      <td>326.223755</td>\n",
       "      <td>21.197918</td>\n",
       "      <td>77.464907</td>\n",
       "      <td>3.206174</td>\n",
       "      <td>1997.091082</td>\n",
       "      <td>2019.0</td>\n",
       "      <td>2431.823590</td>\n",
       "      <td>2428.226946</td>\n",
       "      <td>2467.936859</td>\n",
       "      <td>2547.759305</td>\n",
       "      <td>2600.804099</td>\n",
       "    </tr>\n",
       "    <tr>\n",
       "      <th>std</th>\n",
       "      <td>590.085456</td>\n",
       "      <td>6.079148</td>\n",
       "      <td>4.812291</td>\n",
       "      <td>2.280652</td>\n",
       "      <td>13.016360</td>\n",
       "      <td>0.0</td>\n",
       "      <td>2665.338608</td>\n",
       "      <td>2859.349132</td>\n",
       "      <td>2877.890004</td>\n",
       "      <td>2921.502193</td>\n",
       "      <td>3030.808041</td>\n",
       "    </tr>\n",
       "    <tr>\n",
       "      <th>min</th>\n",
       "      <td>0.000000</td>\n",
       "      <td>8.168900</td>\n",
       "      <td>68.644700</td>\n",
       "      <td>0.000000</td>\n",
       "      <td>1927.000000</td>\n",
       "      <td>2019.0</td>\n",
       "      <td>0.000000</td>\n",
       "      <td>0.000000</td>\n",
       "      <td>0.000000</td>\n",
       "      <td>0.000000</td>\n",
       "      <td>0.000000</td>\n",
       "    </tr>\n",
       "    <tr>\n",
       "      <th>25%</th>\n",
       "      <td>16.725000</td>\n",
       "      <td>17.072000</td>\n",
       "      <td>74.388900</td>\n",
       "      <td>1.000000</td>\n",
       "      <td>1997.091082</td>\n",
       "      <td>2019.0</td>\n",
       "      <td>1211.362750</td>\n",
       "      <td>916.000000</td>\n",
       "      <td>896.500214</td>\n",
       "      <td>882.594850</td>\n",
       "      <td>824.842340</td>\n",
       "    </tr>\n",
       "    <tr>\n",
       "      <th>50%</th>\n",
       "      <td>59.200000</td>\n",
       "      <td>21.281800</td>\n",
       "      <td>76.979200</td>\n",
       "      <td>3.000000</td>\n",
       "      <td>1997.091082</td>\n",
       "      <td>2019.0</td>\n",
       "      <td>2431.823590</td>\n",
       "      <td>2428.226946</td>\n",
       "      <td>2467.936859</td>\n",
       "      <td>2547.759305</td>\n",
       "      <td>2600.804099</td>\n",
       "    </tr>\n",
       "    <tr>\n",
       "      <th>75%</th>\n",
       "      <td>385.250000</td>\n",
       "      <td>25.176450</td>\n",
       "      <td>79.206100</td>\n",
       "      <td>6.000000</td>\n",
       "      <td>2003.000000</td>\n",
       "      <td>2019.0</td>\n",
       "      <td>2431.823590</td>\n",
       "      <td>2428.226946</td>\n",
       "      <td>2467.936859</td>\n",
       "      <td>2547.759305</td>\n",
       "      <td>2600.804099</td>\n",
       "    </tr>\n",
       "    <tr>\n",
       "      <th>max</th>\n",
       "      <td>4760.000000</td>\n",
       "      <td>34.649000</td>\n",
       "      <td>95.408000</td>\n",
       "      <td>7.000000</td>\n",
       "      <td>2018.000000</td>\n",
       "      <td>2019.0</td>\n",
       "      <td>28127.000000</td>\n",
       "      <td>30539.000000</td>\n",
       "      <td>30015.000000</td>\n",
       "      <td>35116.000000</td>\n",
       "      <td>35136.000000</td>\n",
       "    </tr>\n",
       "  </tbody>\n",
       "</table>\n",
       "</div>"
      ],
      "text/plain": [
       "       capacity_mw    latitude   longitude  primary_fuel  commissioning_year  \\\n",
       "count   907.000000  907.000000  907.000000    907.000000          907.000000   \n",
       "mean    326.223755   21.197918   77.464907      3.206174         1997.091082   \n",
       "std     590.085456    6.079148    4.812291      2.280652           13.016360   \n",
       "min       0.000000    8.168900   68.644700      0.000000         1927.000000   \n",
       "25%      16.725000   17.072000   74.388900      1.000000         1997.091082   \n",
       "50%      59.200000   21.281800   76.979200      3.000000         1997.091082   \n",
       "75%     385.250000   25.176450   79.206100      6.000000         2003.000000   \n",
       "max    4760.000000   34.649000   95.408000      7.000000         2018.000000   \n",
       "\n",
       "       year_of_capacity_data  generation_gwh_2014  generation_gwh_2015  \\\n",
       "count                  907.0           907.000000           907.000000   \n",
       "mean                  2019.0          2431.823590          2428.226946   \n",
       "std                      0.0          2665.338608          2859.349132   \n",
       "min                   2019.0             0.000000             0.000000   \n",
       "25%                   2019.0          1211.362750           916.000000   \n",
       "50%                   2019.0          2431.823590          2428.226946   \n",
       "75%                   2019.0          2431.823590          2428.226946   \n",
       "max                   2019.0         28127.000000         30539.000000   \n",
       "\n",
       "       generation_gwh_2016  generation_gwh_2017  generation_gwh_2018  \n",
       "count           907.000000           907.000000           907.000000  \n",
       "mean           2467.936859          2547.759305          2600.804099  \n",
       "std            2877.890004          2921.502193          3030.808041  \n",
       "min               0.000000             0.000000             0.000000  \n",
       "25%             896.500214           882.594850           824.842340  \n",
       "50%            2467.936859          2547.759305          2600.804099  \n",
       "75%            2467.936859          2547.759305          2600.804099  \n",
       "max           30015.000000         35116.000000         35136.000000  "
      ]
     },
     "execution_count": 34,
     "metadata": {},
     "output_type": "execute_result"
    }
   ],
   "source": [
    "df.describe()"
   ]
  },
  {
   "cell_type": "code",
   "execution_count": 35,
   "id": "9620e374",
   "metadata": {},
   "outputs": [
    {
     "data": {
      "text/plain": [
       "capacity_mw              0\n",
       "latitude                 0\n",
       "longitude                0\n",
       "primary_fuel             0\n",
       "commissioning_year       0\n",
       "year_of_capacity_data    0\n",
       "generation_gwh_2014      0\n",
       "generation_gwh_2015      0\n",
       "generation_gwh_2016      0\n",
       "generation_gwh_2017      0\n",
       "generation_gwh_2018      0\n",
       "dtype: int64"
      ]
     },
     "execution_count": 35,
     "metadata": {},
     "output_type": "execute_result"
    }
   ],
   "source": [
    "df.isnull().sum()"
   ]
  },
  {
   "cell_type": "code",
   "execution_count": 36,
   "id": "30e29a50",
   "metadata": {},
   "outputs": [
    {
     "data": {
      "text/plain": [
       "(907, 11)"
      ]
     },
     "execution_count": 36,
     "metadata": {},
     "output_type": "execute_result"
    }
   ],
   "source": [
    "df.shape"
   ]
  },
  {
   "cell_type": "code",
   "execution_count": 37,
   "id": "666fae88",
   "metadata": {},
   "outputs": [
    {
     "data": {
      "image/png": "[encoded data removed]",
      "text/plain": [
       "<Figure size 2160x1440 with 10 Axes>"
      ]
     },
     "metadata": {
      "needs_background": "light"
     },
     "output_type": "display_data"
    }
   ],
   "source": [
    "plt.figure(figsize=(30,20))\n",
    "plotnumber=1\n",
    "\n",
    "for column in df:\n",
    "    if plotnumber<=10:\n",
    "        ax = plt.subplot(5,2,plotnumber)\n",
    "        plt.hist(df[column],bins=30)\n",
    "        plt.xlabel(column,fontsize=25)\n",
    "        \n",
    "        \n",
    "        plotnumber+=1\n",
    "plt.tight_layout()        "
   ]
  },
  {
   "cell_type": "code",
   "execution_count": 38,
   "id": "fe25b99c",
   "metadata": {},
   "outputs": [
    {
     "data": {
      "text/plain": [
       "capacity_mw              3.123576\n",
       "latitude                -0.149698\n",
       "longitude                1.141881\n",
       "primary_fuel             0.472251\n",
       "commissioning_year      -1.399359\n",
       "year_of_capacity_data    0.000000\n",
       "generation_gwh_2014      5.035446\n",
       "generation_gwh_2015      5.364134\n",
       "generation_gwh_2016      5.068427\n",
       "generation_gwh_2017      5.110952\n",
       "generation_gwh_2018      4.937907\n",
       "dtype: float64"
      ]
     },
     "execution_count": 38,
     "metadata": {},
     "output_type": "execute_result"
    }
   ],
   "source": [
    "df.skew()"
   ]
  },
  {
   "cell_type": "markdown",
   "id": "3f34cc70",
   "metadata": {},
   "source": [
    "# features have skew value lesser than -0.5 and greater than 0.5 is considered as skewed features."
   ]
  },
  {
   "cell_type": "markdown",
   "id": "e9414635",
   "metadata": {},
   "source": [
    "Note- we do not remove skewness for categorical columns.\n",
    "I didn't get your point."
   ]
  },
  {
   "cell_type": "code",
   "execution_count": 39,
   "id": "51a088be",
   "metadata": {},
   "outputs": [],
   "source": [
    "sk = df.skew()"
   ]
  },
  {
   "cell_type": "code",
   "execution_count": 40,
   "id": "771c27e2",
   "metadata": {},
   "outputs": [
    {
     "data": {
      "text/plain": [
       "capacity_mw            3.123576\n",
       "longitude              1.141881\n",
       "commissioning_year    -1.399359\n",
       "generation_gwh_2014    5.035446\n",
       "generation_gwh_2015    5.364134\n",
       "generation_gwh_2016    5.068427\n",
       "generation_gwh_2017    5.110952\n",
       "generation_gwh_2018    4.937907\n",
       "dtype: float64"
      ]
     },
     "execution_count": 40,
     "metadata": {},
     "output_type": "execute_result"
    }
   ],
   "source": [
    "sk[np.abs(sk)>0.5]"
   ]
  },
  {
   "cell_type": "code",
   "execution_count": 43,
   "id": "0540e213",
   "metadata": {},
   "outputs": [
    {
     "data": {
      "text/plain": [
       "False"
      ]
     },
     "execution_count": 43,
     "metadata": {},
     "output_type": "execute_result"
    }
   ],
   "source": [
    "sk[np.abs(sk)<0.5].all()"
   ]
  },
  {
   "cell_type": "code",
   "execution_count": 44,
   "id": "3832e987",
   "metadata": {},
   "outputs": [
    {
     "data": {
      "image/png": "[encoded data removed]",
      "text/plain": [
       "<Figure size 2160x2088 with 10 Axes>"
      ]
     },
     "metadata": {},
     "output_type": "display_data"
    }
   ],
   "source": [
    "plt.figure(figsize=(30,29),facecolor='yellow')\n",
    "plotnumber = 1\n",
    "for column in df:\n",
    "    if plotnumber<=10:\n",
    "        ax = plt.subplot(5,2,plotnumber)\n",
    "        sns.distplot(df[column])\n",
    "        plt.xlabel(column,fontsize=20)\n",
    "        \n",
    "        \n",
    "        \n",
    "        plotnumber+=1\n",
    "plt.show()"
   ]
  },
  {
   "cell_type": "code",
   "execution_count": 45,
   "id": "de40aa43",
   "metadata": {},
   "outputs": [],
   "source": [
    "df['capacity_mw'] = np.sqrt(df['capacity_mw'])"
   ]
  },
  {
   "cell_type": "code",
   "execution_count": 46,
   "id": "a362e58e",
   "metadata": {},
   "outputs": [
    {
     "data": {
      "text/plain": [
       "<AxesSubplot:xlabel='capacity_mw', ylabel='Density'>"
      ]
     },
     "execution_count": 46,
     "metadata": {},
     "output_type": "execute_result"
    },
    {
     "data": {
      "image/png": "[encoded data removed]",
      "text/plain": [
       "<Figure size 432x288 with 1 Axes>"
      ]
     },
     "metadata": {
      "needs_background": "light"
     },
     "output_type": "display_data"
    }
   ],
   "source": [
    "sns.distplot(df['capacity_mw'])"
   ]
  },
  {
   "cell_type": "code",
   "execution_count": 47,
   "id": "4cd529ac",
   "metadata": {},
   "outputs": [
    {
     "data": {
      "text/plain": [
       "capacity_mw              1.472953\n",
       "latitude                -0.149698\n",
       "longitude                1.141881\n",
       "primary_fuel             0.472251\n",
       "commissioning_year      -1.399359\n",
       "year_of_capacity_data    0.000000\n",
       "generation_gwh_2014      5.035446\n",
       "generation_gwh_2015      5.364134\n",
       "generation_gwh_2016      5.068427\n",
       "generation_gwh_2017      5.110952\n",
       "generation_gwh_2018      4.937907\n",
       "dtype: float64"
      ]
     },
     "execution_count": 47,
     "metadata": {},
     "output_type": "execute_result"
    }
   ],
   "source": [
    "df.skew()"
   ]
  },
  {
   "cell_type": "code",
   "execution_count": 48,
   "id": "a4df4bf6",
   "metadata": {},
   "outputs": [],
   "source": [
    "df['longitude'] = np.sqrt(df['longitude'])"
   ]
  },
  {
   "cell_type": "code",
   "execution_count": 49,
   "id": "67273244",
   "metadata": {},
   "outputs": [],
   "source": [
    "df['commissioning_year'] = np.sqrt(df['commissioning_year'])"
   ]
  },
  {
   "cell_type": "code",
   "execution_count": 50,
   "id": "8b1c6bec",
   "metadata": {},
   "outputs": [],
   "source": [
    "df['generation_gwh_2014'] = np.sqrt(df['generation_gwh_2014'])"
   ]
  },
  {
   "cell_type": "code",
   "execution_count": 51,
   "id": "8e507537",
   "metadata": {},
   "outputs": [],
   "source": [
    "df['generation_gwh_2015'] = np.sqrt(df['generation_gwh_2015'])"
   ]
  },
  {
   "cell_type": "code",
   "execution_count": 52,
   "id": "2cf0ad14",
   "metadata": {},
   "outputs": [],
   "source": [
    "df['generation_gwh_2016'] = np.sqrt(df['generation_gwh_2016'])"
   ]
  },
  {
   "cell_type": "code",
   "execution_count": 53,
   "id": "4f7edee3",
   "metadata": {},
   "outputs": [],
   "source": [
    "df['generation_gwh_2017'] = np.sqrt(df['generation_gwh_2017'])"
   ]
  },
  {
   "cell_type": "code",
   "execution_count": 54,
   "id": "1bfb3066",
   "metadata": {},
   "outputs": [],
   "source": [
    "df['generation_gwh_2018'] = np.sqrt(df['generation_gwh_2018'])"
   ]
  },
  {
   "cell_type": "code",
   "execution_count": 55,
   "id": "11475f1a",
   "metadata": {},
   "outputs": [
    {
     "data": {
      "text/plain": [
       "capacity_mw              1.472953\n",
       "latitude                -0.149698\n",
       "longitude                1.036861\n",
       "primary_fuel             0.472251\n",
       "commissioning_year      -1.416936\n",
       "year_of_capacity_data    0.000000\n",
       "generation_gwh_2014      0.972850\n",
       "generation_gwh_2015      1.049245\n",
       "generation_gwh_2016      0.973783\n",
       "generation_gwh_2017      0.893070\n",
       "generation_gwh_2018      0.908129\n",
       "dtype: float64"
      ]
     },
     "execution_count": 55,
     "metadata": {},
     "output_type": "execute_result"
    }
   ],
   "source": [
    "df.skew()"
   ]
  },
  {
   "cell_type": "code",
   "execution_count": 56,
   "id": "fe9aacb8",
   "metadata": {},
   "outputs": [
    {
     "data": {
      "image/png": "[encoded data removed]",
      "text/plain": [
       "<Figure size 2232x2088 with 10 Axes>"
      ]
     },
     "metadata": {},
     "output_type": "display_data"
    }
   ],
   "source": [
    "plt.figure(figsize=(31,29),facecolor='yellow')\n",
    "plotnumber = 1\n",
    "for column in df:\n",
    "    if plotnumber<=10:\n",
    "        ax = plt.subplot(5,2,plotnumber)\n",
    "        sns.distplot(df[column])\n",
    "        plt.xlabel(column,fontsize=20)\n",
    "        \n",
    "        \n",
    "        \n",
    "        plotnumber+=1\n",
    "plt.show()"
   ]
  },
  {
   "cell_type": "code",
   "execution_count": 57,
   "id": "ddb94bcd",
   "metadata": {},
   "outputs": [
    {
     "data": {
      "image/png": "[encoded data removed]",
      "text/plain": [
       "<Figure size 2088x1440 with 10 Axes>"
      ]
     },
     "metadata": {
      "needs_background": "light"
     },
     "output_type": "display_data"
    }
   ],
   "source": [
    "plt.figure(figsize=(29,20))\n",
    "plotnumber=1\n",
    "\n",
    "for column in df:\n",
    "    if plotnumber<=10:\n",
    "        ax = plt.subplot(5,2,plotnumber)\n",
    "        plt.hist(df[column],bins=30)\n",
    "        plt.xlabel(column,fontsize=25)\n",
    "        \n",
    "        \n",
    "        plotnumber+=1\n",
    "plt.tight_layout()   "
   ]
  },
  {
   "cell_type": "code",
   "execution_count": 58,
   "id": "8d0eb594",
   "metadata": {},
   "outputs": [
    {
     "data": {
      "text/html": [
       "<div>\n",
       "<style scoped>\n",
       "    .dataframe tbody tr th:only-of-type {\n",
       "        vertical-align: middle;\n",
       "    }\n",
       "\n",
       "    .dataframe tbody tr th {\n",
       "        vertical-align: top;\n",
       "    }\n",
       "\n",
       "    .dataframe thead th {\n",
       "        text-align: right;\n",
       "    }\n",
       "</style>\n",
       "<table border=\"1\" class=\"dataframe\">\n",
       "  <thead>\n",
       "    <tr style=\"text-align: right;\">\n",
       "      <th></th>\n",
       "      <th>capacity_mw</th>\n",
       "      <th>latitude</th>\n",
       "      <th>longitude</th>\n",
       "      <th>primary_fuel</th>\n",
       "      <th>commissioning_year</th>\n",
       "      <th>year_of_capacity_data</th>\n",
       "      <th>generation_gwh_2014</th>\n",
       "      <th>generation_gwh_2015</th>\n",
       "      <th>generation_gwh_2016</th>\n",
       "      <th>generation_gwh_2017</th>\n",
       "      <th>generation_gwh_2018</th>\n",
       "    </tr>\n",
       "  </thead>\n",
       "  <tbody>\n",
       "    <tr>\n",
       "      <th>count</th>\n",
       "      <td>907.000000</td>\n",
       "      <td>907.000000</td>\n",
       "      <td>907.000000</td>\n",
       "      <td>907.000000</td>\n",
       "      <td>907.000000</td>\n",
       "      <td>907.0</td>\n",
       "      <td>907.000000</td>\n",
       "      <td>907.000000</td>\n",
       "      <td>907.000000</td>\n",
       "      <td>907.000000</td>\n",
       "      <td>907.000000</td>\n",
       "    </tr>\n",
       "    <tr>\n",
       "      <th>mean</th>\n",
       "      <td>13.027169</td>\n",
       "      <td>21.197918</td>\n",
       "      <td>8.797302</td>\n",
       "      <td>3.206174</td>\n",
       "      <td>44.688587</td>\n",
       "      <td>2019.0</td>\n",
       "      <td>44.256549</td>\n",
       "      <td>43.671276</td>\n",
       "      <td>43.913631</td>\n",
       "      <td>44.622788</td>\n",
       "      <td>44.886364</td>\n",
       "    </tr>\n",
       "    <tr>\n",
       "      <th>std</th>\n",
       "      <td>12.517562</td>\n",
       "      <td>6.079148</td>\n",
       "      <td>0.269177</td>\n",
       "      <td>2.280652</td>\n",
       "      <td>0.145970</td>\n",
       "      <td>0.0</td>\n",
       "      <td>21.764736</td>\n",
       "      <td>22.839039</td>\n",
       "      <td>23.240598</td>\n",
       "      <td>23.604670</td>\n",
       "      <td>24.221174</td>\n",
       "    </tr>\n",
       "    <tr>\n",
       "      <th>min</th>\n",
       "      <td>0.000000</td>\n",
       "      <td>8.168900</td>\n",
       "      <td>8.285210</td>\n",
       "      <td>0.000000</td>\n",
       "      <td>43.897608</td>\n",
       "      <td>2019.0</td>\n",
       "      <td>0.000000</td>\n",
       "      <td>0.000000</td>\n",
       "      <td>0.000000</td>\n",
       "      <td>0.000000</td>\n",
       "      <td>0.000000</td>\n",
       "    </tr>\n",
       "    <tr>\n",
       "      <th>25%</th>\n",
       "      <td>4.089528</td>\n",
       "      <td>17.072000</td>\n",
       "      <td>8.624900</td>\n",
       "      <td>1.000000</td>\n",
       "      <td>44.688825</td>\n",
       "      <td>2019.0</td>\n",
       "      <td>34.804481</td>\n",
       "      <td>30.265271</td>\n",
       "      <td>29.941100</td>\n",
       "      <td>29.708367</td>\n",
       "      <td>28.719655</td>\n",
       "    </tr>\n",
       "    <tr>\n",
       "      <th>50%</th>\n",
       "      <td>7.694154</td>\n",
       "      <td>21.281800</td>\n",
       "      <td>8.773779</td>\n",
       "      <td>3.000000</td>\n",
       "      <td>44.688825</td>\n",
       "      <td>2019.0</td>\n",
       "      <td>49.313523</td>\n",
       "      <td>49.277043</td>\n",
       "      <td>49.678334</td>\n",
       "      <td>50.475334</td>\n",
       "      <td>50.998079</td>\n",
       "    </tr>\n",
       "    <tr>\n",
       "      <th>75%</th>\n",
       "      <td>19.627661</td>\n",
       "      <td>25.176450</td>\n",
       "      <td>8.899781</td>\n",
       "      <td>6.000000</td>\n",
       "      <td>44.754888</td>\n",
       "      <td>2019.0</td>\n",
       "      <td>49.313523</td>\n",
       "      <td>49.277043</td>\n",
       "      <td>49.678334</td>\n",
       "      <td>50.475334</td>\n",
       "      <td>50.998079</td>\n",
       "    </tr>\n",
       "    <tr>\n",
       "      <th>max</th>\n",
       "      <td>68.992753</td>\n",
       "      <td>34.649000</td>\n",
       "      <td>9.767702</td>\n",
       "      <td>7.000000</td>\n",
       "      <td>44.922155</td>\n",
       "      <td>2019.0</td>\n",
       "      <td>167.711061</td>\n",
       "      <td>174.754113</td>\n",
       "      <td>173.248377</td>\n",
       "      <td>187.392636</td>\n",
       "      <td>187.445992</td>\n",
       "    </tr>\n",
       "  </tbody>\n",
       "</table>\n",
       "</div>"
      ],
      "text/plain": [
       "       capacity_mw    latitude   longitude  primary_fuel  commissioning_year  \\\n",
       "count   907.000000  907.000000  907.000000    907.000000          907.000000   \n",
       "mean     13.027169   21.197918    8.797302      3.206174           44.688587   \n",
       "std      12.517562    6.079148    0.269177      2.280652            0.145970   \n",
       "min       0.000000    8.168900    8.285210      0.000000           43.897608   \n",
       "25%       4.089528   17.072000    8.624900      1.000000           44.688825   \n",
       "50%       7.694154   21.281800    8.773779      3.000000           44.688825   \n",
       "75%      19.627661   25.176450    8.899781      6.000000           44.754888   \n",
       "max      68.992753   34.649000    9.767702      7.000000           44.922155   \n",
       "\n",
       "       year_of_capacity_data  generation_gwh_2014  generation_gwh_2015  \\\n",
       "count                  907.0           907.000000           907.000000   \n",
       "mean                  2019.0            44.256549            43.671276   \n",
       "std                      0.0            21.764736            22.839039   \n",
       "min                   2019.0             0.000000             0.000000   \n",
       "25%                   2019.0            34.804481            30.265271   \n",
       "50%                   2019.0            49.313523            49.277043   \n",
       "75%                   2019.0            49.313523            49.277043   \n",
       "max                   2019.0           167.711061           174.754113   \n",
       "\n",
       "       generation_gwh_2016  generation_gwh_2017  generation_gwh_2018  \n",
       "count           907.000000           907.000000           907.000000  \n",
       "mean             43.913631            44.622788            44.886364  \n",
       "std              23.240598            23.604670            24.221174  \n",
       "min               0.000000             0.000000             0.000000  \n",
       "25%              29.941100            29.708367            28.719655  \n",
       "50%              49.678334            50.475334            50.998079  \n",
       "75%              49.678334            50.475334            50.998079  \n",
       "max             173.248377           187.392636           187.445992  "
      ]
     },
     "execution_count": 58,
     "metadata": {},
     "output_type": "execute_result"
    }
   ],
   "source": [
    "df.describe()"
   ]
  },
  {
   "cell_type": "markdown",
   "id": "2b1ef9cb",
   "metadata": {},
   "source": [
    "# check the outliers"
   ]
  },
  {
   "cell_type": "code",
   "execution_count": 59,
   "id": "d4ebc569",
   "metadata": {},
   "outputs": [
    {
     "data": {
      "image/png": "[encoded data removed]",
      "text/plain": [
       "<Figure size 2304x2520 with 10 Axes>"
      ]
     },
     "metadata": {
      "needs_background": "light"
     },
     "output_type": "display_data"
    }
   ],
   "source": [
    "plt.figure(figsize=(32,35))\n",
    "graph = 1\n",
    "for column in df:\n",
    "    if graph<=10:\n",
    "        ax = plt.subplot(5,2,graph)\n",
    "        sns.boxplot(df[column],orient='v')\n",
    "        plt.xlabel(column,fontsize=10)\n",
    "        \n",
    "        \n",
    "        \n",
    "        graph+=1\n",
    "plt.show()"
   ]
  },
  {
   "cell_type": "code",
   "execution_count": 60,
   "id": "734fc238",
   "metadata": {},
   "outputs": [
    {
     "data": {
      "text/plain": [
       "count    907.000000\n",
       "mean      13.027169\n",
       "std       12.517562\n",
       "min        0.000000\n",
       "25%        4.089528\n",
       "50%        7.694154\n",
       "75%       19.627661\n",
       "max       68.992753\n",
       "Name: capacity_mw, dtype: float64"
      ]
     },
     "execution_count": 60,
     "metadata": {},
     "output_type": "execute_result"
    }
   ],
   "source": [
    "df['capacity_mw'].describe()"
   ]
  },
  {
   "cell_type": "code",
   "execution_count": 61,
   "id": "a828f1c6",
   "metadata": {},
   "outputs": [],
   "source": [
    "#ist quantile\n",
    "q1 = df.quantile(0.25)\n",
    "#2nd quantile\n",
    "q3 = df.quantile(0.75)\n",
    "#iqr\n",
    "iqr = q3-q1\n"
   ]
  },
  {
   "cell_type": "code",
   "execution_count": 62,
   "id": "02c113bc",
   "metadata": {},
   "outputs": [
    {
     "data": {
      "text/plain": [
       "capacity_mw              15.538133\n",
       "latitude                  8.104450\n",
       "longitude                 0.274881\n",
       "primary_fuel              5.000000\n",
       "commissioning_year        0.066063\n",
       "year_of_capacity_data     0.000000\n",
       "generation_gwh_2014      14.509042\n",
       "generation_gwh_2015      19.011772\n",
       "generation_gwh_2016      19.737233\n",
       "generation_gwh_2017      20.766967\n",
       "generation_gwh_2018      22.278425\n",
       "dtype: float64"
      ]
     },
     "execution_count": 62,
     "metadata": {},
     "output_type": "execute_result"
    }
   ],
   "source": [
    "iqr"
   ]
  },
  {
   "cell_type": "code",
   "execution_count": 63,
   "id": "4c009241",
   "metadata": {},
   "outputs": [
    {
     "name": "stdout",
     "output_type": "stream",
     "text": [
      "Highest allowed 50.579856681706474\n",
      "Lowest allowed -24.52551797369797\n"
     ]
    }
   ],
   "source": [
    "print('Highest allowed',df['capacity_mw'].mean()+3*df['capacity_mw'].std())\n",
    "print('Lowest allowed',df['capacity_mw'].mean()-3*df['capacity_mw'].std())"
   ]
  },
  {
   "cell_type": "code",
   "execution_count": 64,
   "id": "94c3f20f",
   "metadata": {},
   "outputs": [],
   "source": [
    "df = df[(df['capacity_mw']<50.5798)&(df['capacity_mw']> -24.5255)] "
   ]
  },
  {
   "cell_type": "code",
   "execution_count": 65,
   "id": "7686d4f0",
   "metadata": {},
   "outputs": [
    {
     "data": {
      "text/plain": [
       "count    895.000000\n",
       "mean      12.428631\n",
       "std       11.452827\n",
       "min        0.000000\n",
       "25%        4.062019\n",
       "50%        7.266361\n",
       "75%       18.165902\n",
       "max       50.199602\n",
       "Name: capacity_mw, dtype: float64"
      ]
     },
     "execution_count": 65,
     "metadata": {},
     "output_type": "execute_result"
    }
   ],
   "source": [
    "df['capacity_mw'].describe()"
   ]
  },
  {
   "cell_type": "code",
   "execution_count": 66,
   "id": "0d174b82",
   "metadata": {},
   "outputs": [
    {
     "data": {
      "text/plain": [
       "count    895.000000\n",
       "mean      42.557978\n",
       "std       20.093837\n",
       "min        0.000000\n",
       "25%       28.731820\n",
       "50%       49.678334\n",
       "75%       49.678334\n",
       "max      121.798194\n",
       "Name: generation_gwh_2016, dtype: float64"
      ]
     },
     "execution_count": 66,
     "metadata": {},
     "output_type": "execute_result"
    }
   ],
   "source": [
    "df['generation_gwh_2016'].describe()"
   ]
  },
  {
   "cell_type": "code",
   "execution_count": 67,
   "id": "eec95726",
   "metadata": {},
   "outputs": [
    {
     "name": "stdout",
     "output_type": "stream",
     "text": [
      "Highest allowed 102.83948889562414\n",
      "Lowest allowed -17.723532219534533\n"
     ]
    }
   ],
   "source": [
    "print('Highest allowed',df['generation_gwh_2016'].mean()+3*df['generation_gwh_2016'].std())\n",
    "print('Lowest allowed',df['generation_gwh_2016'].mean()-3*df['generation_gwh_2016'].std())"
   ]
  },
  {
   "cell_type": "code",
   "execution_count": 68,
   "id": "22e3151e",
   "metadata": {},
   "outputs": [],
   "source": [
    "df = df[(df['generation_gwh_2016']<102.8394) & (df['generation_gwh_2016']>-17.7235)]"
   ]
  },
  {
   "cell_type": "code",
   "execution_count": 69,
   "id": "94c63c54",
   "metadata": {},
   "outputs": [
    {
     "data": {
      "text/plain": [
       "count    891.000000\n",
       "mean      42.223044\n",
       "std       19.503826\n",
       "min        0.000000\n",
       "25%       28.590281\n",
       "50%       49.678334\n",
       "75%       49.678334\n",
       "max      102.488448\n",
       "Name: generation_gwh_2016, dtype: float64"
      ]
     },
     "execution_count": 69,
     "metadata": {},
     "output_type": "execute_result"
    }
   ],
   "source": [
    "df['generation_gwh_2016'].describe()"
   ]
  },
  {
   "cell_type": "code",
   "execution_count": 70,
   "id": "46e6f081",
   "metadata": {},
   "outputs": [
    {
     "data": {
      "text/plain": [
       "count    891.000000\n",
       "mean       8.793512\n",
       "std        0.267422\n",
       "min        8.285210\n",
       "25%        8.624538\n",
       "50%        8.768067\n",
       "75%        8.894642\n",
       "max        9.767702\n",
       "Name: longitude, dtype: float64"
      ]
     },
     "execution_count": 70,
     "metadata": {},
     "output_type": "execute_result"
    }
   ],
   "source": [
    "df['longitude'].describe()"
   ]
  },
  {
   "cell_type": "code",
   "execution_count": 71,
   "id": "5efa5e01",
   "metadata": {},
   "outputs": [
    {
     "data": {
      "text/plain": [
       "count    891.000000\n",
       "mean      44.687611\n",
       "std        0.146548\n",
       "min       43.897608\n",
       "25%       44.688825\n",
       "50%       44.688825\n",
       "75%       44.754888\n",
       "max       44.922155\n",
       "Name: commissioning_year, dtype: float64"
      ]
     },
     "execution_count": 71,
     "metadata": {},
     "output_type": "execute_result"
    }
   ],
   "source": [
    "df['commissioning_year'].describe()"
   ]
  },
  {
   "cell_type": "code",
   "execution_count": 72,
   "id": "808df727",
   "metadata": {},
   "outputs": [
    {
     "name": "stdout",
     "output_type": "stream",
     "text": [
      "Highest allowed 45.12725647889404\n",
      "Lowest allowed 44.24796604781763\n"
     ]
    }
   ],
   "source": [
    "print('Highest allowed',df['commissioning_year'].mean()+3*df['commissioning_year'].std())\n",
    "print('Lowest allowed',df['commissioning_year'].mean()-3*df['commissioning_year'].std())\n"
   ]
  },
  {
   "cell_type": "code",
   "execution_count": 73,
   "id": "f0994700",
   "metadata": {},
   "outputs": [],
   "source": [
    "df = df[(df['commissioning_year']<45.12725647889404) & (df['commissioning_year']>44.24796604781763)]"
   ]
  },
  {
   "cell_type": "code",
   "execution_count": 74,
   "id": "6f1df86b",
   "metadata": {},
   "outputs": [
    {
     "data": {
      "text/plain": [
       "count    873.000000\n",
       "mean      44.698478\n",
       "std        0.126032\n",
       "min       44.249294\n",
       "25%       44.688825\n",
       "50%       44.688825\n",
       "75%       44.754888\n",
       "max       44.922155\n",
       "Name: commissioning_year, dtype: float64"
      ]
     },
     "execution_count": 74,
     "metadata": {},
     "output_type": "execute_result"
    }
   ],
   "source": [
    "df['commissioning_year'].describe()"
   ]
  },
  {
   "cell_type": "code",
   "execution_count": 75,
   "id": "88cb6c0b",
   "metadata": {},
   "outputs": [
    {
     "data": {
      "text/plain": [
       "count    873.000000\n",
       "mean      43.408528\n",
       "std       20.563162\n",
       "min        0.000000\n",
       "25%       28.992389\n",
       "50%       50.998079\n",
       "75%       50.998079\n",
       "max      105.733391\n",
       "Name: generation_gwh_2018, dtype: float64"
      ]
     },
     "execution_count": 75,
     "metadata": {},
     "output_type": "execute_result"
    }
   ],
   "source": [
    "df['generation_gwh_2018'].describe()"
   ]
  },
  {
   "cell_type": "code",
   "execution_count": 76,
   "id": "c9f36260",
   "metadata": {},
   "outputs": [
    {
     "name": "stdout",
     "output_type": "stream",
     "text": [
      "Highest allowed 105.09801418846688\n",
      "Lowest allowed -18.280958180622278\n"
     ]
    }
   ],
   "source": [
    "print('Highest allowed',df['generation_gwh_2018'].mean()+3*df['generation_gwh_2018'].std())\n",
    "print('Lowest allowed',df['generation_gwh_2018'].mean()-3*df['generation_gwh_2018'].std())\n"
   ]
  },
  {
   "cell_type": "code",
   "execution_count": 77,
   "id": "367b0d57",
   "metadata": {},
   "outputs": [],
   "source": [
    "df = df[(df['generation_gwh_2018']<105.09801418846688) & (df['generation_gwh_2018']>-18.280958180622278)]"
   ]
  },
  {
   "cell_type": "code",
   "execution_count": 78,
   "id": "a47861d4",
   "metadata": {},
   "outputs": [
    {
     "data": {
      "text/plain": [
       "count    872.000000\n",
       "mean      43.337055\n",
       "std       20.466175\n",
       "min        0.000000\n",
       "25%       28.962760\n",
       "50%       50.998079\n",
       "75%       50.998079\n",
       "max       99.303253\n",
       "Name: generation_gwh_2018, dtype: float64"
      ]
     },
     "execution_count": 78,
     "metadata": {},
     "output_type": "execute_result"
    }
   ],
   "source": [
    "df['generation_gwh_2018'].describe()"
   ]
  },
  {
   "cell_type": "code",
   "execution_count": 79,
   "id": "9d963516",
   "metadata": {},
   "outputs": [
    {
     "data": {
      "text/plain": [
       "count    872.000000\n",
       "mean      43.159192\n",
       "std       19.933550\n",
       "min        0.000000\n",
       "25%       30.154220\n",
       "50%       50.475334\n",
       "75%       50.475334\n",
       "max       99.164964\n",
       "Name: generation_gwh_2017, dtype: float64"
      ]
     },
     "execution_count": 79,
     "metadata": {},
     "output_type": "execute_result"
    }
   ],
   "source": [
    "df['generation_gwh_2017'].describe()"
   ]
  },
  {
   "cell_type": "code",
   "execution_count": 80,
   "id": "95c6c369",
   "metadata": {},
   "outputs": [
    {
     "data": {
      "text/plain": [
       "count    872.000000\n",
       "mean      42.233168\n",
       "std       18.980252\n",
       "min        0.000000\n",
       "25%       30.493332\n",
       "50%       49.277043\n",
       "75%       49.277043\n",
       "max      102.091577\n",
       "Name: generation_gwh_2015, dtype: float64"
      ]
     },
     "execution_count": 80,
     "metadata": {},
     "output_type": "execute_result"
    }
   ],
   "source": [
    "df['generation_gwh_2015'].describe()"
   ]
  },
  {
   "cell_type": "code",
   "execution_count": 81,
   "id": "55688573",
   "metadata": {},
   "outputs": [
    {
     "name": "stdout",
     "output_type": "stream",
     "text": [
      "Highest allowed 99.1739234564559\n",
      "Lowest allowed -14.707587601673623\n"
     ]
    }
   ],
   "source": [
    "print('Highest allowed',df['generation_gwh_2015'].mean()+3*df['generation_gwh_2015'].std())\n",
    "print('Lowest allowed',df['generation_gwh_2015'].mean()-3*df['generation_gwh_2015'].std())"
   ]
  },
  {
   "cell_type": "code",
   "execution_count": 82,
   "id": "1da21d8b",
   "metadata": {},
   "outputs": [],
   "source": [
    "df = df[(df['generation_gwh_2015']<99.173923) & (df['generation_gwh_2015']>-14.70758)]"
   ]
  },
  {
   "cell_type": "code",
   "execution_count": 83,
   "id": "1e6700e4",
   "metadata": {},
   "outputs": [
    {
     "data": {
      "text/plain": [
       "count    871.000000\n",
       "mean      42.164444\n",
       "std       18.882290\n",
       "min        0.000000\n",
       "25%       30.455860\n",
       "50%       49.277043\n",
       "75%       49.277043\n",
       "max       97.706950\n",
       "Name: generation_gwh_2015, dtype: float64"
      ]
     },
     "execution_count": 83,
     "metadata": {},
     "output_type": "execute_result"
    }
   ],
   "source": [
    "df['generation_gwh_2015'].describe()"
   ]
  },
  {
   "cell_type": "code",
   "execution_count": 84,
   "id": "36d736ed",
   "metadata": {},
   "outputs": [
    {
     "data": {
      "image/png": "[encoded data removed]",
      "text/plain": [
       "<Figure size 2376x2520 with 10 Axes>"
      ]
     },
     "metadata": {
      "needs_background": "light"
     },
     "output_type": "display_data"
    }
   ],
   "source": [
    "plt.figure(figsize=(33,35))\n",
    "graph = 1\n",
    "for column in df:\n",
    "    if graph<=10:\n",
    "        ax = plt.subplot(5,2,graph)\n",
    "        sns.boxplot(df[column],orient='v')\n",
    "        plt.xlabel(column,fontsize=10)\n",
    "        \n",
    "        \n",
    "        \n",
    "        graph+=1\n",
    "plt.show()"
   ]
  },
  {
   "cell_type": "code",
   "execution_count": 85,
   "id": "e05e2e15",
   "metadata": {},
   "outputs": [
    {
     "data": {
      "text/plain": [
       "(871, 11)"
      ]
     },
     "execution_count": 85,
     "metadata": {},
     "output_type": "execute_result"
    }
   ],
   "source": [
    "df.shape"
   ]
  },
  {
   "cell_type": "markdown",
   "id": "4f9a73b7",
   "metadata": {},
   "source": [
    "# but at any condition the data loss should not be more than 10% of data."
   ]
  },
  {
   "cell_type": "code",
   "execution_count": 86,
   "id": "be37559b",
   "metadata": {},
   "outputs": [],
   "source": [
    "data_loss = (907-871)/(907)*100"
   ]
  },
  {
   "cell_type": "code",
   "execution_count": 87,
   "id": "d6c73a75",
   "metadata": {},
   "outputs": [
    {
     "data": {
      "text/plain": [
       "3.9691289966923926"
      ]
     },
     "execution_count": 87,
     "metadata": {},
     "output_type": "execute_result"
    }
   ],
   "source": [
    "data_loss"
   ]
  },
  {
   "cell_type": "code",
   "execution_count": 88,
   "id": "79d003d3",
   "metadata": {},
   "outputs": [
    {
     "data": {
      "text/html": [
       "<div>\n",
       "<style scoped>\n",
       "    .dataframe tbody tr th:only-of-type {\n",
       "        vertical-align: middle;\n",
       "    }\n",
       "\n",
       "    .dataframe tbody tr th {\n",
       "        vertical-align: top;\n",
       "    }\n",
       "\n",
       "    .dataframe thead th {\n",
       "        text-align: right;\n",
       "    }\n",
       "</style>\n",
       "<table border=\"1\" class=\"dataframe\">\n",
       "  <thead>\n",
       "    <tr style=\"text-align: right;\">\n",
       "      <th></th>\n",
       "      <th>capacity_mw</th>\n",
       "      <th>latitude</th>\n",
       "      <th>longitude</th>\n",
       "      <th>primary_fuel</th>\n",
       "      <th>commissioning_year</th>\n",
       "      <th>year_of_capacity_data</th>\n",
       "      <th>generation_gwh_2014</th>\n",
       "      <th>generation_gwh_2015</th>\n",
       "      <th>generation_gwh_2016</th>\n",
       "      <th>generation_gwh_2017</th>\n",
       "      <th>generation_gwh_2018</th>\n",
       "    </tr>\n",
       "  </thead>\n",
       "  <tbody>\n",
       "    <tr>\n",
       "      <th>0</th>\n",
       "      <td>1.581139</td>\n",
       "      <td>28.1839</td>\n",
       "      <td>8.558078</td>\n",
       "      <td>6.0</td>\n",
       "      <td>44.844175</td>\n",
       "      <td>2019.0</td>\n",
       "      <td>49.313523</td>\n",
       "      <td>49.277043</td>\n",
       "      <td>49.678334</td>\n",
       "      <td>50.475334</td>\n",
       "      <td>50.998079</td>\n",
       "    </tr>\n",
       "    <tr>\n",
       "      <th>1</th>\n",
       "      <td>9.899495</td>\n",
       "      <td>24.7663</td>\n",
       "      <td>8.637650</td>\n",
       "      <td>1.0</td>\n",
       "      <td>44.688825</td>\n",
       "      <td>2019.0</td>\n",
       "      <td>49.313523</td>\n",
       "      <td>49.277043</td>\n",
       "      <td>49.678334</td>\n",
       "      <td>50.475334</td>\n",
       "      <td>50.998079</td>\n",
       "    </tr>\n",
       "    <tr>\n",
       "      <th>2</th>\n",
       "      <td>6.260990</td>\n",
       "      <td>21.9038</td>\n",
       "      <td>8.329058</td>\n",
       "      <td>7.0</td>\n",
       "      <td>44.688825</td>\n",
       "      <td>2019.0</td>\n",
       "      <td>49.313523</td>\n",
       "      <td>49.277043</td>\n",
       "      <td>49.678334</td>\n",
       "      <td>50.475334</td>\n",
       "      <td>50.998079</td>\n",
       "    </tr>\n",
       "    <tr>\n",
       "      <th>3</th>\n",
       "      <td>11.618950</td>\n",
       "      <td>23.8712</td>\n",
       "      <td>9.558253</td>\n",
       "      <td>2.0</td>\n",
       "      <td>44.766059</td>\n",
       "      <td>2019.0</td>\n",
       "      <td>24.855367</td>\n",
       "      <td>29.047323</td>\n",
       "      <td>29.765827</td>\n",
       "      <td>25.763822</td>\n",
       "      <td>25.024770</td>\n",
       "    </tr>\n",
       "    <tr>\n",
       "      <th>4</th>\n",
       "      <td>42.426407</td>\n",
       "      <td>21.9603</td>\n",
       "      <td>9.077946</td>\n",
       "      <td>1.0</td>\n",
       "      <td>44.888751</td>\n",
       "      <td>2019.0</td>\n",
       "      <td>55.095826</td>\n",
       "      <td>76.917943</td>\n",
       "      <td>79.012657</td>\n",
       "      <td>73.386509</td>\n",
       "      <td>85.317056</td>\n",
       "    </tr>\n",
       "  </tbody>\n",
       "</table>\n",
       "</div>"
      ],
      "text/plain": [
       "   capacity_mw  latitude  longitude  primary_fuel  commissioning_year  \\\n",
       "0     1.581139   28.1839   8.558078           6.0           44.844175   \n",
       "1     9.899495   24.7663   8.637650           1.0           44.688825   \n",
       "2     6.260990   21.9038   8.329058           7.0           44.688825   \n",
       "3    11.618950   23.8712   9.558253           2.0           44.766059   \n",
       "4    42.426407   21.9603   9.077946           1.0           44.888751   \n",
       "\n",
       "   year_of_capacity_data  generation_gwh_2014  generation_gwh_2015  \\\n",
       "0                 2019.0            49.313523            49.277043   \n",
       "1                 2019.0            49.313523            49.277043   \n",
       "2                 2019.0            49.313523            49.277043   \n",
       "3                 2019.0            24.855367            29.047323   \n",
       "4                 2019.0            55.095826            76.917943   \n",
       "\n",
       "   generation_gwh_2016  generation_gwh_2017  generation_gwh_2018  \n",
       "0            49.678334            50.475334            50.998079  \n",
       "1            49.678334            50.475334            50.998079  \n",
       "2            49.678334            50.475334            50.998079  \n",
       "3            29.765827            25.763822            25.024770  \n",
       "4            79.012657            73.386509            85.317056  "
      ]
     },
     "execution_count": 88,
     "metadata": {},
     "output_type": "execute_result"
    }
   ],
   "source": [
    "df.head()"
   ]
  },
  {
   "cell_type": "code",
   "execution_count": 89,
   "id": "ea1741df",
   "metadata": {},
   "outputs": [
    {
     "data": {
      "text/html": [
       "<div>\n",
       "<style scoped>\n",
       "    .dataframe tbody tr th:only-of-type {\n",
       "        vertical-align: middle;\n",
       "    }\n",
       "\n",
       "    .dataframe tbody tr th {\n",
       "        vertical-align: top;\n",
       "    }\n",
       "\n",
       "    .dataframe thead th {\n",
       "        text-align: right;\n",
       "    }\n",
       "</style>\n",
       "<table border=\"1\" class=\"dataframe\">\n",
       "  <thead>\n",
       "    <tr style=\"text-align: right;\">\n",
       "      <th></th>\n",
       "      <th>capacity_mw</th>\n",
       "      <th>latitude</th>\n",
       "      <th>longitude</th>\n",
       "      <th>primary_fuel</th>\n",
       "      <th>commissioning_year</th>\n",
       "      <th>year_of_capacity_data</th>\n",
       "      <th>generation_gwh_2014</th>\n",
       "      <th>generation_gwh_2015</th>\n",
       "      <th>generation_gwh_2016</th>\n",
       "      <th>generation_gwh_2017</th>\n",
       "      <th>generation_gwh_2018</th>\n",
       "    </tr>\n",
       "  </thead>\n",
       "  <tbody>\n",
       "    <tr>\n",
       "      <th>count</th>\n",
       "      <td>871.000000</td>\n",
       "      <td>871.000000</td>\n",
       "      <td>871.000000</td>\n",
       "      <td>871.000000</td>\n",
       "      <td>871.000000</td>\n",
       "      <td>871.0</td>\n",
       "      <td>871.000000</td>\n",
       "      <td>871.000000</td>\n",
       "      <td>871.000000</td>\n",
       "      <td>871.000000</td>\n",
       "      <td>871.000000</td>\n",
       "    </tr>\n",
       "    <tr>\n",
       "      <th>mean</th>\n",
       "      <td>12.338294</td>\n",
       "      <td>21.182540</td>\n",
       "      <td>8.791208</td>\n",
       "      <td>3.256028</td>\n",
       "      <td>44.698297</td>\n",
       "      <td>2019.0</td>\n",
       "      <td>42.862252</td>\n",
       "      <td>42.164444</td>\n",
       "      <td>42.380913</td>\n",
       "      <td>43.094892</td>\n",
       "      <td>43.283702</td>\n",
       "    </tr>\n",
       "    <tr>\n",
       "      <th>std</th>\n",
       "      <td>11.229263</td>\n",
       "      <td>6.095727</td>\n",
       "      <td>0.267753</td>\n",
       "      <td>2.304894</td>\n",
       "      <td>0.126028</td>\n",
       "      <td>0.0</td>\n",
       "      <td>18.078096</td>\n",
       "      <td>18.882290</td>\n",
       "      <td>19.354435</td>\n",
       "      <td>19.854311</td>\n",
       "      <td>20.417167</td>\n",
       "    </tr>\n",
       "    <tr>\n",
       "      <th>min</th>\n",
       "      <td>0.000000</td>\n",
       "      <td>8.168900</td>\n",
       "      <td>8.285210</td>\n",
       "      <td>0.000000</td>\n",
       "      <td>44.249294</td>\n",
       "      <td>2019.0</td>\n",
       "      <td>0.000000</td>\n",
       "      <td>0.000000</td>\n",
       "      <td>0.000000</td>\n",
       "      <td>0.000000</td>\n",
       "      <td>0.000000</td>\n",
       "    </tr>\n",
       "    <tr>\n",
       "      <th>25%</th>\n",
       "      <td>4.062019</td>\n",
       "      <td>17.046900</td>\n",
       "      <td>8.621781</td>\n",
       "      <td>1.000000</td>\n",
       "      <td>44.688825</td>\n",
       "      <td>2019.0</td>\n",
       "      <td>34.925677</td>\n",
       "      <td>30.455860</td>\n",
       "      <td>30.162032</td>\n",
       "      <td>30.035020</td>\n",
       "      <td>28.933131</td>\n",
       "    </tr>\n",
       "    <tr>\n",
       "      <th>50%</th>\n",
       "      <td>7.266361</td>\n",
       "      <td>21.247800</td>\n",
       "      <td>8.767474</td>\n",
       "      <td>3.000000</td>\n",
       "      <td>44.688825</td>\n",
       "      <td>2019.0</td>\n",
       "      <td>49.313523</td>\n",
       "      <td>49.277043</td>\n",
       "      <td>49.678334</td>\n",
       "      <td>50.475334</td>\n",
       "      <td>50.998079</td>\n",
       "    </tr>\n",
       "    <tr>\n",
       "      <th>75%</th>\n",
       "      <td>18.165902</td>\n",
       "      <td>25.200100</td>\n",
       "      <td>8.894304</td>\n",
       "      <td>6.000000</td>\n",
       "      <td>44.754888</td>\n",
       "      <td>2019.0</td>\n",
       "      <td>49.313523</td>\n",
       "      <td>49.277043</td>\n",
       "      <td>49.678334</td>\n",
       "      <td>50.475334</td>\n",
       "      <td>50.998079</td>\n",
       "    </tr>\n",
       "    <tr>\n",
       "      <th>max</th>\n",
       "      <td>50.199602</td>\n",
       "      <td>34.649000</td>\n",
       "      <td>9.767702</td>\n",
       "      <td>7.000000</td>\n",
       "      <td>44.922155</td>\n",
       "      <td>2019.0</td>\n",
       "      <td>107.079410</td>\n",
       "      <td>97.706950</td>\n",
       "      <td>99.938741</td>\n",
       "      <td>96.289200</td>\n",
       "      <td>99.303253</td>\n",
       "    </tr>\n",
       "  </tbody>\n",
       "</table>\n",
       "</div>"
      ],
      "text/plain": [
       "       capacity_mw    latitude   longitude  primary_fuel  commissioning_year  \\\n",
       "count   871.000000  871.000000  871.000000    871.000000          871.000000   \n",
       "mean     12.338294   21.182540    8.791208      3.256028           44.698297   \n",
       "std      11.229263    6.095727    0.267753      2.304894            0.126028   \n",
       "min       0.000000    8.168900    8.285210      0.000000           44.249294   \n",
       "25%       4.062019   17.046900    8.621781      1.000000           44.688825   \n",
       "50%       7.266361   21.247800    8.767474      3.000000           44.688825   \n",
       "75%      18.165902   25.200100    8.894304      6.000000           44.754888   \n",
       "max      50.199602   34.649000    9.767702      7.000000           44.922155   \n",
       "\n",
       "       year_of_capacity_data  generation_gwh_2014  generation_gwh_2015  \\\n",
       "count                  871.0           871.000000           871.000000   \n",
       "mean                  2019.0            42.862252            42.164444   \n",
       "std                      0.0            18.078096            18.882290   \n",
       "min                   2019.0             0.000000             0.000000   \n",
       "25%                   2019.0            34.925677            30.455860   \n",
       "50%                   2019.0            49.313523            49.277043   \n",
       "75%                   2019.0            49.313523            49.277043   \n",
       "max                   2019.0           107.079410            97.706950   \n",
       "\n",
       "       generation_gwh_2016  generation_gwh_2017  generation_gwh_2018  \n",
       "count           871.000000           871.000000           871.000000  \n",
       "mean             42.380913            43.094892            43.283702  \n",
       "std              19.354435            19.854311            20.417167  \n",
       "min               0.000000             0.000000             0.000000  \n",
       "25%              30.162032            30.035020            28.933131  \n",
       "50%              49.678334            50.475334            50.998079  \n",
       "75%              49.678334            50.475334            50.998079  \n",
       "max              99.938741            96.289200            99.303253  "
      ]
     },
     "execution_count": 89,
     "metadata": {},
     "output_type": "execute_result"
    }
   ],
   "source": [
    "df.describe()"
   ]
  },
  {
   "cell_type": "markdown",
   "id": "80eef8fd",
   "metadata": {},
   "source": [
    "# check correlation"
   ]
  },
  {
   "cell_type": "code",
   "execution_count": 90,
   "id": "398c126b",
   "metadata": {},
   "outputs": [
    {
     "data": {
      "text/html": [
       "<div>\n",
       "<style scoped>\n",
       "    .dataframe tbody tr th:only-of-type {\n",
       "        vertical-align: middle;\n",
       "    }\n",
       "\n",
       "    .dataframe tbody tr th {\n",
       "        vertical-align: top;\n",
       "    }\n",
       "\n",
       "    .dataframe thead th {\n",
       "        text-align: right;\n",
       "    }\n",
       "</style>\n",
       "<table border=\"1\" class=\"dataframe\">\n",
       "  <thead>\n",
       "    <tr style=\"text-align: right;\">\n",
       "      <th></th>\n",
       "      <th>capacity_mw</th>\n",
       "      <th>latitude</th>\n",
       "      <th>longitude</th>\n",
       "      <th>primary_fuel</th>\n",
       "      <th>commissioning_year</th>\n",
       "      <th>year_of_capacity_data</th>\n",
       "      <th>generation_gwh_2014</th>\n",
       "      <th>generation_gwh_2015</th>\n",
       "      <th>generation_gwh_2016</th>\n",
       "      <th>generation_gwh_2017</th>\n",
       "      <th>generation_gwh_2018</th>\n",
       "    </tr>\n",
       "  </thead>\n",
       "  <tbody>\n",
       "    <tr>\n",
       "      <th>capacity_mw</th>\n",
       "      <td>1.000000</td>\n",
       "      <td>0.064879</td>\n",
       "      <td>0.266898</td>\n",
       "      <td>-0.470704</td>\n",
       "      <td>0.309302</td>\n",
       "      <td>NaN</td>\n",
       "      <td>0.166762</td>\n",
       "      <td>0.168242</td>\n",
       "      <td>0.212064</td>\n",
       "      <td>0.234144</td>\n",
       "      <td>0.239824</td>\n",
       "    </tr>\n",
       "    <tr>\n",
       "      <th>latitude</th>\n",
       "      <td>0.064879</td>\n",
       "      <td>1.000000</td>\n",
       "      <td>0.021934</td>\n",
       "      <td>-0.007685</td>\n",
       "      <td>0.108048</td>\n",
       "      <td>NaN</td>\n",
       "      <td>0.054961</td>\n",
       "      <td>0.042622</td>\n",
       "      <td>0.049816</td>\n",
       "      <td>0.025859</td>\n",
       "      <td>0.029253</td>\n",
       "    </tr>\n",
       "    <tr>\n",
       "      <th>longitude</th>\n",
       "      <td>0.266898</td>\n",
       "      <td>0.021934</td>\n",
       "      <td>1.000000</td>\n",
       "      <td>-0.350266</td>\n",
       "      <td>0.138237</td>\n",
       "      <td>NaN</td>\n",
       "      <td>-0.143964</td>\n",
       "      <td>-0.152247</td>\n",
       "      <td>-0.109505</td>\n",
       "      <td>-0.129242</td>\n",
       "      <td>-0.129119</td>\n",
       "    </tr>\n",
       "    <tr>\n",
       "      <th>primary_fuel</th>\n",
       "      <td>-0.470704</td>\n",
       "      <td>-0.007685</td>\n",
       "      <td>-0.350266</td>\n",
       "      <td>1.000000</td>\n",
       "      <td>-0.150514</td>\n",
       "      <td>NaN</td>\n",
       "      <td>0.051114</td>\n",
       "      <td>0.054971</td>\n",
       "      <td>0.043869</td>\n",
       "      <td>0.048824</td>\n",
       "      <td>0.043364</td>\n",
       "    </tr>\n",
       "    <tr>\n",
       "      <th>commissioning_year</th>\n",
       "      <td>0.309302</td>\n",
       "      <td>0.108048</td>\n",
       "      <td>0.138237</td>\n",
       "      <td>-0.150514</td>\n",
       "      <td>1.000000</td>\n",
       "      <td>NaN</td>\n",
       "      <td>0.126717</td>\n",
       "      <td>0.142559</td>\n",
       "      <td>0.183750</td>\n",
       "      <td>0.153249</td>\n",
       "      <td>0.153997</td>\n",
       "    </tr>\n",
       "    <tr>\n",
       "      <th>year_of_capacity_data</th>\n",
       "      <td>NaN</td>\n",
       "      <td>NaN</td>\n",
       "      <td>NaN</td>\n",
       "      <td>NaN</td>\n",
       "      <td>NaN</td>\n",
       "      <td>NaN</td>\n",
       "      <td>NaN</td>\n",
       "      <td>NaN</td>\n",
       "      <td>NaN</td>\n",
       "      <td>NaN</td>\n",
       "      <td>NaN</td>\n",
       "    </tr>\n",
       "    <tr>\n",
       "      <th>generation_gwh_2014</th>\n",
       "      <td>0.166762</td>\n",
       "      <td>0.054961</td>\n",
       "      <td>-0.143964</td>\n",
       "      <td>0.051114</td>\n",
       "      <td>0.126717</td>\n",
       "      <td>NaN</td>\n",
       "      <td>1.000000</td>\n",
       "      <td>0.862912</td>\n",
       "      <td>0.809832</td>\n",
       "      <td>0.743114</td>\n",
       "      <td>0.756429</td>\n",
       "    </tr>\n",
       "    <tr>\n",
       "      <th>generation_gwh_2015</th>\n",
       "      <td>0.168242</td>\n",
       "      <td>0.042622</td>\n",
       "      <td>-0.152247</td>\n",
       "      <td>0.054971</td>\n",
       "      <td>0.142559</td>\n",
       "      <td>NaN</td>\n",
       "      <td>0.862912</td>\n",
       "      <td>1.000000</td>\n",
       "      <td>0.903292</td>\n",
       "      <td>0.800593</td>\n",
       "      <td>0.811000</td>\n",
       "    </tr>\n",
       "    <tr>\n",
       "      <th>generation_gwh_2016</th>\n",
       "      <td>0.212064</td>\n",
       "      <td>0.049816</td>\n",
       "      <td>-0.109505</td>\n",
       "      <td>0.043869</td>\n",
       "      <td>0.183750</td>\n",
       "      <td>NaN</td>\n",
       "      <td>0.809832</td>\n",
       "      <td>0.903292</td>\n",
       "      <td>1.000000</td>\n",
       "      <td>0.895904</td>\n",
       "      <td>0.896871</td>\n",
       "    </tr>\n",
       "    <tr>\n",
       "      <th>generation_gwh_2017</th>\n",
       "      <td>0.234144</td>\n",
       "      <td>0.025859</td>\n",
       "      <td>-0.129242</td>\n",
       "      <td>0.048824</td>\n",
       "      <td>0.153249</td>\n",
       "      <td>NaN</td>\n",
       "      <td>0.743114</td>\n",
       "      <td>0.800593</td>\n",
       "      <td>0.895904</td>\n",
       "      <td>1.000000</td>\n",
       "      <td>0.947965</td>\n",
       "    </tr>\n",
       "    <tr>\n",
       "      <th>generation_gwh_2018</th>\n",
       "      <td>0.239824</td>\n",
       "      <td>0.029253</td>\n",
       "      <td>-0.129119</td>\n",
       "      <td>0.043364</td>\n",
       "      <td>0.153997</td>\n",
       "      <td>NaN</td>\n",
       "      <td>0.756429</td>\n",
       "      <td>0.811000</td>\n",
       "      <td>0.896871</td>\n",
       "      <td>0.947965</td>\n",
       "      <td>1.000000</td>\n",
       "    </tr>\n",
       "  </tbody>\n",
       "</table>\n",
       "</div>"
      ],
      "text/plain": [
       "                       capacity_mw  latitude  longitude  primary_fuel  \\\n",
       "capacity_mw               1.000000  0.064879   0.266898     -0.470704   \n",
       "latitude                  0.064879  1.000000   0.021934     -0.007685   \n",
       "longitude                 0.266898  0.021934   1.000000     -0.350266   \n",
       "primary_fuel             -0.470704 -0.007685  -0.350266      1.000000   \n",
       "commissioning_year        0.309302  0.108048   0.138237     -0.150514   \n",
       "year_of_capacity_data          NaN       NaN        NaN           NaN   \n",
       "generation_gwh_2014       0.166762  0.054961  -0.143964      0.051114   \n",
       "generation_gwh_2015       0.168242  0.042622  -0.152247      0.054971   \n",
       "generation_gwh_2016       0.212064  0.049816  -0.109505      0.043869   \n",
       "generation_gwh_2017       0.234144  0.025859  -0.129242      0.048824   \n",
       "generation_gwh_2018       0.239824  0.029253  -0.129119      0.043364   \n",
       "\n",
       "                       commissioning_year  year_of_capacity_data  \\\n",
       "capacity_mw                      0.309302                    NaN   \n",
       "latitude                         0.108048                    NaN   \n",
       "longitude                        0.138237                    NaN   \n",
       "primary_fuel                    -0.150514                    NaN   \n",
       "commissioning_year               1.000000                    NaN   \n",
       "year_of_capacity_data                 NaN                    NaN   \n",
       "generation_gwh_2014              0.126717                    NaN   \n",
       "generation_gwh_2015              0.142559                    NaN   \n",
       "generation_gwh_2016              0.183750                    NaN   \n",
       "generation_gwh_2017              0.153249                    NaN   \n",
       "generation_gwh_2018              0.153997                    NaN   \n",
       "\n",
       "                       generation_gwh_2014  generation_gwh_2015  \\\n",
       "capacity_mw                       0.166762             0.168242   \n",
       "latitude                          0.054961             0.042622   \n",
       "longitude                        -0.143964            -0.152247   \n",
       "primary_fuel                      0.051114             0.054971   \n",
       "commissioning_year                0.126717             0.142559   \n",
       "year_of_capacity_data                  NaN                  NaN   \n",
       "generation_gwh_2014               1.000000             0.862912   \n",
       "generation_gwh_2015               0.862912             1.000000   \n",
       "generation_gwh_2016               0.809832             0.903292   \n",
       "generation_gwh_2017               0.743114             0.800593   \n",
       "generation_gwh_2018               0.756429             0.811000   \n",
       "\n",
       "                       generation_gwh_2016  generation_gwh_2017  \\\n",
       "capacity_mw                       0.212064             0.234144   \n",
       "latitude                          0.049816             0.025859   \n",
       "longitude                        -0.109505            -0.129242   \n",
       "primary_fuel                      0.043869             0.048824   \n",
       "commissioning_year                0.183750             0.153249   \n",
       "year_of_capacity_data                  NaN                  NaN   \n",
       "generation_gwh_2014               0.809832             0.743114   \n",
       "generation_gwh_2015               0.903292             0.800593   \n",
       "generation_gwh_2016               1.000000             0.895904   \n",
       "generation_gwh_2017               0.895904             1.000000   \n",
       "generation_gwh_2018               0.896871             0.947965   \n",
       "\n",
       "                       generation_gwh_2018  \n",
       "capacity_mw                       0.239824  \n",
       "latitude                          0.029253  \n",
       "longitude                        -0.129119  \n",
       "primary_fuel                      0.043364  \n",
       "commissioning_year                0.153997  \n",
       "year_of_capacity_data                  NaN  \n",
       "generation_gwh_2014               0.756429  \n",
       "generation_gwh_2015               0.811000  \n",
       "generation_gwh_2016               0.896871  \n",
       "generation_gwh_2017               0.947965  \n",
       "generation_gwh_2018               1.000000  "
      ]
     },
     "execution_count": 90,
     "metadata": {},
     "output_type": "execute_result"
    }
   ],
   "source": [
    "df.corr()"
   ]
  },
  {
   "cell_type": "code",
   "execution_count": 91,
   "id": "36c4462c",
   "metadata": {},
   "outputs": [],
   "source": [
    "df.drop(['year_of_capacity_data'],axis=1,inplace=True)"
   ]
  },
  {
   "cell_type": "code",
   "execution_count": 92,
   "id": "aad4a30f",
   "metadata": {},
   "outputs": [
    {
     "data": {
      "text/html": [
       "<div>\n",
       "<style scoped>\n",
       "    .dataframe tbody tr th:only-of-type {\n",
       "        vertical-align: middle;\n",
       "    }\n",
       "\n",
       "    .dataframe tbody tr th {\n",
       "        vertical-align: top;\n",
       "    }\n",
       "\n",
       "    .dataframe thead th {\n",
       "        text-align: right;\n",
       "    }\n",
       "</style>\n",
       "<table border=\"1\" class=\"dataframe\">\n",
       "  <thead>\n",
       "    <tr style=\"text-align: right;\">\n",
       "      <th></th>\n",
       "      <th>capacity_mw</th>\n",
       "      <th>latitude</th>\n",
       "      <th>longitude</th>\n",
       "      <th>primary_fuel</th>\n",
       "      <th>commissioning_year</th>\n",
       "      <th>generation_gwh_2014</th>\n",
       "      <th>generation_gwh_2015</th>\n",
       "      <th>generation_gwh_2016</th>\n",
       "      <th>generation_gwh_2017</th>\n",
       "      <th>generation_gwh_2018</th>\n",
       "    </tr>\n",
       "  </thead>\n",
       "  <tbody>\n",
       "    <tr>\n",
       "      <th>capacity_mw</th>\n",
       "      <td>1.000000</td>\n",
       "      <td>0.064879</td>\n",
       "      <td>0.266898</td>\n",
       "      <td>-0.470704</td>\n",
       "      <td>0.309302</td>\n",
       "      <td>0.166762</td>\n",
       "      <td>0.168242</td>\n",
       "      <td>0.212064</td>\n",
       "      <td>0.234144</td>\n",
       "      <td>0.239824</td>\n",
       "    </tr>\n",
       "    <tr>\n",
       "      <th>latitude</th>\n",
       "      <td>0.064879</td>\n",
       "      <td>1.000000</td>\n",
       "      <td>0.021934</td>\n",
       "      <td>-0.007685</td>\n",
       "      <td>0.108048</td>\n",
       "      <td>0.054961</td>\n",
       "      <td>0.042622</td>\n",
       "      <td>0.049816</td>\n",
       "      <td>0.025859</td>\n",
       "      <td>0.029253</td>\n",
       "    </tr>\n",
       "    <tr>\n",
       "      <th>longitude</th>\n",
       "      <td>0.266898</td>\n",
       "      <td>0.021934</td>\n",
       "      <td>1.000000</td>\n",
       "      <td>-0.350266</td>\n",
       "      <td>0.138237</td>\n",
       "      <td>-0.143964</td>\n",
       "      <td>-0.152247</td>\n",
       "      <td>-0.109505</td>\n",
       "      <td>-0.129242</td>\n",
       "      <td>-0.129119</td>\n",
       "    </tr>\n",
       "    <tr>\n",
       "      <th>primary_fuel</th>\n",
       "      <td>-0.470704</td>\n",
       "      <td>-0.007685</td>\n",
       "      <td>-0.350266</td>\n",
       "      <td>1.000000</td>\n",
       "      <td>-0.150514</td>\n",
       "      <td>0.051114</td>\n",
       "      <td>0.054971</td>\n",
       "      <td>0.043869</td>\n",
       "      <td>0.048824</td>\n",
       "      <td>0.043364</td>\n",
       "    </tr>\n",
       "    <tr>\n",
       "      <th>commissioning_year</th>\n",
       "      <td>0.309302</td>\n",
       "      <td>0.108048</td>\n",
       "      <td>0.138237</td>\n",
       "      <td>-0.150514</td>\n",
       "      <td>1.000000</td>\n",
       "      <td>0.126717</td>\n",
       "      <td>0.142559</td>\n",
       "      <td>0.183750</td>\n",
       "      <td>0.153249</td>\n",
       "      <td>0.153997</td>\n",
       "    </tr>\n",
       "    <tr>\n",
       "      <th>generation_gwh_2014</th>\n",
       "      <td>0.166762</td>\n",
       "      <td>0.054961</td>\n",
       "      <td>-0.143964</td>\n",
       "      <td>0.051114</td>\n",
       "      <td>0.126717</td>\n",
       "      <td>1.000000</td>\n",
       "      <td>0.862912</td>\n",
       "      <td>0.809832</td>\n",
       "      <td>0.743114</td>\n",
       "      <td>0.756429</td>\n",
       "    </tr>\n",
       "    <tr>\n",
       "      <th>generation_gwh_2015</th>\n",
       "      <td>0.168242</td>\n",
       "      <td>0.042622</td>\n",
       "      <td>-0.152247</td>\n",
       "      <td>0.054971</td>\n",
       "      <td>0.142559</td>\n",
       "      <td>0.862912</td>\n",
       "      <td>1.000000</td>\n",
       "      <td>0.903292</td>\n",
       "      <td>0.800593</td>\n",
       "      <td>0.811000</td>\n",
       "    </tr>\n",
       "    <tr>\n",
       "      <th>generation_gwh_2016</th>\n",
       "      <td>0.212064</td>\n",
       "      <td>0.049816</td>\n",
       "      <td>-0.109505</td>\n",
       "      <td>0.043869</td>\n",
       "      <td>0.183750</td>\n",
       "      <td>0.809832</td>\n",
       "      <td>0.903292</td>\n",
       "      <td>1.000000</td>\n",
       "      <td>0.895904</td>\n",
       "      <td>0.896871</td>\n",
       "    </tr>\n",
       "    <tr>\n",
       "      <th>generation_gwh_2017</th>\n",
       "      <td>0.234144</td>\n",
       "      <td>0.025859</td>\n",
       "      <td>-0.129242</td>\n",
       "      <td>0.048824</td>\n",
       "      <td>0.153249</td>\n",
       "      <td>0.743114</td>\n",
       "      <td>0.800593</td>\n",
       "      <td>0.895904</td>\n",
       "      <td>1.000000</td>\n",
       "      <td>0.947965</td>\n",
       "    </tr>\n",
       "    <tr>\n",
       "      <th>generation_gwh_2018</th>\n",
       "      <td>0.239824</td>\n",
       "      <td>0.029253</td>\n",
       "      <td>-0.129119</td>\n",
       "      <td>0.043364</td>\n",
       "      <td>0.153997</td>\n",
       "      <td>0.756429</td>\n",
       "      <td>0.811000</td>\n",
       "      <td>0.896871</td>\n",
       "      <td>0.947965</td>\n",
       "      <td>1.000000</td>\n",
       "    </tr>\n",
       "  </tbody>\n",
       "</table>\n",
       "</div>"
      ],
      "text/plain": [
       "                     capacity_mw  latitude  longitude  primary_fuel  \\\n",
       "capacity_mw             1.000000  0.064879   0.266898     -0.470704   \n",
       "latitude                0.064879  1.000000   0.021934     -0.007685   \n",
       "longitude               0.266898  0.021934   1.000000     -0.350266   \n",
       "primary_fuel           -0.470704 -0.007685  -0.350266      1.000000   \n",
       "commissioning_year      0.309302  0.108048   0.138237     -0.150514   \n",
       "generation_gwh_2014     0.166762  0.054961  -0.143964      0.051114   \n",
       "generation_gwh_2015     0.168242  0.042622  -0.152247      0.054971   \n",
       "generation_gwh_2016     0.212064  0.049816  -0.109505      0.043869   \n",
       "generation_gwh_2017     0.234144  0.025859  -0.129242      0.048824   \n",
       "generation_gwh_2018     0.239824  0.029253  -0.129119      0.043364   \n",
       "\n",
       "                     commissioning_year  generation_gwh_2014  \\\n",
       "capacity_mw                    0.309302             0.166762   \n",
       "latitude                       0.108048             0.054961   \n",
       "longitude                      0.138237            -0.143964   \n",
       "primary_fuel                  -0.150514             0.051114   \n",
       "commissioning_year             1.000000             0.126717   \n",
       "generation_gwh_2014            0.126717             1.000000   \n",
       "generation_gwh_2015            0.142559             0.862912   \n",
       "generation_gwh_2016            0.183750             0.809832   \n",
       "generation_gwh_2017            0.153249             0.743114   \n",
       "generation_gwh_2018            0.153997             0.756429   \n",
       "\n",
       "                     generation_gwh_2015  generation_gwh_2016  \\\n",
       "capacity_mw                     0.168242             0.212064   \n",
       "latitude                        0.042622             0.049816   \n",
       "longitude                      -0.152247            -0.109505   \n",
       "primary_fuel                    0.054971             0.043869   \n",
       "commissioning_year              0.142559             0.183750   \n",
       "generation_gwh_2014             0.862912             0.809832   \n",
       "generation_gwh_2015             1.000000             0.903292   \n",
       "generation_gwh_2016             0.903292             1.000000   \n",
       "generation_gwh_2017             0.800593             0.895904   \n",
       "generation_gwh_2018             0.811000             0.896871   \n",
       "\n",
       "                     generation_gwh_2017  generation_gwh_2018  \n",
       "capacity_mw                     0.234144             0.239824  \n",
       "latitude                        0.025859             0.029253  \n",
       "longitude                      -0.129242            -0.129119  \n",
       "primary_fuel                    0.048824             0.043364  \n",
       "commissioning_year              0.153249             0.153997  \n",
       "generation_gwh_2014             0.743114             0.756429  \n",
       "generation_gwh_2015             0.800593             0.811000  \n",
       "generation_gwh_2016             0.895904             0.896871  \n",
       "generation_gwh_2017             1.000000             0.947965  \n",
       "generation_gwh_2018             0.947965             1.000000  "
      ]
     },
     "execution_count": 92,
     "metadata": {},
     "output_type": "execute_result"
    }
   ],
   "source": [
    "df.corr()"
   ]
  },
  {
   "cell_type": "code",
   "execution_count": 93,
   "id": "c4441038",
   "metadata": {},
   "outputs": [
    {
     "data": {
      "text/plain": [
       "<AxesSubplot:>"
      ]
     },
     "execution_count": 93,
     "metadata": {},
     "output_type": "execute_result"
    },
    {
     "data": {
      "image/png": "[encoded data removed]",
      "text/plain": [
       "<Figure size 432x288 with 2 Axes>"
      ]
     },
     "metadata": {
      "needs_background": "light"
     },
     "output_type": "display_data"
    }
   ],
   "source": [
    "sns.heatmap(df.corr(),annot=True)"
   ]
  },
  {
   "cell_type": "code",
   "execution_count": 94,
   "id": "9db43b65",
   "metadata": {},
   "outputs": [],
   "source": [
    "df = df.drop(['generation_gwh_2017'],axis=1)"
   ]
  },
  {
   "cell_type": "markdown",
   "id": "f67b2032",
   "metadata": {},
   "source": [
    "# features selection"
   ]
  },
  {
   "cell_type": "code",
   "execution_count": 95,
   "id": "49dfdab9",
   "metadata": {},
   "outputs": [],
   "source": [
    "x = df.drop(['primary_fuel'],axis=1)\n",
    "y = df['primary_fuel']"
   ]
  },
  {
   "cell_type": "code",
   "execution_count": 96,
   "id": "223236d9",
   "metadata": {},
   "outputs": [],
   "source": [
    "from sklearn.preprocessing import StandardScaler"
   ]
  },
  {
   "cell_type": "code",
   "execution_count": 97,
   "id": "1d001061",
   "metadata": {},
   "outputs": [],
   "source": [
    "scaler = StandardScaler()"
   ]
  },
  {
   "cell_type": "code",
   "execution_count": 98,
   "id": "89346c4e",
   "metadata": {},
   "outputs": [],
   "source": [
    "x_scaled = scaler.fit_transform(x)"
   ]
  },
  {
   "cell_type": "code",
   "execution_count": 99,
   "id": "976cd03d",
   "metadata": {},
   "outputs": [
    {
     "data": {
      "text/plain": [
       "8"
      ]
     },
     "execution_count": 99,
     "metadata": {},
     "output_type": "execute_result"
    }
   ],
   "source": [
    "x_scaled.shape[1]"
   ]
  },
  {
   "cell_type": "code",
   "execution_count": 100,
   "id": "5a9683f1",
   "metadata": {},
   "outputs": [],
   "source": [
    "from statsmodels.stats.outliers_influence import variance_inflation_factor"
   ]
  },
  {
   "cell_type": "code",
   "execution_count": 101,
   "id": "ebe38727",
   "metadata": {},
   "outputs": [],
   "source": [
    "vif  = pd. DataFrame()"
   ]
  },
  {
   "cell_type": "code",
   "execution_count": 102,
   "id": "a42476a0",
   "metadata": {},
   "outputs": [],
   "source": [
    "vif['vif'] = [variance_inflation_factor(x_scaled,i)for i in range(x_scaled.shape[1])]"
   ]
  },
  {
   "cell_type": "code",
   "execution_count": 103,
   "id": "3620b90b",
   "metadata": {},
   "outputs": [],
   "source": [
    "vif[\"features\"] = x.columns"
   ]
  },
  {
   "cell_type": "code",
   "execution_count": 104,
   "id": "fe35bddb",
   "metadata": {},
   "outputs": [
    {
     "data": {
      "text/html": [
       "<div>\n",
       "<style scoped>\n",
       "    .dataframe tbody tr th:only-of-type {\n",
       "        vertical-align: middle;\n",
       "    }\n",
       "\n",
       "    .dataframe tbody tr th {\n",
       "        vertical-align: top;\n",
       "    }\n",
       "\n",
       "    .dataframe thead th {\n",
       "        text-align: right;\n",
       "    }\n",
       "</style>\n",
       "<table border=\"1\" class=\"dataframe\">\n",
       "  <thead>\n",
       "    <tr style=\"text-align: right;\">\n",
       "      <th></th>\n",
       "      <th>vif</th>\n",
       "      <th>features</th>\n",
       "    </tr>\n",
       "  </thead>\n",
       "  <tbody>\n",
       "    <tr>\n",
       "      <th>0</th>\n",
       "      <td>1.254871</td>\n",
       "      <td>capacity_mw</td>\n",
       "    </tr>\n",
       "    <tr>\n",
       "      <th>1</th>\n",
       "      <td>1.016441</td>\n",
       "      <td>latitude</td>\n",
       "    </tr>\n",
       "    <tr>\n",
       "      <th>2</th>\n",
       "      <td>1.147030</td>\n",
       "      <td>longitude</td>\n",
       "    </tr>\n",
       "    <tr>\n",
       "      <th>3</th>\n",
       "      <td>1.145001</td>\n",
       "      <td>commissioning_year</td>\n",
       "    </tr>\n",
       "    <tr>\n",
       "      <th>4</th>\n",
       "      <td>4.076520</td>\n",
       "      <td>generation_gwh_2014</td>\n",
       "    </tr>\n",
       "    <tr>\n",
       "      <th>5</th>\n",
       "      <td>7.578581</td>\n",
       "      <td>generation_gwh_2015</td>\n",
       "    </tr>\n",
       "    <tr>\n",
       "      <th>6</th>\n",
       "      <td>9.710144</td>\n",
       "      <td>generation_gwh_2016</td>\n",
       "    </tr>\n",
       "    <tr>\n",
       "      <th>7</th>\n",
       "      <td>5.352845</td>\n",
       "      <td>generation_gwh_2018</td>\n",
       "    </tr>\n",
       "  </tbody>\n",
       "</table>\n",
       "</div>"
      ],
      "text/plain": [
       "        vif             features\n",
       "0  1.254871          capacity_mw\n",
       "1  1.016441             latitude\n",
       "2  1.147030            longitude\n",
       "3  1.145001   commissioning_year\n",
       "4  4.076520  generation_gwh_2014\n",
       "5  7.578581  generation_gwh_2015\n",
       "6  9.710144  generation_gwh_2016\n",
       "7  5.352845  generation_gwh_2018"
      ]
     },
     "execution_count": 104,
     "metadata": {},
     "output_type": "execute_result"
    }
   ],
   "source": [
    "vif"
   ]
  },
  {
   "cell_type": "code",
   "execution_count": 105,
   "id": "8684dff6",
   "metadata": {},
   "outputs": [],
   "source": [
    "from sklearn.feature_selection import SelectKBest,f_classif"
   ]
  },
  {
   "cell_type": "code",
   "execution_count": 106,
   "id": "81ec87bf",
   "metadata": {},
   "outputs": [],
   "source": [
    "best_features = SelectKBest(score_func=f_classif,k=8)\n",
    "fit = best_features.fit(x,y)\n",
    "df_scores = pd.DataFrame(fit.scores_)\n",
    "df_columns = pd.DataFrame(df.columns)\n"
   ]
  },
  {
   "cell_type": "code",
   "execution_count": 107,
   "id": "79b524e2",
   "metadata": {},
   "outputs": [],
   "source": [
    "feature_scores = pd.concat([df_scores,df_columns],axis=1)\n",
    "feature_scores.columns = ['Score','Feature_Name']#put the column nme\n"
   ]
  },
  {
   "cell_type": "code",
   "execution_count": 108,
   "id": "b1f958ad",
   "metadata": {},
   "outputs": [
    {
     "name": "stdout",
     "output_type": "stream",
     "text": [
      "       Score         Feature_Name\n",
      "0  87.783628          capacity_mw\n",
      "7  50.061775  generation_gwh_2016\n",
      "6  48.553031  generation_gwh_2015\n",
      "4  43.013976   commissioning_year\n",
      "5  41.299548  generation_gwh_2014\n",
      "2  28.451268            longitude\n",
      "3  25.131687         primary_fuel\n",
      "1  14.773740             latitude\n"
     ]
    }
   ],
   "source": [
    "print(feature_scores.nlargest(8,'Score'))"
   ]
  },
  {
   "cell_type": "markdown",
   "id": "8ce22fed",
   "metadata": {},
   "source": [
    "# model_selection"
   ]
  },
  {
   "cell_type": "code",
   "execution_count": 109,
   "id": "9238b256",
   "metadata": {},
   "outputs": [],
   "source": [
    "from sklearn.model_selection import train_test_split\n",
    "from sklearn.metrics import confusion_matrix,classification_report\n",
    "from sklearn.neighbors import KNeighborsClassifier"
   ]
  },
  {
   "cell_type": "code",
   "execution_count": 110,
   "id": "9ec8894e",
   "metadata": {},
   "outputs": [],
   "source": [
    "x_train,x_test,y_train,y_test = train_test_split(x_scaled,y,test_size=0.25,random_state=41)\n",
    "\n",
    "knn = KNeighborsClassifier()\n"
   ]
  },
  {
   "cell_type": "code",
   "execution_count": 111,
   "id": "c268e7d3",
   "metadata": {},
   "outputs": [
    {
     "data": {
      "text/plain": [
       "KNeighborsClassifier()"
      ]
     },
     "execution_count": 111,
     "metadata": {},
     "output_type": "execute_result"
    }
   ],
   "source": [
    "knn.fit(x_train,y_train)"
   ]
  },
  {
   "cell_type": "code",
   "execution_count": 112,
   "id": "b78de69d",
   "metadata": {},
   "outputs": [],
   "source": [
    "y_pred = knn.predict(x_test)"
   ]
  },
  {
   "cell_type": "code",
   "execution_count": 113,
   "id": "2272c1a5",
   "metadata": {},
   "outputs": [],
   "source": [
    "confusion = confusion_matrix(y_test,y_pred)"
   ]
  },
  {
   "cell_type": "code",
   "execution_count": 114,
   "id": "631d6334",
   "metadata": {},
   "outputs": [
    {
     "data": {
      "text/plain": [
       "array([[ 7,  2,  0,  0,  0,  0,  0,  2],\n",
       "       [ 1, 47,  1,  2,  0,  2,  0,  1],\n",
       "       [ 0,  1,  7,  4,  0,  2,  0,  0],\n",
       "       [ 2,  3,  6, 39,  0,  0,  2,  6],\n",
       "       [ 0,  4,  0,  1,  0,  0,  0,  0],\n",
       "       [ 1,  0,  1,  0,  0,  1,  0,  0],\n",
       "       [ 6,  5,  0,  1,  0,  0, 28,  3],\n",
       "       [ 1,  3,  0,  0,  0,  1,  1, 24]], dtype=int64)"
      ]
     },
     "execution_count": 114,
     "metadata": {},
     "output_type": "execute_result"
    }
   ],
   "source": [
    "confusion"
   ]
  },
  {
   "cell_type": "code",
   "execution_count": 115,
   "id": "23c0b5d2",
   "metadata": {},
   "outputs": [
    {
     "name": "stdout",
     "output_type": "stream",
     "text": [
      "              precision    recall  f1-score   support\n",
      "\n",
      "         0.0       0.39      0.64      0.48        11\n",
      "         1.0       0.72      0.87      0.79        54\n",
      "         2.0       0.47      0.50      0.48        14\n",
      "         3.0       0.83      0.67      0.74        58\n",
      "         4.0       0.00      0.00      0.00         5\n",
      "         5.0       0.17      0.33      0.22         3\n",
      "         6.0       0.90      0.65      0.76        43\n",
      "         7.0       0.67      0.80      0.73        30\n",
      "\n",
      "    accuracy                           0.70       218\n",
      "   macro avg       0.52      0.56      0.53       218\n",
      "weighted avg       0.72      0.70      0.70       218\n",
      "\n"
     ]
    }
   ],
   "source": [
    "print(classification_report(y_test,y_pred,digits=2))"
   ]
  },
  {
   "cell_type": "markdown",
   "id": "e04c03ae",
   "metadata": {},
   "source": [
    "# cross_validation"
   ]
  },
  {
   "cell_type": "code",
   "execution_count": 116,
   "id": "2ba91b4a",
   "metadata": {},
   "outputs": [
    {
     "data": {
      "text/plain": [
       "KFold(n_splits=3, random_state=None, shuffle=True)"
      ]
     },
     "execution_count": 116,
     "metadata": {},
     "output_type": "execute_result"
    }
   ],
   "source": [
    "from sklearn.model_selection import KFold ,cross_val_score\n",
    "\n",
    "k_f = KFold(n_splits=3,shuffle=True)\n",
    "\n",
    "k_f"
   ]
  },
  {
   "cell_type": "code",
   "execution_count": 117,
   "id": "0272222b",
   "metadata": {},
   "outputs": [
    {
     "name": "stdout",
     "output_type": "stream",
     "text": [
      "train =  [1 2 4 5 6 7] test =  [0 3 8 9]\n",
      "train =  [0 1 2 3 7 8 9] test =  [4 5 6]\n",
      "train =  [0 3 4 5 6 8 9] test =  [1 2 7]\n"
     ]
    }
   ],
   "source": [
    "for train,test in k_f.split([1,2,3,4,5,6,7,8,9,10]):\n",
    "   print(\"train = \",train,\"test = \",test)"
   ]
  },
  {
   "cell_type": "code",
   "execution_count": 118,
   "id": "2183aa2e",
   "metadata": {},
   "outputs": [
    {
     "data": {
      "text/plain": [
       "array([0.73863636, 0.70114943, 0.72413793, 0.71264368, 0.73563218,\n",
       "       0.65517241, 0.72413793, 0.70114943, 0.68965517, 0.70114943])"
      ]
     },
     "execution_count": 118,
     "metadata": {},
     "output_type": "execute_result"
    }
   ],
   "source": [
    "cross_val_score(knn,x_scaled,y,cv=10)"
   ]
  },
  {
   "cell_type": "code",
   "execution_count": 119,
   "id": "f4aea695",
   "metadata": {},
   "outputs": [
    {
     "data": {
      "text/plain": [
       "0.7106535303776684"
      ]
     },
     "execution_count": 119,
     "metadata": {},
     "output_type": "execute_result"
    }
   ],
   "source": [
    "cross_val_score(KNeighborsClassifier(),x_scaled,y,cv=5).mean()"
   ]
  },
  {
   "cell_type": "markdown",
   "id": "39b705b3",
   "metadata": {},
   "source": [
    "# Hyperparameter tuning\n",
    "lets use gridserchcv for the parameter to imporve the accuracy"
   ]
  },
  {
   "cell_type": "code",
   "execution_count": 120,
   "id": "00f1f554",
   "metadata": {},
   "outputs": [],
   "source": [
    "from sklearn.model_selection import GridSearchCV"
   ]
  },
  {
   "cell_type": "code",
   "execution_count": 121,
   "id": "3825485a",
   "metadata": {},
   "outputs": [],
   "source": [
    "param_grid = ({'algorithm':['kd_tree','brute'],\n",
    "              'leaf_size':[3,5,6,7,8],\n",
    "              'n_neighbors':[3,5,7,9,11]})"
   ]
  },
  {
   "cell_type": "code",
   "execution_count": 122,
   "id": "63274c46",
   "metadata": {},
   "outputs": [],
   "source": [
    "grid_search = GridSearchCV(estimator=knn,param_grid=param_grid)"
   ]
  },
  {
   "cell_type": "code",
   "execution_count": 123,
   "id": "6924f581",
   "metadata": {},
   "outputs": [
    {
     "data": {
      "text/plain": [
       "GridSearchCV(estimator=KNeighborsClassifier(),\n",
       "             param_grid={'algorithm': ['kd_tree', 'brute'],\n",
       "                         'leaf_size': [3, 5, 6, 7, 8],\n",
       "                         'n_neighbors': [3, 5, 7, 9, 11]})"
      ]
     },
     "execution_count": 123,
     "metadata": {},
     "output_type": "execute_result"
    }
   ],
   "source": [
    "grid_search.fit(x_train,y_train)"
   ]
  },
  {
   "cell_type": "code",
   "execution_count": 124,
   "id": "1617976b",
   "metadata": {},
   "outputs": [
    {
     "data": {
      "text/plain": [
       "{'algorithm': 'kd_tree', 'leaf_size': 3, 'n_neighbors': 3}"
      ]
     },
     "execution_count": 124,
     "metadata": {},
     "output_type": "execute_result"
    }
   ],
   "source": [
    "grid_search.best_params_"
   ]
  },
  {
   "cell_type": "code",
   "execution_count": 125,
   "id": "b428d0e1",
   "metadata": {},
   "outputs": [],
   "source": [
    "knn = KNeighborsClassifier(algorithm = 'kd_tree',leaf_size=6,n_neighbors=5)"
   ]
  },
  {
   "cell_type": "code",
   "execution_count": 126,
   "id": "b40a73e4",
   "metadata": {},
   "outputs": [
    {
     "data": {
      "text/plain": [
       "KNeighborsClassifier(algorithm='kd_tree', leaf_size=6)"
      ]
     },
     "execution_count": 126,
     "metadata": {},
     "output_type": "execute_result"
    }
   ],
   "source": [
    "knn.fit(x_train,y_train)"
   ]
  },
  {
   "cell_type": "code",
   "execution_count": 127,
   "id": "56b12931",
   "metadata": {},
   "outputs": [],
   "source": [
    "y_pred = knn.predict(x_test)"
   ]
  },
  {
   "cell_type": "code",
   "execution_count": 128,
   "id": "cd47c793",
   "metadata": {},
   "outputs": [],
   "source": [
    "cfm = confusion_matrix(y_test,y_pred)"
   ]
  },
  {
   "cell_type": "code",
   "execution_count": 129,
   "id": "5b953cca",
   "metadata": {},
   "outputs": [
    {
     "data": {
      "text/plain": [
       "array([[ 7,  2,  0,  0,  0,  0,  0,  2],\n",
       "       [ 1, 47,  1,  2,  0,  2,  0,  1],\n",
       "       [ 0,  1,  7,  4,  0,  2,  0,  0],\n",
       "       [ 2,  3,  6, 39,  0,  0,  2,  6],\n",
       "       [ 0,  4,  0,  1,  0,  0,  0,  0],\n",
       "       [ 1,  0,  1,  0,  0,  1,  0,  0],\n",
       "       [ 6,  5,  0,  1,  0,  0, 28,  3],\n",
       "       [ 1,  3,  0,  0,  0,  1,  1, 24]], dtype=int64)"
      ]
     },
     "execution_count": 129,
     "metadata": {},
     "output_type": "execute_result"
    }
   ],
   "source": [
    "cfm"
   ]
  },
  {
   "cell_type": "code",
   "execution_count": 130,
   "id": "2b33cc33",
   "metadata": {},
   "outputs": [
    {
     "name": "stdout",
     "output_type": "stream",
     "text": [
      "              precision    recall  f1-score   support\n",
      "\n",
      "         0.0       0.39      0.64      0.48        11\n",
      "         1.0       0.72      0.87      0.79        54\n",
      "         2.0       0.47      0.50      0.48        14\n",
      "         3.0       0.83      0.67      0.74        58\n",
      "         4.0       0.00      0.00      0.00         5\n",
      "         5.0       0.17      0.33      0.22         3\n",
      "         6.0       0.90      0.65      0.76        43\n",
      "         7.0       0.67      0.80      0.73        30\n",
      "\n",
      "    accuracy                           0.70       218\n",
      "   macro avg       0.52      0.56      0.53       218\n",
      "weighted avg       0.72      0.70      0.70       218\n",
      "\n"
     ]
    }
   ],
   "source": [
    "print(classification_report(y_test,y_pred,digits=2))"
   ]
  },
  {
   "cell_type": "markdown",
   "id": "fed1c217",
   "metadata": {},
   "source": [
    "# logistic model"
   ]
  },
  {
   "cell_type": "code",
   "execution_count": 131,
   "id": "48a85237",
   "metadata": {},
   "outputs": [],
   "source": [
    "from sklearn.linear_model import LogisticRegression\n",
    "from sklearn.metrics import accuracy_score,confusion_matrix,classification_report"
   ]
  },
  {
   "cell_type": "code",
   "execution_count": 132,
   "id": "e43a8bb8",
   "metadata": {},
   "outputs": [],
   "source": [
    "lm = LogisticRegression()\n",
    "lm.fit(x_train,y_train)\n",
    "pred = lm.predict(x_test)\n",
    "accuracy_sc = accuracy_score(y_test,pred)*100\n",
    "con_mat = confusion_matrix(y_test,pred)\n",
    "class_rip = classification_report(y_test,pred)"
   ]
  },
  {
   "cell_type": "code",
   "execution_count": 133,
   "id": "77e85abf",
   "metadata": {},
   "outputs": [
    {
     "data": {
      "text/plain": [
       "0.5727411944869831"
      ]
     },
     "execution_count": 133,
     "metadata": {},
     "output_type": "execute_result"
    }
   ],
   "source": [
    "lm.score(x_train,y_train)"
   ]
  },
  {
   "cell_type": "code",
   "execution_count": 134,
   "id": "23774dcf",
   "metadata": {},
   "outputs": [
    {
     "data": {
      "text/plain": [
       "0.555045871559633"
      ]
     },
     "execution_count": 134,
     "metadata": {},
     "output_type": "execute_result"
    }
   ],
   "source": [
    "lm.score(x_test,y_test)"
   ]
  },
  {
   "cell_type": "markdown",
   "id": "c7ca3a67",
   "metadata": {},
   "source": [
    "# desicion tree model"
   ]
  },
  {
   "cell_type": "code",
   "execution_count": 135,
   "id": "92506ff5",
   "metadata": {},
   "outputs": [
    {
     "name": "stdout",
     "output_type": "stream",
     "text": [
      "72.47706422018348\n",
      "[[ 6  3  0  0  0  0  0  2]\n",
      " [ 1 38  3  6  0  0  1  5]\n",
      " [ 0  1  8  3  0  2  0  0]\n",
      " [ 0  7  1 48  0  1  1  0]\n",
      " [ 0  4  1  0  0  0  0  0]\n",
      " [ 0  0  1  1  0  1  0  0]\n",
      " [ 1  1  0  0  1  0 31  9]\n",
      " [ 0  0  0  0  2  0  2 26]]\n",
      "              precision    recall  f1-score   support\n",
      "\n",
      "         0.0       0.75      0.55      0.63        11\n",
      "         1.0       0.70      0.70      0.70        54\n",
      "         2.0       0.57      0.57      0.57        14\n",
      "         3.0       0.83      0.83      0.83        58\n",
      "         4.0       0.00      0.00      0.00         5\n",
      "         5.0       0.25      0.33      0.29         3\n",
      "         6.0       0.89      0.72      0.79        43\n",
      "         7.0       0.62      0.87      0.72        30\n",
      "\n",
      "    accuracy                           0.72       218\n",
      "   macro avg       0.58      0.57      0.57       218\n",
      "weighted avg       0.73      0.72      0.72       218\n",
      "\n"
     ]
    }
   ],
   "source": [
    "from sklearn.tree import DecisionTreeClassifier\n",
    "\n",
    "dt = DecisionTreeClassifier()\n",
    "dt.fit(x_train,y_train)\n",
    "pred = dt.predict(x_test)\n",
    "print(accuracy_score(y_test,pred)*100)\n",
    "print(confusion_matrix(y_test,pred))\n",
    "print(classification_report(y_test,pred))"
   ]
  },
  {
   "cell_type": "markdown",
   "id": "a023d54c",
   "metadata": {},
   "source": [
    "# random forest model"
   ]
  },
  {
   "cell_type": "code",
   "execution_count": 136,
   "id": "b0557af3",
   "metadata": {},
   "outputs": [
    {
     "name": "stdout",
     "output_type": "stream",
     "text": [
      "84.40366972477065\n",
      "[[10  1  0  0  0  0  0  0]\n",
      " [ 0 50  0  3  0  1  0  0]\n",
      " [ 0  1  6  4  0  3  0  0]\n",
      " [ 0  3  1 53  0  0  0  1]\n",
      " [ 0  5  0  0  0  0  0  0]\n",
      " [ 0  0  0  1  0  2  0  0]\n",
      " [ 1  2  0  0  0  0 34  6]\n",
      " [ 0  0  0  0  0  0  1 29]]\n",
      "              precision    recall  f1-score   support\n",
      "\n",
      "         0.0       0.91      0.91      0.91        11\n",
      "         1.0       0.81      0.93      0.86        54\n",
      "         2.0       0.86      0.43      0.57        14\n",
      "         3.0       0.87      0.91      0.89        58\n",
      "         4.0       0.00      0.00      0.00         5\n",
      "         5.0       0.33      0.67      0.44         3\n",
      "         6.0       0.97      0.79      0.87        43\n",
      "         7.0       0.81      0.97      0.88        30\n",
      "\n",
      "    accuracy                           0.84       218\n",
      "   macro avg       0.69      0.70      0.68       218\n",
      "weighted avg       0.84      0.84      0.83       218\n",
      "\n"
     ]
    }
   ],
   "source": [
    "from sklearn.ensemble import RandomForestClassifier\n",
    "rr = RandomForestClassifier()\n",
    "rr.fit(x_train,y_train)\n",
    "pred = rr.predict(x_test)\n",
    "print(accuracy_score(y_test,pred)*100)\n",
    "print(confusion_matrix(y_test,pred))\n",
    "print(classification_report(y_test,pred))"
   ]
  },
  {
   "cell_type": "code",
   "execution_count": 137,
   "id": "906f2657",
   "metadata": {},
   "outputs": [
    {
     "name": "stdout",
     "output_type": "stream",
     "text": [
      "58.256880733944946\n",
      "[[ 0  1  0  0  0  0  0 10]\n",
      " [ 0 41  1  3  0  0  4  5]\n",
      " [ 0  2  1  9  0  0  0  2]\n",
      " [ 0  8  1 39  0  0  2  8]\n",
      " [ 0  4  0  1  0  0  0  0]\n",
      " [ 0  0  0  1  0  0  0  2]\n",
      " [ 0  9  0  0  0  0 23 11]\n",
      " [ 0  3  0  0  0  0  4 23]]\n",
      "              precision    recall  f1-score   support\n",
      "\n",
      "         0.0       0.00      0.00      0.00        11\n",
      "         1.0       0.60      0.76      0.67        54\n",
      "         2.0       0.33      0.07      0.12        14\n",
      "         3.0       0.74      0.67      0.70        58\n",
      "         4.0       0.00      0.00      0.00         5\n",
      "         5.0       0.00      0.00      0.00         3\n",
      "         6.0       0.70      0.53      0.61        43\n",
      "         7.0       0.38      0.77      0.51        30\n",
      "\n",
      "    accuracy                           0.58       218\n",
      "   macro avg       0.34      0.35      0.33       218\n",
      "weighted avg       0.56      0.58      0.55       218\n",
      "\n"
     ]
    }
   ],
   "source": [
    "from sklearn.svm import SVC\n",
    "svc = SVC()\n",
    "svc.fit(x_train,y_train)\n",
    "pred = svc.predict(x_test)\n",
    "print(accuracy_score(y_test,pred)*100)\n",
    "print(confusion_matrix(y_test,pred))\n",
    "print(classification_report(y_test,pred))\n"
   ]
  },
  {
   "cell_type": "markdown",
   "id": "3c2a7eae",
   "metadata": {},
   "source": [
    "# hyper tunning random forest"
   ]
  },
  {
   "cell_type": "code",
   "execution_count": 138,
   "id": "ad036007",
   "metadata": {},
   "outputs": [],
   "source": [
    "from sklearn.model_selection import GridSearchCV\n",
    "from sklearn.ensemble import RandomForestClassifier"
   ]
  },
  {
   "cell_type": "code",
   "execution_count": 139,
   "id": "a071f3e0",
   "metadata": {},
   "outputs": [],
   "source": [
    "clf = RandomForestClassifier()"
   ]
  },
  {
   "cell_type": "code",
   "execution_count": 140,
   "id": "06585b8f",
   "metadata": {},
   "outputs": [],
   "source": [
    "params= {'n_estimators':[13,15],\n",
    "        'criterion':['entropy','gini'],\n",
    "        'max_depth':[10,15],\n",
    "        'min_samples_split':[10,11],\n",
    "        'min_samples_leaf':[5,6]}\n",
    "         "
   ]
  },
  {
   "cell_type": "code",
   "execution_count": 141,
   "id": "31fe969c",
   "metadata": {},
   "outputs": [
    {
     "name": "stdout",
     "output_type": "stream",
     "text": [
      "best_param {'criterion': 'entropy', 'max_depth': 10, 'min_samples_leaf': 5, 'min_samples_split': 10, 'n_estimators': 13}\n"
     ]
    }
   ],
   "source": [
    "grid = GridSearchCV(clf,param_grid=params)\n",
    "grid.fit(x_train,y_train)\n",
    "print('best_param',grid.best_params_)"
   ]
  },
  {
   "cell_type": "code",
   "execution_count": 142,
   "id": "6d6abfa4",
   "metadata": {},
   "outputs": [],
   "source": [
    "clf = grid.best_estimator_"
   ]
  },
  {
   "cell_type": "code",
   "execution_count": 143,
   "id": "045acf48",
   "metadata": {},
   "outputs": [
    {
     "data": {
      "text/plain": [
       "RandomForestClassifier(criterion='entropy', max_depth=10, min_samples_leaf=5,\n",
       "                       min_samples_split=10, n_estimators=13)"
      ]
     },
     "execution_count": 143,
     "metadata": {},
     "output_type": "execute_result"
    }
   ],
   "source": [
    "clf.fit(x_train,y_train)"
   ]
  },
  {
   "cell_type": "code",
   "execution_count": 144,
   "id": "57430744",
   "metadata": {},
   "outputs": [],
   "source": [
    "y_pred = clf.predict(x_test)\n",
    "\n",
    "rf_con_mat = confusion_matrix(y_test,y_pred)\n"
   ]
  },
  {
   "cell_type": "code",
   "execution_count": 145,
   "id": "c3c58162",
   "metadata": {},
   "outputs": [
    {
     "data": {
      "text/plain": [
       "array([[ 9,  1,  0,  0,  0,  0,  0,  1],\n",
       "       [ 0, 49,  0,  3,  0,  0,  1,  1],\n",
       "       [ 0,  3,  5,  3,  0,  2,  1,  0],\n",
       "       [ 0,  7,  0, 51,  0,  0,  0,  0],\n",
       "       [ 0,  4,  0,  0,  0,  1,  0,  0],\n",
       "       [ 0,  0,  0,  1,  0,  1,  1,  0],\n",
       "       [ 0,  5,  0,  0,  0,  0, 29,  9],\n",
       "       [ 1,  1,  0,  0,  0,  0,  1, 27]], dtype=int64)"
      ]
     },
     "execution_count": 145,
     "metadata": {},
     "output_type": "execute_result"
    }
   ],
   "source": [
    "rf_con_mat"
   ]
  },
  {
   "cell_type": "code",
   "execution_count": 146,
   "id": "7e10cc83",
   "metadata": {},
   "outputs": [
    {
     "data": {
      "text/plain": [
       "0.7844036697247706"
      ]
     },
     "execution_count": 146,
     "metadata": {},
     "output_type": "execute_result"
    }
   ],
   "source": [
    "accuracy_score(y_test,y_pred)"
   ]
  },
  {
   "cell_type": "code",
   "execution_count": 147,
   "id": "74350395",
   "metadata": {},
   "outputs": [
    {
     "name": "stdout",
     "output_type": "stream",
     "text": [
      "              precision    recall  f1-score   support\n",
      "\n",
      "         0.0       0.90      0.82      0.86        11\n",
      "         1.0       0.70      0.91      0.79        54\n",
      "         2.0       1.00      0.36      0.53        14\n",
      "         3.0       0.88      0.88      0.88        58\n",
      "         4.0       0.00      0.00      0.00         5\n",
      "         5.0       0.25      0.33      0.29         3\n",
      "         6.0       0.88      0.67      0.76        43\n",
      "         7.0       0.71      0.90      0.79        30\n",
      "\n",
      "    accuracy                           0.78       218\n",
      "   macro avg       0.66      0.61      0.61       218\n",
      "weighted avg       0.79      0.78      0.77       218\n",
      "\n"
     ]
    }
   ],
   "source": [
    "report = classification_report(y_test,y_pred)\n",
    "\n",
    "\n",
    "print(report)"
   ]
  },
  {
   "cell_type": "code",
   "execution_count": 148,
   "id": "fbb9efbd",
   "metadata": {},
   "outputs": [],
   "source": [
    "from sklearn.linear_model import LogisticRegression\n",
    "from sklearn.neighbors import KNeighborsClassifier\n",
    "from sklearn.tree import DecisionTreeClassifier\n",
    "from sklearn.ensemble import RandomForestClassifier\n",
    "from sklearn.metrics import roc_curve,roc_auc_score\n",
    "from sklearn.metrics import plot_roc_curve"
   ]
  },
  {
   "cell_type": "code",
   "execution_count": 149,
   "id": "1850aa39",
   "metadata": {},
   "outputs": [],
   "source": [
    "lr = LogisticRegression()\n",
    "dt = DecisionTreeClassifier()\n",
    "rf = RandomForestClassifier()\n",
    "kn = KNeighborsClassifier()"
   ]
  },
  {
   "cell_type": "code",
   "execution_count": 150,
   "id": "4f012976",
   "metadata": {},
   "outputs": [
    {
     "name": "stdout",
     "output_type": "stream",
     "text": [
      "model trained\n"
     ]
    }
   ],
   "source": [
    "lr.fit(x_train,y_train)\n",
    "dt.fit(x_train,y_train)\n",
    "rf.fit(x_train,y_train)\n",
    "kn.fit(x_train,y_train)\n",
    "print('model trained')"
   ]
  },
  {
   "cell_type": "code",
   "execution_count": 151,
   "id": "11e99683",
   "metadata": {},
   "outputs": [
    {
     "name": "stdout",
     "output_type": "stream",
     "text": [
      "model tested\n"
     ]
    }
   ],
   "source": [
    "lr.score(x_test,y_test)\n",
    "dt.score(x_test,y_test)\n",
    "rf.score(x_test,y_test)\n",
    "kn.score(x_test,y_test)\n",
    "print('model tested')"
   ]
  },
  {
   "cell_type": "code",
   "execution_count": null,
   "id": "001c52db",
   "metadata": {},
   "outputs": [],
   "source": [
    "#disp = plot_roc_curve(rf,x_train,y_train)\n",
    "\n",
    "#plot_roc_curve(lr,x_train,y_train,ax=disp.ax_)\n",
    "#plot_roc_curve(rf,x_train,y_train,ax=disp.ax_)\n",
    "#plot_roc_curve(kn,x_train,y_train,ax=disp.ax_)\n",
    "\n",
    "#plt.legend(prop={'size':11},loc='lower right')\n",
    "#plt.show()"
   ]
  },
  {
   "cell_type": "code",
   "execution_count": 154,
   "id": "949fe380",
   "metadata": {},
   "outputs": [
    {
     "data": {
      "text/html": [
       "<div>\n",
       "<style scoped>\n",
       "    .dataframe tbody tr th:only-of-type {\n",
       "        vertical-align: middle;\n",
       "    }\n",
       "\n",
       "    .dataframe tbody tr th {\n",
       "        vertical-align: top;\n",
       "    }\n",
       "\n",
       "    .dataframe thead th {\n",
       "        text-align: right;\n",
       "    }\n",
       "</style>\n",
       "<table border=\"1\" class=\"dataframe\">\n",
       "  <thead>\n",
       "    <tr style=\"text-align: right;\">\n",
       "      <th></th>\n",
       "      <th>capacity_mw</th>\n",
       "      <th>latitude</th>\n",
       "      <th>longitude</th>\n",
       "      <th>primary_fuel</th>\n",
       "      <th>commissioning_year</th>\n",
       "      <th>generation_gwh_2014</th>\n",
       "      <th>generation_gwh_2015</th>\n",
       "      <th>generation_gwh_2016</th>\n",
       "      <th>generation_gwh_2018</th>\n",
       "    </tr>\n",
       "  </thead>\n",
       "  <tbody>\n",
       "    <tr>\n",
       "      <th>905</th>\n",
       "      <td>8.944272</td>\n",
       "      <td>24.3500</td>\n",
       "      <td>8.587648</td>\n",
       "      <td>1.0</td>\n",
       "      <td>44.688825</td>\n",
       "      <td>49.313523</td>\n",
       "      <td>49.277043</td>\n",
       "      <td>49.678334</td>\n",
       "      <td>50.998079</td>\n",
       "    </tr>\n",
       "    <tr>\n",
       "      <th>906</th>\n",
       "      <td>4.062019</td>\n",
       "      <td>9.9344</td>\n",
       "      <td>8.802091</td>\n",
       "      <td>7.0</td>\n",
       "      <td>44.688825</td>\n",
       "      <td>49.313523</td>\n",
       "      <td>49.277043</td>\n",
       "      <td>49.678334</td>\n",
       "      <td>50.998079</td>\n",
       "    </tr>\n",
       "  </tbody>\n",
       "</table>\n",
       "</div>"
      ],
      "text/plain": [
       "     capacity_mw  latitude  longitude  primary_fuel  commissioning_year  \\\n",
       "905     8.944272   24.3500   8.587648           1.0           44.688825   \n",
       "906     4.062019    9.9344   8.802091           7.0           44.688825   \n",
       "\n",
       "     generation_gwh_2014  generation_gwh_2015  generation_gwh_2016  \\\n",
       "905            49.313523            49.277043            49.678334   \n",
       "906            49.313523            49.277043            49.678334   \n",
       "\n",
       "     generation_gwh_2018  \n",
       "905            50.998079  \n",
       "906            50.998079  "
      ]
     },
     "execution_count": 154,
     "metadata": {},
     "output_type": "execute_result"
    }
   ],
   "source": [
    "df.tail(2)"
   ]
  },
  {
   "cell_type": "code",
   "execution_count": 152,
   "id": "527b8d92",
   "metadata": {},
   "outputs": [
    {
     "data": {
      "text/plain": [
       "array([1.])"
      ]
     },
     "execution_count": 152,
     "metadata": {},
     "output_type": "execute_result"
    }
   ],
   "source": [
    "rf.predict(scaler.transform([[8.944272,24.3500,8.587648,44.688825,49.313523,49.277043,49.678334,50.998079]]))"
   ]
  },
  {
   "cell_type": "code",
   "execution_count": 153,
   "id": "2e83a7b7",
   "metadata": {},
   "outputs": [
    {
     "data": {
      "text/plain": [
       "array([7.])"
      ]
     },
     "execution_count": 153,
     "metadata": {},
     "output_type": "execute_result"
    }
   ],
   "source": [
    "rf.predict(scaler.transform([[4.062019,9.9344,8.802091,44.688825,49.313523,49.277043,49.678334,50.998079]]))"
   ]
  },
  {
   "cell_type": "code",
   "execution_count": null,
   "id": "4d1cec92",
   "metadata": {},
   "outputs": [],
   "source": []
  }
 ],
 "metadata": {
  "kernelspec": {
   "display_name": "Python 3 (ipykernel)",
   "language": "python",
   "name": "python3"
  },
  "language_info": {
   "codemirror_mode": {
    "name": "ipython",
    "version": 3
   },
   "file_extension": ".py",
   "mimetype": "text/x-python",
   "name": "python",
   "nbconvert_exporter": "python",
   "pygments_lexer": "ipython3",
   "version": "3.9.7"
  }
 },
 "nbformat": 4,
 "nbformat_minor": 5
}
